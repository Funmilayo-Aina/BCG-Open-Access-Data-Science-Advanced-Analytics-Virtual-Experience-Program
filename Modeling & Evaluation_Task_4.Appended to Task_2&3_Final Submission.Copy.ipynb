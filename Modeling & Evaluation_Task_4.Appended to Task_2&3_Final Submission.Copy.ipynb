{
 "cells": [
  {
   "cell_type": "markdown",
   "metadata": {},
   "source": [
    "# Modeling & Evaluation_Task_4.Appended to Task_2&3_Final Submission"
   ]
  },
  {
   "cell_type": "markdown",
   "metadata": {},
   "source": [
    "## 0.  Import Packages"
   ]
  },
  {
   "cell_type": "markdown",
   "metadata": {},
   "source": [
    "### importing relevant libraries"
   ]
  },
  {
   "cell_type": "code",
   "execution_count": 1,
   "metadata": {},
   "outputs": [],
   "source": [
    "#removes warnings\n",
    "import warnings\n",
    "warnings.filterwarnings('ignore')\n",
    "import os\n",
    "import seaborn as sns\n",
    "from sklearn.feature_selection import mutual_info_regression\n"
   ]
  },
  {
   "cell_type": "code",
   "execution_count": 2,
   "metadata": {},
   "outputs": [],
   "source": [
    "#for Data wrangling and analysis\n",
    "import pandas as pd \n",
    "import numpy as np\n",
    "\n",
    "# for feature enginneering \n",
    "from sklearn.ensemble import RandomForestRegressor\n",
    "from sklearn.model_selection import cross_val_score\n",
    "\n",
    "#for data visualations\n",
    "import seaborn as sns\n",
    "# Set plot style\n",
    "sns.set(color_codes=True)\n",
    "\n",
    "# Set maximum number of columns to be displayed\n",
    "pd.set_option('display.max_columns', 100)\n",
    "#imput values in place of missing values or NaNs\n",
    "from sklearn.impute import SimpleImputer\n",
    "#plot and show graphs\n",
    "import matplotlib.pyplot as plt\n",
    "\n",
    "%matplotlib inline\n",
    "# to read files\n",
    "\n",
    "import csv\n",
    "# for dates\n",
    "import datetime\n",
    "\n",
    "import pickle"
   ]
  },
  {
   "cell_type": "markdown",
   "metadata": {},
   "source": [
    "### 1.  Loading data"
   ]
  },
  {
   "cell_type": "markdown",
   "metadata": {},
   "source": [
    "#### Data directory"
   ]
  },
  {
   "cell_type": "code",
   "execution_count": 3,
   "metadata": {},
   "outputs": [],
   "source": [
    "train_data = pd.read_csv(r\"C:\\Users\\User\\Downloads\\BCG_Related\\ml_case_training_data.csv\")\n",
    "churn_data = pd.read_csv(r\"C:\\Users\\User\\Downloads\\BCG_Related\\ml_case_training_output.csv\")\n",
    "history_data = pd.read_csv(r\"C:\\Users\\User\\Downloads\\BCG_Related\\ml_case_training_hist_data.csv\")"
   ]
  },
  {
   "cell_type": "code",
   "execution_count": 4,
   "metadata": {},
   "outputs": [
    {
     "data": {
      "text/plain": [
       "'import os\\n\\ncwd = os.getcwd()  # Get the current working directory (cwd)\\nfiles = os.listdir(cwd)  # Get all the files in that directory\\nprint(\"Files in %r: %s\" % (cwd, files)'"
      ]
     },
     "execution_count": 4,
     "metadata": {},
     "output_type": "execute_result"
    }
   ],
   "source": [
    "\"\"\"import os\n",
    "\n",
    "cwd = os.getcwd()  # Get the current working directory (cwd)\n",
    "files = os.listdir(cwd)  # Get all the files in that directory\n",
    "print(\"Files in %r: %s\" % (cwd, files)\"\"\""
   ]
  },
  {
   "cell_type": "markdown",
   "metadata": {},
   "source": [
    "The data were imported directly into dataframe from file local location."
   ]
  },
  {
   "cell_type": "markdown",
   "metadata": {},
   "source": [
    "## Exploration of  history_data"
   ]
  },
  {
   "cell_type": "code",
   "execution_count": 5,
   "metadata": {},
   "outputs": [
    {
     "data": {
      "text/html": [
       "<div>\n",
       "<style scoped>\n",
       "    .dataframe tbody tr th:only-of-type {\n",
       "        vertical-align: middle;\n",
       "    }\n",
       "\n",
       "    .dataframe tbody tr th {\n",
       "        vertical-align: top;\n",
       "    }\n",
       "\n",
       "    .dataframe thead th {\n",
       "        text-align: right;\n",
       "    }\n",
       "</style>\n",
       "<table border=\"1\" class=\"dataframe\">\n",
       "  <thead>\n",
       "    <tr style=\"text-align: right;\">\n",
       "      <th></th>\n",
       "      <th>id</th>\n",
       "      <th>activity_new</th>\n",
       "      <th>campaign_disc_ele</th>\n",
       "      <th>channel_sales</th>\n",
       "      <th>cons_12m</th>\n",
       "      <th>cons_gas_12m</th>\n",
       "      <th>cons_last_month</th>\n",
       "      <th>date_activ</th>\n",
       "      <th>date_end</th>\n",
       "      <th>date_first_activ</th>\n",
       "      <th>date_modif_prod</th>\n",
       "      <th>date_renewal</th>\n",
       "      <th>forecast_base_bill_ele</th>\n",
       "      <th>forecast_base_bill_year</th>\n",
       "      <th>forecast_bill_12m</th>\n",
       "      <th>forecast_cons</th>\n",
       "      <th>forecast_cons_12m</th>\n",
       "      <th>forecast_cons_year</th>\n",
       "      <th>forecast_discount_energy</th>\n",
       "      <th>forecast_meter_rent_12m</th>\n",
       "      <th>forecast_price_energy_p1</th>\n",
       "      <th>forecast_price_energy_p2</th>\n",
       "      <th>forecast_price_pow_p1</th>\n",
       "      <th>has_gas</th>\n",
       "      <th>imp_cons</th>\n",
       "      <th>margin_gross_pow_ele</th>\n",
       "      <th>margin_net_pow_ele</th>\n",
       "      <th>nb_prod_act</th>\n",
       "      <th>net_margin</th>\n",
       "      <th>num_years_antig</th>\n",
       "      <th>origin_up</th>\n",
       "      <th>pow_max</th>\n",
       "    </tr>\n",
       "  </thead>\n",
       "  <tbody>\n",
       "    <tr>\n",
       "      <th>0</th>\n",
       "      <td>48ada52261e7cf58715202705a0451c9</td>\n",
       "      <td>esoiiifxdlbkcsluxmfuacbdckommixw</td>\n",
       "      <td>NaN</td>\n",
       "      <td>lmkebamcaaclubfxadlmueccxoimlema</td>\n",
       "      <td>309275</td>\n",
       "      <td>0</td>\n",
       "      <td>10025</td>\n",
       "      <td>2012-11-07</td>\n",
       "      <td>2016-11-06</td>\n",
       "      <td>NaN</td>\n",
       "      <td>2012-11-07</td>\n",
       "      <td>2015-11-09</td>\n",
       "      <td>NaN</td>\n",
       "      <td>NaN</td>\n",
       "      <td>NaN</td>\n",
       "      <td>NaN</td>\n",
       "      <td>26520.30</td>\n",
       "      <td>10025</td>\n",
       "      <td>0.0</td>\n",
       "      <td>359.29</td>\n",
       "      <td>0.095919</td>\n",
       "      <td>0.088347</td>\n",
       "      <td>58.995952</td>\n",
       "      <td>f</td>\n",
       "      <td>831.8</td>\n",
       "      <td>-41.76</td>\n",
       "      <td>-41.76</td>\n",
       "      <td>1</td>\n",
       "      <td>1732.36</td>\n",
       "      <td>3</td>\n",
       "      <td>ldkssxwpmemidmecebumciepifcamkci</td>\n",
       "      <td>180.000</td>\n",
       "    </tr>\n",
       "    <tr>\n",
       "      <th>1</th>\n",
       "      <td>24011ae4ebbe3035111d65fa7c15bc57</td>\n",
       "      <td>NaN</td>\n",
       "      <td>NaN</td>\n",
       "      <td>foosdfpfkusacimwkcsosbicdxkicaua</td>\n",
       "      <td>0</td>\n",
       "      <td>54946</td>\n",
       "      <td>0</td>\n",
       "      <td>2013-06-15</td>\n",
       "      <td>2016-06-15</td>\n",
       "      <td>NaN</td>\n",
       "      <td>NaN</td>\n",
       "      <td>2015-06-23</td>\n",
       "      <td>NaN</td>\n",
       "      <td>NaN</td>\n",
       "      <td>NaN</td>\n",
       "      <td>NaN</td>\n",
       "      <td>0.00</td>\n",
       "      <td>0</td>\n",
       "      <td>0.0</td>\n",
       "      <td>1.78</td>\n",
       "      <td>0.114481</td>\n",
       "      <td>0.098142</td>\n",
       "      <td>40.606701</td>\n",
       "      <td>t</td>\n",
       "      <td>0.0</td>\n",
       "      <td>25.44</td>\n",
       "      <td>25.44</td>\n",
       "      <td>2</td>\n",
       "      <td>678.99</td>\n",
       "      <td>3</td>\n",
       "      <td>lxidpiddsbxsbosboudacockeimpuepw</td>\n",
       "      <td>43.648</td>\n",
       "    </tr>\n",
       "    <tr>\n",
       "      <th>2</th>\n",
       "      <td>d29c2c54acc38ff3c0614d0a653813dd</td>\n",
       "      <td>NaN</td>\n",
       "      <td>NaN</td>\n",
       "      <td>NaN</td>\n",
       "      <td>4660</td>\n",
       "      <td>0</td>\n",
       "      <td>0</td>\n",
       "      <td>2009-08-21</td>\n",
       "      <td>2016-08-30</td>\n",
       "      <td>NaN</td>\n",
       "      <td>2009-08-21</td>\n",
       "      <td>2015-08-31</td>\n",
       "      <td>NaN</td>\n",
       "      <td>NaN</td>\n",
       "      <td>NaN</td>\n",
       "      <td>NaN</td>\n",
       "      <td>189.95</td>\n",
       "      <td>0</td>\n",
       "      <td>0.0</td>\n",
       "      <td>16.27</td>\n",
       "      <td>0.145711</td>\n",
       "      <td>0.000000</td>\n",
       "      <td>44.311378</td>\n",
       "      <td>f</td>\n",
       "      <td>0.0</td>\n",
       "      <td>16.38</td>\n",
       "      <td>16.38</td>\n",
       "      <td>1</td>\n",
       "      <td>18.89</td>\n",
       "      <td>6</td>\n",
       "      <td>kamkkxfxxuwbdslkwifmmcsiusiuosws</td>\n",
       "      <td>13.800</td>\n",
       "    </tr>\n",
       "    <tr>\n",
       "      <th>3</th>\n",
       "      <td>764c75f661154dac3a6c254cd082ea7d</td>\n",
       "      <td>NaN</td>\n",
       "      <td>NaN</td>\n",
       "      <td>foosdfpfkusacimwkcsosbicdxkicaua</td>\n",
       "      <td>544</td>\n",
       "      <td>0</td>\n",
       "      <td>0</td>\n",
       "      <td>2010-04-16</td>\n",
       "      <td>2016-04-16</td>\n",
       "      <td>NaN</td>\n",
       "      <td>2010-04-16</td>\n",
       "      <td>2015-04-17</td>\n",
       "      <td>NaN</td>\n",
       "      <td>NaN</td>\n",
       "      <td>NaN</td>\n",
       "      <td>NaN</td>\n",
       "      <td>47.96</td>\n",
       "      <td>0</td>\n",
       "      <td>0.0</td>\n",
       "      <td>38.72</td>\n",
       "      <td>0.165794</td>\n",
       "      <td>0.087899</td>\n",
       "      <td>44.311378</td>\n",
       "      <td>f</td>\n",
       "      <td>0.0</td>\n",
       "      <td>28.60</td>\n",
       "      <td>28.60</td>\n",
       "      <td>1</td>\n",
       "      <td>6.60</td>\n",
       "      <td>6</td>\n",
       "      <td>kamkkxfxxuwbdslkwifmmcsiusiuosws</td>\n",
       "      <td>13.856</td>\n",
       "    </tr>\n",
       "    <tr>\n",
       "      <th>4</th>\n",
       "      <td>bba03439a292a1e166f80264c16191cb</td>\n",
       "      <td>NaN</td>\n",
       "      <td>NaN</td>\n",
       "      <td>lmkebamcaaclubfxadlmueccxoimlema</td>\n",
       "      <td>1584</td>\n",
       "      <td>0</td>\n",
       "      <td>0</td>\n",
       "      <td>2010-03-30</td>\n",
       "      <td>2016-03-30</td>\n",
       "      <td>NaN</td>\n",
       "      <td>2010-03-30</td>\n",
       "      <td>2015-03-31</td>\n",
       "      <td>NaN</td>\n",
       "      <td>NaN</td>\n",
       "      <td>NaN</td>\n",
       "      <td>NaN</td>\n",
       "      <td>240.04</td>\n",
       "      <td>0</td>\n",
       "      <td>0.0</td>\n",
       "      <td>19.83</td>\n",
       "      <td>0.146694</td>\n",
       "      <td>0.000000</td>\n",
       "      <td>44.311378</td>\n",
       "      <td>f</td>\n",
       "      <td>0.0</td>\n",
       "      <td>30.22</td>\n",
       "      <td>30.22</td>\n",
       "      <td>1</td>\n",
       "      <td>25.46</td>\n",
       "      <td>6</td>\n",
       "      <td>kamkkxfxxuwbdslkwifmmcsiusiuosws</td>\n",
       "      <td>13.200</td>\n",
       "    </tr>\n",
       "  </tbody>\n",
       "</table>\n",
       "</div>"
      ],
      "text/plain": [
       "                                 id                      activity_new  \\\n",
       "0  48ada52261e7cf58715202705a0451c9  esoiiifxdlbkcsluxmfuacbdckommixw   \n",
       "1  24011ae4ebbe3035111d65fa7c15bc57                               NaN   \n",
       "2  d29c2c54acc38ff3c0614d0a653813dd                               NaN   \n",
       "3  764c75f661154dac3a6c254cd082ea7d                               NaN   \n",
       "4  bba03439a292a1e166f80264c16191cb                               NaN   \n",
       "\n",
       "   campaign_disc_ele                     channel_sales  cons_12m  \\\n",
       "0                NaN  lmkebamcaaclubfxadlmueccxoimlema    309275   \n",
       "1                NaN  foosdfpfkusacimwkcsosbicdxkicaua         0   \n",
       "2                NaN                               NaN      4660   \n",
       "3                NaN  foosdfpfkusacimwkcsosbicdxkicaua       544   \n",
       "4                NaN  lmkebamcaaclubfxadlmueccxoimlema      1584   \n",
       "\n",
       "   cons_gas_12m  cons_last_month  date_activ    date_end date_first_activ  \\\n",
       "0             0            10025  2012-11-07  2016-11-06              NaN   \n",
       "1         54946                0  2013-06-15  2016-06-15              NaN   \n",
       "2             0                0  2009-08-21  2016-08-30              NaN   \n",
       "3             0                0  2010-04-16  2016-04-16              NaN   \n",
       "4             0                0  2010-03-30  2016-03-30              NaN   \n",
       "\n",
       "  date_modif_prod date_renewal  forecast_base_bill_ele  \\\n",
       "0      2012-11-07   2015-11-09                     NaN   \n",
       "1             NaN   2015-06-23                     NaN   \n",
       "2      2009-08-21   2015-08-31                     NaN   \n",
       "3      2010-04-16   2015-04-17                     NaN   \n",
       "4      2010-03-30   2015-03-31                     NaN   \n",
       "\n",
       "   forecast_base_bill_year  forecast_bill_12m  forecast_cons  \\\n",
       "0                      NaN                NaN            NaN   \n",
       "1                      NaN                NaN            NaN   \n",
       "2                      NaN                NaN            NaN   \n",
       "3                      NaN                NaN            NaN   \n",
       "4                      NaN                NaN            NaN   \n",
       "\n",
       "   forecast_cons_12m  forecast_cons_year  forecast_discount_energy  \\\n",
       "0           26520.30               10025                       0.0   \n",
       "1               0.00                   0                       0.0   \n",
       "2             189.95                   0                       0.0   \n",
       "3              47.96                   0                       0.0   \n",
       "4             240.04                   0                       0.0   \n",
       "\n",
       "   forecast_meter_rent_12m  forecast_price_energy_p1  \\\n",
       "0                   359.29                  0.095919   \n",
       "1                     1.78                  0.114481   \n",
       "2                    16.27                  0.145711   \n",
       "3                    38.72                  0.165794   \n",
       "4                    19.83                  0.146694   \n",
       "\n",
       "   forecast_price_energy_p2  forecast_price_pow_p1 has_gas  imp_cons  \\\n",
       "0                  0.088347              58.995952       f     831.8   \n",
       "1                  0.098142              40.606701       t       0.0   \n",
       "2                  0.000000              44.311378       f       0.0   \n",
       "3                  0.087899              44.311378       f       0.0   \n",
       "4                  0.000000              44.311378       f       0.0   \n",
       "\n",
       "   margin_gross_pow_ele  margin_net_pow_ele  nb_prod_act  net_margin  \\\n",
       "0                -41.76              -41.76            1     1732.36   \n",
       "1                 25.44               25.44            2      678.99   \n",
       "2                 16.38               16.38            1       18.89   \n",
       "3                 28.60               28.60            1        6.60   \n",
       "4                 30.22               30.22            1       25.46   \n",
       "\n",
       "   num_years_antig                         origin_up  pow_max  \n",
       "0                3  ldkssxwpmemidmecebumciepifcamkci  180.000  \n",
       "1                3  lxidpiddsbxsbosboudacockeimpuepw   43.648  \n",
       "2                6  kamkkxfxxuwbdslkwifmmcsiusiuosws   13.800  \n",
       "3                6  kamkkxfxxuwbdslkwifmmcsiusiuosws   13.856  \n",
       "4                6  kamkkxfxxuwbdslkwifmmcsiusiuosws   13.200  "
      ]
     },
     "execution_count": 5,
     "metadata": {},
     "output_type": "execute_result"
    }
   ],
   "source": [
    "train_data.head()"
   ]
  },
  {
   "cell_type": "markdown",
   "metadata": {},
   "source": [
    "From above we can already see that there are a lot of NaN values. We will replace or remove those values later.\n",
    "\n",
    "The ﬁrst 5 rows of the dataframe also show us that there is numeric data and categorical data, which we will need to transform to the right form for machine larning purpose."
   ]
  },
  {
   "cell_type": "code",
   "execution_count": 6,
   "metadata": {},
   "outputs": [
    {
     "data": {
      "text/plain": [
       "pandas.core.frame.DataFrame"
      ]
     },
     "execution_count": 6,
     "metadata": {},
     "output_type": "execute_result"
    }
   ],
   "source": [
    "# checking the data type\n",
    "type(train_data)"
   ]
  },
  {
   "cell_type": "code",
   "execution_count": 8,
   "metadata": {},
   "outputs": [
    {
     "data": {
      "text/html": [
       "<div>\n",
       "<style scoped>\n",
       "    .dataframe tbody tr th:only-of-type {\n",
       "        vertical-align: middle;\n",
       "    }\n",
       "\n",
       "    .dataframe tbody tr th {\n",
       "        vertical-align: top;\n",
       "    }\n",
       "\n",
       "    .dataframe thead th {\n",
       "        text-align: right;\n",
       "    }\n",
       "</style>\n",
       "<table border=\"1\" class=\"dataframe\">\n",
       "  <thead>\n",
       "    <tr style=\"text-align: right;\">\n",
       "      <th></th>\n",
       "      <th>id</th>\n",
       "      <th>churn</th>\n",
       "    </tr>\n",
       "  </thead>\n",
       "  <tbody>\n",
       "    <tr>\n",
       "      <th>0</th>\n",
       "      <td>48ada52261e7cf58715202705a0451c9</td>\n",
       "      <td>0</td>\n",
       "    </tr>\n",
       "    <tr>\n",
       "      <th>1</th>\n",
       "      <td>24011ae4ebbe3035111d65fa7c15bc57</td>\n",
       "      <td>1</td>\n",
       "    </tr>\n",
       "    <tr>\n",
       "      <th>2</th>\n",
       "      <td>d29c2c54acc38ff3c0614d0a653813dd</td>\n",
       "      <td>0</td>\n",
       "    </tr>\n",
       "    <tr>\n",
       "      <th>3</th>\n",
       "      <td>764c75f661154dac3a6c254cd082ea7d</td>\n",
       "      <td>0</td>\n",
       "    </tr>\n",
       "    <tr>\n",
       "      <th>4</th>\n",
       "      <td>bba03439a292a1e166f80264c16191cb</td>\n",
       "      <td>0</td>\n",
       "    </tr>\n",
       "  </tbody>\n",
       "</table>\n",
       "</div>"
      ],
      "text/plain": [
       "                                 id  churn\n",
       "0  48ada52261e7cf58715202705a0451c9      0\n",
       "1  24011ae4ebbe3035111d65fa7c15bc57      1\n",
       "2  d29c2c54acc38ff3c0614d0a653813dd      0\n",
       "3  764c75f661154dac3a6c254cd082ea7d      0\n",
       "4  bba03439a292a1e166f80264c16191cb      0"
      ]
     },
     "execution_count": 8,
     "metadata": {},
     "output_type": "execute_result"
    }
   ],
   "source": [
    "churn_data.head()"
   ]
  },
  {
   "cell_type": "markdown",
   "metadata": {},
   "source": [
    "It seems the churn data is in the correct format as it shows 0 for not churned and 1 for churned. There would be no need to convert."
   ]
  },
  {
   "cell_type": "code",
   "execution_count": 10,
   "metadata": {},
   "outputs": [
    {
     "data": {
      "text/html": [
       "<div>\n",
       "<style scoped>\n",
       "    .dataframe tbody tr th:only-of-type {\n",
       "        vertical-align: middle;\n",
       "    }\n",
       "\n",
       "    .dataframe tbody tr th {\n",
       "        vertical-align: top;\n",
       "    }\n",
       "\n",
       "    .dataframe thead th {\n",
       "        text-align: right;\n",
       "    }\n",
       "</style>\n",
       "<table border=\"1\" class=\"dataframe\">\n",
       "  <thead>\n",
       "    <tr style=\"text-align: right;\">\n",
       "      <th></th>\n",
       "      <th>id</th>\n",
       "      <th>price_date</th>\n",
       "      <th>price_p1_var</th>\n",
       "      <th>price_p2_var</th>\n",
       "      <th>price_p3_var</th>\n",
       "      <th>price_p1_fix</th>\n",
       "      <th>price_p2_fix</th>\n",
       "      <th>price_p3_fix</th>\n",
       "    </tr>\n",
       "  </thead>\n",
       "  <tbody>\n",
       "    <tr>\n",
       "      <th>0</th>\n",
       "      <td>038af19179925da21a25619c5a24b745</td>\n",
       "      <td>2015-01-01</td>\n",
       "      <td>0.151367</td>\n",
       "      <td>0.0</td>\n",
       "      <td>0.0</td>\n",
       "      <td>44.266931</td>\n",
       "      <td>0.0</td>\n",
       "      <td>0.0</td>\n",
       "    </tr>\n",
       "    <tr>\n",
       "      <th>1</th>\n",
       "      <td>038af19179925da21a25619c5a24b745</td>\n",
       "      <td>2015-02-01</td>\n",
       "      <td>0.151367</td>\n",
       "      <td>0.0</td>\n",
       "      <td>0.0</td>\n",
       "      <td>44.266931</td>\n",
       "      <td>0.0</td>\n",
       "      <td>0.0</td>\n",
       "    </tr>\n",
       "    <tr>\n",
       "      <th>2</th>\n",
       "      <td>038af19179925da21a25619c5a24b745</td>\n",
       "      <td>2015-03-01</td>\n",
       "      <td>0.151367</td>\n",
       "      <td>0.0</td>\n",
       "      <td>0.0</td>\n",
       "      <td>44.266931</td>\n",
       "      <td>0.0</td>\n",
       "      <td>0.0</td>\n",
       "    </tr>\n",
       "    <tr>\n",
       "      <th>3</th>\n",
       "      <td>038af19179925da21a25619c5a24b745</td>\n",
       "      <td>2015-04-01</td>\n",
       "      <td>0.149626</td>\n",
       "      <td>0.0</td>\n",
       "      <td>0.0</td>\n",
       "      <td>44.266931</td>\n",
       "      <td>0.0</td>\n",
       "      <td>0.0</td>\n",
       "    </tr>\n",
       "    <tr>\n",
       "      <th>4</th>\n",
       "      <td>038af19179925da21a25619c5a24b745</td>\n",
       "      <td>2015-05-01</td>\n",
       "      <td>0.149626</td>\n",
       "      <td>0.0</td>\n",
       "      <td>0.0</td>\n",
       "      <td>44.266931</td>\n",
       "      <td>0.0</td>\n",
       "      <td>0.0</td>\n",
       "    </tr>\n",
       "  </tbody>\n",
       "</table>\n",
       "</div>"
      ],
      "text/plain": [
       "                                 id  price_date  price_p1_var  price_p2_var  \\\n",
       "0  038af19179925da21a25619c5a24b745  2015-01-01      0.151367           0.0   \n",
       "1  038af19179925da21a25619c5a24b745  2015-02-01      0.151367           0.0   \n",
       "2  038af19179925da21a25619c5a24b745  2015-03-01      0.151367           0.0   \n",
       "3  038af19179925da21a25619c5a24b745  2015-04-01      0.149626           0.0   \n",
       "4  038af19179925da21a25619c5a24b745  2015-05-01      0.149626           0.0   \n",
       "\n",
       "   price_p3_var  price_p1_fix  price_p2_fix  price_p3_fix  \n",
       "0           0.0     44.266931           0.0           0.0  \n",
       "1           0.0     44.266931           0.0           0.0  \n",
       "2           0.0     44.266931           0.0           0.0  \n",
       "3           0.0     44.266931           0.0           0.0  \n",
       "4           0.0     44.266931           0.0           0.0  "
      ]
     },
     "execution_count": 10,
     "metadata": {},
     "output_type": "execute_result"
    }
   ],
   "source": [
    "history_data.head()"
   ]
  },
  {
   "cell_type": "markdown",
   "metadata": {},
   "source": [
    "a lot of values are zeros in the historic data"
   ]
  },
  {
   "cell_type": "markdown",
   "metadata": {},
   "source": [
    "### Combining two dataframes"
   ]
  },
  {
   "cell_type": "markdown",
   "metadata": {},
   "source": [
    "We loaded data in two different pandas dataframes. Nonetheless, we might be interested in putting the data into a single dataframe to access it more easily. We can merge the two dataframes on a common column ( id ) using the function pd.merge() from pandas."
   ]
  },
  {
   "cell_type": "code",
   "execution_count": 11,
   "metadata": {},
   "outputs": [
    {
     "data": {
      "text/html": [
       "<div>\n",
       "<style scoped>\n",
       "    .dataframe tbody tr th:only-of-type {\n",
       "        vertical-align: middle;\n",
       "    }\n",
       "\n",
       "    .dataframe tbody tr th {\n",
       "        vertical-align: top;\n",
       "    }\n",
       "\n",
       "    .dataframe thead th {\n",
       "        text-align: right;\n",
       "    }\n",
       "</style>\n",
       "<table border=\"1\" class=\"dataframe\">\n",
       "  <thead>\n",
       "    <tr style=\"text-align: right;\">\n",
       "      <th></th>\n",
       "      <th>id</th>\n",
       "      <th>activity_new</th>\n",
       "      <th>campaign_disc_ele</th>\n",
       "      <th>channel_sales</th>\n",
       "      <th>cons_12m</th>\n",
       "      <th>cons_gas_12m</th>\n",
       "      <th>cons_last_month</th>\n",
       "      <th>date_activ</th>\n",
       "      <th>date_end</th>\n",
       "      <th>date_first_activ</th>\n",
       "      <th>date_modif_prod</th>\n",
       "      <th>date_renewal</th>\n",
       "      <th>forecast_base_bill_ele</th>\n",
       "      <th>forecast_base_bill_year</th>\n",
       "      <th>forecast_bill_12m</th>\n",
       "      <th>forecast_cons</th>\n",
       "      <th>forecast_cons_12m</th>\n",
       "      <th>forecast_cons_year</th>\n",
       "      <th>forecast_discount_energy</th>\n",
       "      <th>forecast_meter_rent_12m</th>\n",
       "      <th>forecast_price_energy_p1</th>\n",
       "      <th>forecast_price_energy_p2</th>\n",
       "      <th>forecast_price_pow_p1</th>\n",
       "      <th>has_gas</th>\n",
       "      <th>imp_cons</th>\n",
       "      <th>margin_gross_pow_ele</th>\n",
       "      <th>margin_net_pow_ele</th>\n",
       "      <th>nb_prod_act</th>\n",
       "      <th>net_margin</th>\n",
       "      <th>num_years_antig</th>\n",
       "      <th>origin_up</th>\n",
       "      <th>pow_max</th>\n",
       "      <th>churn</th>\n",
       "    </tr>\n",
       "  </thead>\n",
       "  <tbody>\n",
       "    <tr>\n",
       "      <th>16091</th>\n",
       "      <td>18463073fb097fc0ac5d3e040f356987</td>\n",
       "      <td>NaN</td>\n",
       "      <td>NaN</td>\n",
       "      <td>foosdfpfkusacimwkcsosbicdxkicaua</td>\n",
       "      <td>32270</td>\n",
       "      <td>47940</td>\n",
       "      <td>0</td>\n",
       "      <td>2012-05-24</td>\n",
       "      <td>2016-05-08</td>\n",
       "      <td>NaN</td>\n",
       "      <td>2015-05-08</td>\n",
       "      <td>2014-05-26</td>\n",
       "      <td>NaN</td>\n",
       "      <td>NaN</td>\n",
       "      <td>NaN</td>\n",
       "      <td>NaN</td>\n",
       "      <td>4648.01</td>\n",
       "      <td>0</td>\n",
       "      <td>0.0</td>\n",
       "      <td>18.57</td>\n",
       "      <td>0.138305</td>\n",
       "      <td>0.000000</td>\n",
       "      <td>44.311378</td>\n",
       "      <td>t</td>\n",
       "      <td>0.00</td>\n",
       "      <td>27.88</td>\n",
       "      <td>27.88</td>\n",
       "      <td>2</td>\n",
       "      <td>381.77</td>\n",
       "      <td>4</td>\n",
       "      <td>lxidpiddsbxsbosboudacockeimpuepw</td>\n",
       "      <td>15.000</td>\n",
       "      <td>0</td>\n",
       "    </tr>\n",
       "    <tr>\n",
       "      <th>16092</th>\n",
       "      <td>d0a6f71671571ed83b2645d23af6de00</td>\n",
       "      <td>NaN</td>\n",
       "      <td>NaN</td>\n",
       "      <td>foosdfpfkusacimwkcsosbicdxkicaua</td>\n",
       "      <td>7223</td>\n",
       "      <td>0</td>\n",
       "      <td>181</td>\n",
       "      <td>2012-08-27</td>\n",
       "      <td>2016-08-27</td>\n",
       "      <td>2012-08-27</td>\n",
       "      <td>2012-08-27</td>\n",
       "      <td>2015-08-28</td>\n",
       "      <td>68.64</td>\n",
       "      <td>68.64</td>\n",
       "      <td>1254.65</td>\n",
       "      <td>15.94</td>\n",
       "      <td>631.69</td>\n",
       "      <td>181</td>\n",
       "      <td>0.0</td>\n",
       "      <td>144.03</td>\n",
       "      <td>0.100167</td>\n",
       "      <td>0.091892</td>\n",
       "      <td>58.995952</td>\n",
       "      <td>f</td>\n",
       "      <td>15.94</td>\n",
       "      <td>0.00</td>\n",
       "      <td>0.00</td>\n",
       "      <td>1</td>\n",
       "      <td>90.34</td>\n",
       "      <td>3</td>\n",
       "      <td>lxidpiddsbxsbosboudacockeimpuepw</td>\n",
       "      <td>6.000</td>\n",
       "      <td>1</td>\n",
       "    </tr>\n",
       "    <tr>\n",
       "      <th>16093</th>\n",
       "      <td>10e6828ddd62cbcf687cb74928c4c2d2</td>\n",
       "      <td>NaN</td>\n",
       "      <td>NaN</td>\n",
       "      <td>foosdfpfkusacimwkcsosbicdxkicaua</td>\n",
       "      <td>1844</td>\n",
       "      <td>0</td>\n",
       "      <td>179</td>\n",
       "      <td>2012-02-08</td>\n",
       "      <td>2016-02-07</td>\n",
       "      <td>NaN</td>\n",
       "      <td>2012-02-08</td>\n",
       "      <td>2015-02-09</td>\n",
       "      <td>NaN</td>\n",
       "      <td>NaN</td>\n",
       "      <td>NaN</td>\n",
       "      <td>NaN</td>\n",
       "      <td>190.39</td>\n",
       "      <td>179</td>\n",
       "      <td>0.0</td>\n",
       "      <td>129.60</td>\n",
       "      <td>0.116900</td>\n",
       "      <td>0.100015</td>\n",
       "      <td>40.606701</td>\n",
       "      <td>f</td>\n",
       "      <td>18.05</td>\n",
       "      <td>39.84</td>\n",
       "      <td>39.84</td>\n",
       "      <td>1</td>\n",
       "      <td>20.38</td>\n",
       "      <td>4</td>\n",
       "      <td>lxidpiddsbxsbosboudacockeimpuepw</td>\n",
       "      <td>15.935</td>\n",
       "      <td>1</td>\n",
       "    </tr>\n",
       "    <tr>\n",
       "      <th>16094</th>\n",
       "      <td>1cf20fd6206d7678d5bcafd28c53b4db</td>\n",
       "      <td>NaN</td>\n",
       "      <td>NaN</td>\n",
       "      <td>foosdfpfkusacimwkcsosbicdxkicaua</td>\n",
       "      <td>131</td>\n",
       "      <td>0</td>\n",
       "      <td>0</td>\n",
       "      <td>2012-08-30</td>\n",
       "      <td>2016-08-30</td>\n",
       "      <td>NaN</td>\n",
       "      <td>2012-08-30</td>\n",
       "      <td>2015-08-31</td>\n",
       "      <td>NaN</td>\n",
       "      <td>NaN</td>\n",
       "      <td>NaN</td>\n",
       "      <td>NaN</td>\n",
       "      <td>19.34</td>\n",
       "      <td>0</td>\n",
       "      <td>0.0</td>\n",
       "      <td>7.18</td>\n",
       "      <td>0.145711</td>\n",
       "      <td>0.000000</td>\n",
       "      <td>44.311378</td>\n",
       "      <td>f</td>\n",
       "      <td>0.00</td>\n",
       "      <td>13.08</td>\n",
       "      <td>13.08</td>\n",
       "      <td>1</td>\n",
       "      <td>0.96</td>\n",
       "      <td>3</td>\n",
       "      <td>lxidpiddsbxsbosboudacockeimpuepw</td>\n",
       "      <td>11.000</td>\n",
       "      <td>0</td>\n",
       "    </tr>\n",
       "    <tr>\n",
       "      <th>16095</th>\n",
       "      <td>563dde550fd624d7352f3de77c0cdfcd</td>\n",
       "      <td>NaN</td>\n",
       "      <td>NaN</td>\n",
       "      <td>NaN</td>\n",
       "      <td>8730</td>\n",
       "      <td>0</td>\n",
       "      <td>0</td>\n",
       "      <td>2009-12-18</td>\n",
       "      <td>2016-12-17</td>\n",
       "      <td>NaN</td>\n",
       "      <td>2009-12-18</td>\n",
       "      <td>2015-12-21</td>\n",
       "      <td>NaN</td>\n",
       "      <td>NaN</td>\n",
       "      <td>NaN</td>\n",
       "      <td>NaN</td>\n",
       "      <td>762.41</td>\n",
       "      <td>0</td>\n",
       "      <td>0.0</td>\n",
       "      <td>1.07</td>\n",
       "      <td>0.167086</td>\n",
       "      <td>0.088454</td>\n",
       "      <td>45.311378</td>\n",
       "      <td>f</td>\n",
       "      <td>0.00</td>\n",
       "      <td>11.84</td>\n",
       "      <td>11.84</td>\n",
       "      <td>1</td>\n",
       "      <td>96.34</td>\n",
       "      <td>6</td>\n",
       "      <td>ldkssxwpmemidmecebumciepifcamkci</td>\n",
       "      <td>10.392</td>\n",
       "      <td>0</td>\n",
       "    </tr>\n",
       "  </tbody>\n",
       "</table>\n",
       "</div>"
      ],
      "text/plain": [
       "                                     id activity_new  campaign_disc_ele  \\\n",
       "16091  18463073fb097fc0ac5d3e040f356987          NaN                NaN   \n",
       "16092  d0a6f71671571ed83b2645d23af6de00          NaN                NaN   \n",
       "16093  10e6828ddd62cbcf687cb74928c4c2d2          NaN                NaN   \n",
       "16094  1cf20fd6206d7678d5bcafd28c53b4db          NaN                NaN   \n",
       "16095  563dde550fd624d7352f3de77c0cdfcd          NaN                NaN   \n",
       "\n",
       "                          channel_sales  cons_12m  cons_gas_12m  \\\n",
       "16091  foosdfpfkusacimwkcsosbicdxkicaua     32270         47940   \n",
       "16092  foosdfpfkusacimwkcsosbicdxkicaua      7223             0   \n",
       "16093  foosdfpfkusacimwkcsosbicdxkicaua      1844             0   \n",
       "16094  foosdfpfkusacimwkcsosbicdxkicaua       131             0   \n",
       "16095                               NaN      8730             0   \n",
       "\n",
       "       cons_last_month  date_activ    date_end date_first_activ  \\\n",
       "16091                0  2012-05-24  2016-05-08              NaN   \n",
       "16092              181  2012-08-27  2016-08-27       2012-08-27   \n",
       "16093              179  2012-02-08  2016-02-07              NaN   \n",
       "16094                0  2012-08-30  2016-08-30              NaN   \n",
       "16095                0  2009-12-18  2016-12-17              NaN   \n",
       "\n",
       "      date_modif_prod date_renewal  forecast_base_bill_ele  \\\n",
       "16091      2015-05-08   2014-05-26                     NaN   \n",
       "16092      2012-08-27   2015-08-28                   68.64   \n",
       "16093      2012-02-08   2015-02-09                     NaN   \n",
       "16094      2012-08-30   2015-08-31                     NaN   \n",
       "16095      2009-12-18   2015-12-21                     NaN   \n",
       "\n",
       "       forecast_base_bill_year  forecast_bill_12m  forecast_cons  \\\n",
       "16091                      NaN                NaN            NaN   \n",
       "16092                    68.64            1254.65          15.94   \n",
       "16093                      NaN                NaN            NaN   \n",
       "16094                      NaN                NaN            NaN   \n",
       "16095                      NaN                NaN            NaN   \n",
       "\n",
       "       forecast_cons_12m  forecast_cons_year  forecast_discount_energy  \\\n",
       "16091            4648.01                   0                       0.0   \n",
       "16092             631.69                 181                       0.0   \n",
       "16093             190.39                 179                       0.0   \n",
       "16094              19.34                   0                       0.0   \n",
       "16095             762.41                   0                       0.0   \n",
       "\n",
       "       forecast_meter_rent_12m  forecast_price_energy_p1  \\\n",
       "16091                    18.57                  0.138305   \n",
       "16092                   144.03                  0.100167   \n",
       "16093                   129.60                  0.116900   \n",
       "16094                     7.18                  0.145711   \n",
       "16095                     1.07                  0.167086   \n",
       "\n",
       "       forecast_price_energy_p2  forecast_price_pow_p1 has_gas  imp_cons  \\\n",
       "16091                  0.000000              44.311378       t      0.00   \n",
       "16092                  0.091892              58.995952       f     15.94   \n",
       "16093                  0.100015              40.606701       f     18.05   \n",
       "16094                  0.000000              44.311378       f      0.00   \n",
       "16095                  0.088454              45.311378       f      0.00   \n",
       "\n",
       "       margin_gross_pow_ele  margin_net_pow_ele  nb_prod_act  net_margin  \\\n",
       "16091                 27.88               27.88            2      381.77   \n",
       "16092                  0.00                0.00            1       90.34   \n",
       "16093                 39.84               39.84            1       20.38   \n",
       "16094                 13.08               13.08            1        0.96   \n",
       "16095                 11.84               11.84            1       96.34   \n",
       "\n",
       "       num_years_antig                         origin_up  pow_max  churn  \n",
       "16091                4  lxidpiddsbxsbosboudacockeimpuepw   15.000      0  \n",
       "16092                3  lxidpiddsbxsbosboudacockeimpuepw    6.000      1  \n",
       "16093                4  lxidpiddsbxsbosboudacockeimpuepw   15.935      1  \n",
       "16094                3  lxidpiddsbxsbosboudacockeimpuepw   11.000      0  \n",
       "16095                6  ldkssxwpmemidmecebumciepifcamkci   10.392      0  "
      ]
     },
     "execution_count": 11,
     "metadata": {},
     "output_type": "execute_result"
    }
   ],
   "source": [
    "#last  5 row of the combined dataframe.\n",
    "train = pd.merge(train_data, churn_data, on=\"id\")\n",
    "train.tail()"
   ]
  },
  {
   "cell_type": "markdown",
   "metadata": {},
   "source": [
    "2. ## General statistics of the aggregated dataframe"
   ]
  },
  {
   "cell_type": "markdown",
   "metadata": {},
   "source": [
    "\n",
    "#### Data types\n",
    "it important to understand the dataset when dealing with analysis, as the data types might end up causing errors into our analysis at a later stage.\n",
    "\n",
    "Below, we can quickly see the dates in our dataset are not datetime types yet, which means we might need to convert them. In addition, we can see that the churn is full of integers so we can keep it in that form.\n",
    "\n",
    "It usually useful to transform data into dataframe  to facilitate visualization.\n",
    "\n"
   ]
  },
  {
   "cell_type": "code",
   "execution_count": 12,
   "metadata": {},
   "outputs": [
    {
     "data": {
      "text/html": [
       "<div>\n",
       "<style scoped>\n",
       "    .dataframe tbody tr th:only-of-type {\n",
       "        vertical-align: middle;\n",
       "    }\n",
       "\n",
       "    .dataframe tbody tr th {\n",
       "        vertical-align: top;\n",
       "    }\n",
       "\n",
       "    .dataframe thead th {\n",
       "        text-align: right;\n",
       "    }\n",
       "</style>\n",
       "<table border=\"1\" class=\"dataframe\">\n",
       "  <thead>\n",
       "    <tr style=\"text-align: right;\">\n",
       "      <th></th>\n",
       "      <th>Data type</th>\n",
       "    </tr>\n",
       "  </thead>\n",
       "  <tbody>\n",
       "    <tr>\n",
       "      <th>id</th>\n",
       "      <td>object</td>\n",
       "    </tr>\n",
       "    <tr>\n",
       "      <th>activity_new</th>\n",
       "      <td>object</td>\n",
       "    </tr>\n",
       "    <tr>\n",
       "      <th>campaign_disc_ele</th>\n",
       "      <td>float64</td>\n",
       "    </tr>\n",
       "    <tr>\n",
       "      <th>channel_sales</th>\n",
       "      <td>object</td>\n",
       "    </tr>\n",
       "    <tr>\n",
       "      <th>cons_12m</th>\n",
       "      <td>int64</td>\n",
       "    </tr>\n",
       "    <tr>\n",
       "      <th>cons_gas_12m</th>\n",
       "      <td>int64</td>\n",
       "    </tr>\n",
       "    <tr>\n",
       "      <th>cons_last_month</th>\n",
       "      <td>int64</td>\n",
       "    </tr>\n",
       "    <tr>\n",
       "      <th>date_activ</th>\n",
       "      <td>object</td>\n",
       "    </tr>\n",
       "    <tr>\n",
       "      <th>date_end</th>\n",
       "      <td>object</td>\n",
       "    </tr>\n",
       "    <tr>\n",
       "      <th>date_first_activ</th>\n",
       "      <td>object</td>\n",
       "    </tr>\n",
       "    <tr>\n",
       "      <th>date_modif_prod</th>\n",
       "      <td>object</td>\n",
       "    </tr>\n",
       "    <tr>\n",
       "      <th>date_renewal</th>\n",
       "      <td>object</td>\n",
       "    </tr>\n",
       "    <tr>\n",
       "      <th>forecast_base_bill_ele</th>\n",
       "      <td>float64</td>\n",
       "    </tr>\n",
       "    <tr>\n",
       "      <th>forecast_base_bill_year</th>\n",
       "      <td>float64</td>\n",
       "    </tr>\n",
       "    <tr>\n",
       "      <th>forecast_bill_12m</th>\n",
       "      <td>float64</td>\n",
       "    </tr>\n",
       "    <tr>\n",
       "      <th>forecast_cons</th>\n",
       "      <td>float64</td>\n",
       "    </tr>\n",
       "    <tr>\n",
       "      <th>forecast_cons_12m</th>\n",
       "      <td>float64</td>\n",
       "    </tr>\n",
       "    <tr>\n",
       "      <th>forecast_cons_year</th>\n",
       "      <td>int64</td>\n",
       "    </tr>\n",
       "    <tr>\n",
       "      <th>forecast_discount_energy</th>\n",
       "      <td>float64</td>\n",
       "    </tr>\n",
       "    <tr>\n",
       "      <th>forecast_meter_rent_12m</th>\n",
       "      <td>float64</td>\n",
       "    </tr>\n",
       "    <tr>\n",
       "      <th>forecast_price_energy_p1</th>\n",
       "      <td>float64</td>\n",
       "    </tr>\n",
       "    <tr>\n",
       "      <th>forecast_price_energy_p2</th>\n",
       "      <td>float64</td>\n",
       "    </tr>\n",
       "    <tr>\n",
       "      <th>forecast_price_pow_p1</th>\n",
       "      <td>float64</td>\n",
       "    </tr>\n",
       "    <tr>\n",
       "      <th>has_gas</th>\n",
       "      <td>object</td>\n",
       "    </tr>\n",
       "    <tr>\n",
       "      <th>imp_cons</th>\n",
       "      <td>float64</td>\n",
       "    </tr>\n",
       "    <tr>\n",
       "      <th>margin_gross_pow_ele</th>\n",
       "      <td>float64</td>\n",
       "    </tr>\n",
       "    <tr>\n",
       "      <th>margin_net_pow_ele</th>\n",
       "      <td>float64</td>\n",
       "    </tr>\n",
       "    <tr>\n",
       "      <th>nb_prod_act</th>\n",
       "      <td>int64</td>\n",
       "    </tr>\n",
       "    <tr>\n",
       "      <th>net_margin</th>\n",
       "      <td>float64</td>\n",
       "    </tr>\n",
       "    <tr>\n",
       "      <th>num_years_antig</th>\n",
       "      <td>int64</td>\n",
       "    </tr>\n",
       "    <tr>\n",
       "      <th>origin_up</th>\n",
       "      <td>object</td>\n",
       "    </tr>\n",
       "    <tr>\n",
       "      <th>pow_max</th>\n",
       "      <td>float64</td>\n",
       "    </tr>\n",
       "    <tr>\n",
       "      <th>churn</th>\n",
       "      <td>int64</td>\n",
       "    </tr>\n",
       "  </tbody>\n",
       "</table>\n",
       "</div>"
      ],
      "text/plain": [
       "                         Data type\n",
       "id                          object\n",
       "activity_new                object\n",
       "campaign_disc_ele          float64\n",
       "channel_sales               object\n",
       "cons_12m                     int64\n",
       "cons_gas_12m                 int64\n",
       "cons_last_month              int64\n",
       "date_activ                  object\n",
       "date_end                    object\n",
       "date_first_activ            object\n",
       "date_modif_prod             object\n",
       "date_renewal                object\n",
       "forecast_base_bill_ele     float64\n",
       "forecast_base_bill_year    float64\n",
       "forecast_bill_12m          float64\n",
       "forecast_cons              float64\n",
       "forecast_cons_12m          float64\n",
       "forecast_cons_year           int64\n",
       "forecast_discount_energy   float64\n",
       "forecast_meter_rent_12m    float64\n",
       "forecast_price_energy_p1   float64\n",
       "forecast_price_energy_p2   float64\n",
       "forecast_price_pow_p1      float64\n",
       "has_gas                     object\n",
       "imp_cons                   float64\n",
       "margin_gross_pow_ele       float64\n",
       "margin_net_pow_ele         float64\n",
       "nb_prod_act                  int64\n",
       "net_margin                 float64\n",
       "num_years_antig              int64\n",
       "origin_up                   object\n",
       "pow_max                    float64\n",
       "churn                        int64"
      ]
     },
     "execution_count": 12,
     "metadata": {},
     "output_type": "execute_result"
    }
   ],
   "source": [
    "pd.DataFrame({\"Data type\":train.dtypes})"
   ]
  },
  {
   "cell_type": "code",
   "execution_count": 13,
   "metadata": {},
   "outputs": [
    {
     "data": {
      "text/html": [
       "<div>\n",
       "<style scoped>\n",
       "    .dataframe tbody tr th:only-of-type {\n",
       "        vertical-align: middle;\n",
       "    }\n",
       "\n",
       "    .dataframe tbody tr th {\n",
       "        vertical-align: top;\n",
       "    }\n",
       "\n",
       "    .dataframe thead th {\n",
       "        text-align: right;\n",
       "    }\n",
       "</style>\n",
       "<table border=\"1\" class=\"dataframe\">\n",
       "  <thead>\n",
       "    <tr style=\"text-align: right;\">\n",
       "      <th></th>\n",
       "      <th>Data type</th>\n",
       "    </tr>\n",
       "  </thead>\n",
       "  <tbody>\n",
       "    <tr>\n",
       "      <th>id</th>\n",
       "      <td>object</td>\n",
       "    </tr>\n",
       "    <tr>\n",
       "      <th>price_date</th>\n",
       "      <td>object</td>\n",
       "    </tr>\n",
       "    <tr>\n",
       "      <th>price_p1_var</th>\n",
       "      <td>float64</td>\n",
       "    </tr>\n",
       "    <tr>\n",
       "      <th>price_p2_var</th>\n",
       "      <td>float64</td>\n",
       "    </tr>\n",
       "    <tr>\n",
       "      <th>price_p3_var</th>\n",
       "      <td>float64</td>\n",
       "    </tr>\n",
       "    <tr>\n",
       "      <th>price_p1_fix</th>\n",
       "      <td>float64</td>\n",
       "    </tr>\n",
       "    <tr>\n",
       "      <th>price_p2_fix</th>\n",
       "      <td>float64</td>\n",
       "    </tr>\n",
       "    <tr>\n",
       "      <th>price_p3_fix</th>\n",
       "      <td>float64</td>\n",
       "    </tr>\n",
       "  </tbody>\n",
       "</table>\n",
       "</div>"
      ],
      "text/plain": [
       "             Data type\n",
       "id              object\n",
       "price_date      object\n",
       "price_p1_var   float64\n",
       "price_p2_var   float64\n",
       "price_p3_var   float64\n",
       "price_p1_fix   float64\n",
       "price_p2_fix   float64\n",
       "price_p3_fix   float64"
      ]
     },
     "execution_count": 13,
     "metadata": {},
     "output_type": "execute_result"
    }
   ],
   "source": [
    "pd.DataFrame({\"Data type\":history_data.dtypes})"
   ]
  },
  {
   "cell_type": "markdown",
   "metadata": {},
   "source": [
    "### Dataframe statistics"
   ]
  },
  {
   "cell_type": "code",
   "execution_count": 14,
   "metadata": {},
   "outputs": [
    {
     "data": {
      "text/html": [
       "<div>\n",
       "<style scoped>\n",
       "    .dataframe tbody tr th:only-of-type {\n",
       "        vertical-align: middle;\n",
       "    }\n",
       "\n",
       "    .dataframe tbody tr th {\n",
       "        vertical-align: top;\n",
       "    }\n",
       "\n",
       "    .dataframe thead th {\n",
       "        text-align: right;\n",
       "    }\n",
       "</style>\n",
       "<table border=\"1\" class=\"dataframe\">\n",
       "  <thead>\n",
       "    <tr style=\"text-align: right;\">\n",
       "      <th></th>\n",
       "      <th>campaign_disc_ele</th>\n",
       "      <th>cons_12m</th>\n",
       "      <th>cons_gas_12m</th>\n",
       "      <th>cons_last_month</th>\n",
       "      <th>forecast_base_bill_ele</th>\n",
       "      <th>forecast_base_bill_year</th>\n",
       "      <th>forecast_bill_12m</th>\n",
       "      <th>forecast_cons</th>\n",
       "      <th>forecast_cons_12m</th>\n",
       "      <th>forecast_cons_year</th>\n",
       "      <th>forecast_discount_energy</th>\n",
       "      <th>forecast_meter_rent_12m</th>\n",
       "      <th>forecast_price_energy_p1</th>\n",
       "      <th>forecast_price_energy_p2</th>\n",
       "      <th>forecast_price_pow_p1</th>\n",
       "      <th>imp_cons</th>\n",
       "      <th>margin_gross_pow_ele</th>\n",
       "      <th>margin_net_pow_ele</th>\n",
       "      <th>nb_prod_act</th>\n",
       "      <th>net_margin</th>\n",
       "      <th>num_years_antig</th>\n",
       "      <th>pow_max</th>\n",
       "      <th>churn</th>\n",
       "    </tr>\n",
       "  </thead>\n",
       "  <tbody>\n",
       "    <tr>\n",
       "      <th>count</th>\n",
       "      <td>0.0</td>\n",
       "      <td>1.609600e+04</td>\n",
       "      <td>1.609600e+04</td>\n",
       "      <td>1.609600e+04</td>\n",
       "      <td>3508.000000</td>\n",
       "      <td>3508.000000</td>\n",
       "      <td>3508.000000</td>\n",
       "      <td>3508.000000</td>\n",
       "      <td>16096.000000</td>\n",
       "      <td>16096.000000</td>\n",
       "      <td>15970.000000</td>\n",
       "      <td>16096.000000</td>\n",
       "      <td>15970.000000</td>\n",
       "      <td>15970.000000</td>\n",
       "      <td>15970.000000</td>\n",
       "      <td>16096.000000</td>\n",
       "      <td>16083.000000</td>\n",
       "      <td>16083.000000</td>\n",
       "      <td>16096.000000</td>\n",
       "      <td>16081.000000</td>\n",
       "      <td>16096.000000</td>\n",
       "      <td>16093.000000</td>\n",
       "      <td>16096.000000</td>\n",
       "    </tr>\n",
       "    <tr>\n",
       "      <th>mean</th>\n",
       "      <td>NaN</td>\n",
       "      <td>1.948044e+05</td>\n",
       "      <td>3.191164e+04</td>\n",
       "      <td>1.946154e+04</td>\n",
       "      <td>335.843857</td>\n",
       "      <td>335.843857</td>\n",
       "      <td>3837.441866</td>\n",
       "      <td>206.845165</td>\n",
       "      <td>2370.555949</td>\n",
       "      <td>1907.347229</td>\n",
       "      <td>0.991547</td>\n",
       "      <td>70.309945</td>\n",
       "      <td>0.135901</td>\n",
       "      <td>0.052951</td>\n",
       "      <td>43.533496</td>\n",
       "      <td>196.123447</td>\n",
       "      <td>22.462276</td>\n",
       "      <td>21.460318</td>\n",
       "      <td>1.347788</td>\n",
       "      <td>217.987028</td>\n",
       "      <td>5.030629</td>\n",
       "      <td>20.604131</td>\n",
       "      <td>0.099093</td>\n",
       "    </tr>\n",
       "    <tr>\n",
       "      <th>std</th>\n",
       "      <td>NaN</td>\n",
       "      <td>6.795151e+05</td>\n",
       "      <td>1.775885e+05</td>\n",
       "      <td>8.235676e+04</td>\n",
       "      <td>649.406000</td>\n",
       "      <td>649.406000</td>\n",
       "      <td>5425.744327</td>\n",
       "      <td>455.634288</td>\n",
       "      <td>4035.085664</td>\n",
       "      <td>5257.364759</td>\n",
       "      <td>5.160969</td>\n",
       "      <td>79.023251</td>\n",
       "      <td>0.026252</td>\n",
       "      <td>0.048617</td>\n",
       "      <td>5.212252</td>\n",
       "      <td>494.366979</td>\n",
       "      <td>23.700883</td>\n",
       "      <td>27.917349</td>\n",
       "      <td>1.459808</td>\n",
       "      <td>366.742030</td>\n",
       "      <td>1.676101</td>\n",
       "      <td>21.772421</td>\n",
       "      <td>0.298796</td>\n",
       "    </tr>\n",
       "    <tr>\n",
       "      <th>min</th>\n",
       "      <td>NaN</td>\n",
       "      <td>-1.252760e+05</td>\n",
       "      <td>-3.037000e+03</td>\n",
       "      <td>-9.138600e+04</td>\n",
       "      <td>-364.940000</td>\n",
       "      <td>-364.940000</td>\n",
       "      <td>-2503.480000</td>\n",
       "      <td>0.000000</td>\n",
       "      <td>-16689.260000</td>\n",
       "      <td>-85627.000000</td>\n",
       "      <td>0.000000</td>\n",
       "      <td>-242.960000</td>\n",
       "      <td>0.000000</td>\n",
       "      <td>0.000000</td>\n",
       "      <td>-0.122184</td>\n",
       "      <td>-9038.210000</td>\n",
       "      <td>-525.540000</td>\n",
       "      <td>-615.660000</td>\n",
       "      <td>1.000000</td>\n",
       "      <td>-4148.990000</td>\n",
       "      <td>1.000000</td>\n",
       "      <td>1.000000</td>\n",
       "      <td>0.000000</td>\n",
       "    </tr>\n",
       "    <tr>\n",
       "      <th>25%</th>\n",
       "      <td>NaN</td>\n",
       "      <td>5.906250e+03</td>\n",
       "      <td>0.000000e+00</td>\n",
       "      <td>0.000000e+00</td>\n",
       "      <td>0.000000</td>\n",
       "      <td>0.000000</td>\n",
       "      <td>1158.175000</td>\n",
       "      <td>0.000000</td>\n",
       "      <td>513.230000</td>\n",
       "      <td>0.000000</td>\n",
       "      <td>0.000000</td>\n",
       "      <td>16.230000</td>\n",
       "      <td>0.115237</td>\n",
       "      <td>0.000000</td>\n",
       "      <td>40.606701</td>\n",
       "      <td>0.000000</td>\n",
       "      <td>11.960000</td>\n",
       "      <td>11.950000</td>\n",
       "      <td>1.000000</td>\n",
       "      <td>51.970000</td>\n",
       "      <td>4.000000</td>\n",
       "      <td>12.500000</td>\n",
       "      <td>0.000000</td>\n",
       "    </tr>\n",
       "    <tr>\n",
       "      <th>50%</th>\n",
       "      <td>NaN</td>\n",
       "      <td>1.533250e+04</td>\n",
       "      <td>0.000000e+00</td>\n",
       "      <td>9.010000e+02</td>\n",
       "      <td>162.955000</td>\n",
       "      <td>162.955000</td>\n",
       "      <td>2187.230000</td>\n",
       "      <td>42.215000</td>\n",
       "      <td>1179.160000</td>\n",
       "      <td>378.000000</td>\n",
       "      <td>0.000000</td>\n",
       "      <td>19.440000</td>\n",
       "      <td>0.142881</td>\n",
       "      <td>0.086163</td>\n",
       "      <td>44.311378</td>\n",
       "      <td>44.465000</td>\n",
       "      <td>21.090000</td>\n",
       "      <td>20.970000</td>\n",
       "      <td>1.000000</td>\n",
       "      <td>119.680000</td>\n",
       "      <td>5.000000</td>\n",
       "      <td>13.856000</td>\n",
       "      <td>0.000000</td>\n",
       "    </tr>\n",
       "    <tr>\n",
       "      <th>75%</th>\n",
       "      <td>NaN</td>\n",
       "      <td>5.022150e+04</td>\n",
       "      <td>0.000000e+00</td>\n",
       "      <td>4.127000e+03</td>\n",
       "      <td>396.185000</td>\n",
       "      <td>396.185000</td>\n",
       "      <td>4246.555000</td>\n",
       "      <td>228.117500</td>\n",
       "      <td>2692.077500</td>\n",
       "      <td>1994.250000</td>\n",
       "      <td>0.000000</td>\n",
       "      <td>131.470000</td>\n",
       "      <td>0.146348</td>\n",
       "      <td>0.098837</td>\n",
       "      <td>44.311378</td>\n",
       "      <td>218.090000</td>\n",
       "      <td>29.640000</td>\n",
       "      <td>29.640000</td>\n",
       "      <td>1.000000</td>\n",
       "      <td>275.810000</td>\n",
       "      <td>6.000000</td>\n",
       "      <td>19.800000</td>\n",
       "      <td>0.000000</td>\n",
       "    </tr>\n",
       "    <tr>\n",
       "      <th>max</th>\n",
       "      <td>NaN</td>\n",
       "      <td>1.609711e+07</td>\n",
       "      <td>4.188440e+06</td>\n",
       "      <td>4.538720e+06</td>\n",
       "      <td>12566.080000</td>\n",
       "      <td>12566.080000</td>\n",
       "      <td>81122.630000</td>\n",
       "      <td>9682.890000</td>\n",
       "      <td>103801.930000</td>\n",
       "      <td>175375.000000</td>\n",
       "      <td>50.000000</td>\n",
       "      <td>2411.690000</td>\n",
       "      <td>0.273963</td>\n",
       "      <td>0.195975</td>\n",
       "      <td>59.444710</td>\n",
       "      <td>15042.790000</td>\n",
       "      <td>374.640000</td>\n",
       "      <td>374.640000</td>\n",
       "      <td>32.000000</td>\n",
       "      <td>24570.650000</td>\n",
       "      <td>16.000000</td>\n",
       "      <td>500.000000</td>\n",
       "      <td>1.000000</td>\n",
       "    </tr>\n",
       "  </tbody>\n",
       "</table>\n",
       "</div>"
      ],
      "text/plain": [
       "       campaign_disc_ele      cons_12m  cons_gas_12m  cons_last_month  \\\n",
       "count                0.0  1.609600e+04  1.609600e+04     1.609600e+04   \n",
       "mean                 NaN  1.948044e+05  3.191164e+04     1.946154e+04   \n",
       "std                  NaN  6.795151e+05  1.775885e+05     8.235676e+04   \n",
       "min                  NaN -1.252760e+05 -3.037000e+03    -9.138600e+04   \n",
       "25%                  NaN  5.906250e+03  0.000000e+00     0.000000e+00   \n",
       "50%                  NaN  1.533250e+04  0.000000e+00     9.010000e+02   \n",
       "75%                  NaN  5.022150e+04  0.000000e+00     4.127000e+03   \n",
       "max                  NaN  1.609711e+07  4.188440e+06     4.538720e+06   \n",
       "\n",
       "       forecast_base_bill_ele  forecast_base_bill_year  forecast_bill_12m  \\\n",
       "count             3508.000000              3508.000000        3508.000000   \n",
       "mean               335.843857               335.843857        3837.441866   \n",
       "std                649.406000               649.406000        5425.744327   \n",
       "min               -364.940000              -364.940000       -2503.480000   \n",
       "25%                  0.000000                 0.000000        1158.175000   \n",
       "50%                162.955000               162.955000        2187.230000   \n",
       "75%                396.185000               396.185000        4246.555000   \n",
       "max              12566.080000             12566.080000       81122.630000   \n",
       "\n",
       "       forecast_cons  forecast_cons_12m  forecast_cons_year  \\\n",
       "count    3508.000000       16096.000000        16096.000000   \n",
       "mean      206.845165        2370.555949         1907.347229   \n",
       "std       455.634288        4035.085664         5257.364759   \n",
       "min         0.000000      -16689.260000       -85627.000000   \n",
       "25%         0.000000         513.230000            0.000000   \n",
       "50%        42.215000        1179.160000          378.000000   \n",
       "75%       228.117500        2692.077500         1994.250000   \n",
       "max      9682.890000      103801.930000       175375.000000   \n",
       "\n",
       "       forecast_discount_energy  forecast_meter_rent_12m  \\\n",
       "count              15970.000000             16096.000000   \n",
       "mean                   0.991547                70.309945   \n",
       "std                    5.160969                79.023251   \n",
       "min                    0.000000              -242.960000   \n",
       "25%                    0.000000                16.230000   \n",
       "50%                    0.000000                19.440000   \n",
       "75%                    0.000000               131.470000   \n",
       "max                   50.000000              2411.690000   \n",
       "\n",
       "       forecast_price_energy_p1  forecast_price_energy_p2  \\\n",
       "count              15970.000000              15970.000000   \n",
       "mean                   0.135901                  0.052951   \n",
       "std                    0.026252                  0.048617   \n",
       "min                    0.000000                  0.000000   \n",
       "25%                    0.115237                  0.000000   \n",
       "50%                    0.142881                  0.086163   \n",
       "75%                    0.146348                  0.098837   \n",
       "max                    0.273963                  0.195975   \n",
       "\n",
       "       forecast_price_pow_p1      imp_cons  margin_gross_pow_ele  \\\n",
       "count           15970.000000  16096.000000          16083.000000   \n",
       "mean               43.533496    196.123447             22.462276   \n",
       "std                 5.212252    494.366979             23.700883   \n",
       "min                -0.122184  -9038.210000           -525.540000   \n",
       "25%                40.606701      0.000000             11.960000   \n",
       "50%                44.311378     44.465000             21.090000   \n",
       "75%                44.311378    218.090000             29.640000   \n",
       "max                59.444710  15042.790000            374.640000   \n",
       "\n",
       "       margin_net_pow_ele   nb_prod_act    net_margin  num_years_antig  \\\n",
       "count        16083.000000  16096.000000  16081.000000     16096.000000   \n",
       "mean            21.460318      1.347788    217.987028         5.030629   \n",
       "std             27.917349      1.459808    366.742030         1.676101   \n",
       "min           -615.660000      1.000000  -4148.990000         1.000000   \n",
       "25%             11.950000      1.000000     51.970000         4.000000   \n",
       "50%             20.970000      1.000000    119.680000         5.000000   \n",
       "75%             29.640000      1.000000    275.810000         6.000000   \n",
       "max            374.640000     32.000000  24570.650000        16.000000   \n",
       "\n",
       "            pow_max         churn  \n",
       "count  16093.000000  16096.000000  \n",
       "mean      20.604131      0.099093  \n",
       "std       21.772421      0.298796  \n",
       "min        1.000000      0.000000  \n",
       "25%       12.500000      0.000000  \n",
       "50%       13.856000      0.000000  \n",
       "75%       19.800000      0.000000  \n",
       "max      500.000000      1.000000  "
      ]
     },
     "execution_count": 14,
     "metadata": {},
     "output_type": "execute_result"
    }
   ],
   "source": [
    "#displays the statistical summary of the dataframe\n",
    "train.describe()"
   ]
  },
  {
   "cell_type": "code",
   "execution_count": 15,
   "metadata": {},
   "outputs": [
    {
     "data": {
      "text/plain": [
       "True"
      ]
     },
     "execution_count": 15,
     "metadata": {},
     "output_type": "execute_result"
    }
   ],
   "source": [
    "train[\"campaign_disc_ele\"].isnull().values.all()"
   ]
  },
  {
   "cell_type": "markdown",
   "metadata": {},
   "source": [
    "#### Observations\n",
    "\n",
    "1.\tThe minimum consumption and forecasts for electricity and gas (yearly and monthly) are negative. This could mean that the client companies are producing energy and therefore energy should be \"returned\", although it is unlikely and we will consider it as corrupted data.\n",
    "2.\tThe campaign_disc_ele is an empty column. We verify it by running\n",
    "\n",
    "train[\"campaign_disc_ele\"].isnull().values.all()\n",
    "\n",
    "3.\tHighly skewed data when we look at the percentiles.\n"
   ]
  },
  {
   "cell_type": "code",
   "execution_count": 14,
   "metadata": {},
   "outputs": [
    {
     "data": {
      "text/html": [
       "<div>\n",
       "<style scoped>\n",
       "    .dataframe tbody tr th:only-of-type {\n",
       "        vertical-align: middle;\n",
       "    }\n",
       "\n",
       "    .dataframe tbody tr th {\n",
       "        vertical-align: top;\n",
       "    }\n",
       "\n",
       "    .dataframe thead th {\n",
       "        text-align: right;\n",
       "    }\n",
       "</style>\n",
       "<table border=\"1\" class=\"dataframe\">\n",
       "  <thead>\n",
       "    <tr style=\"text-align: right;\">\n",
       "      <th></th>\n",
       "      <th>price_p1_var</th>\n",
       "      <th>price_p2_var</th>\n",
       "      <th>price_p3_var</th>\n",
       "      <th>price_p1_fix</th>\n",
       "      <th>price_p2_fix</th>\n",
       "      <th>price_p3_fix</th>\n",
       "    </tr>\n",
       "  </thead>\n",
       "  <tbody>\n",
       "    <tr>\n",
       "      <th>count</th>\n",
       "      <td>191643.000000</td>\n",
       "      <td>191643.000000</td>\n",
       "      <td>191643.000000</td>\n",
       "      <td>191643.000000</td>\n",
       "      <td>191643.000000</td>\n",
       "      <td>191643.000000</td>\n",
       "    </tr>\n",
       "    <tr>\n",
       "      <th>mean</th>\n",
       "      <td>0.140991</td>\n",
       "      <td>0.054412</td>\n",
       "      <td>0.030712</td>\n",
       "      <td>43.325546</td>\n",
       "      <td>10.698201</td>\n",
       "      <td>6.455436</td>\n",
       "    </tr>\n",
       "    <tr>\n",
       "      <th>std</th>\n",
       "      <td>0.025117</td>\n",
       "      <td>0.050033</td>\n",
       "      <td>0.036335</td>\n",
       "      <td>5.437952</td>\n",
       "      <td>12.856046</td>\n",
       "      <td>7.782279</td>\n",
       "    </tr>\n",
       "    <tr>\n",
       "      <th>min</th>\n",
       "      <td>0.000000</td>\n",
       "      <td>0.000000</td>\n",
       "      <td>0.000000</td>\n",
       "      <td>-0.177779</td>\n",
       "      <td>-0.097752</td>\n",
       "      <td>-0.065172</td>\n",
       "    </tr>\n",
       "    <tr>\n",
       "      <th>25%</th>\n",
       "      <td>0.125976</td>\n",
       "      <td>0.000000</td>\n",
       "      <td>0.000000</td>\n",
       "      <td>40.728885</td>\n",
       "      <td>0.000000</td>\n",
       "      <td>0.000000</td>\n",
       "    </tr>\n",
       "    <tr>\n",
       "      <th>50%</th>\n",
       "      <td>0.146033</td>\n",
       "      <td>0.085483</td>\n",
       "      <td>0.000000</td>\n",
       "      <td>44.266930</td>\n",
       "      <td>0.000000</td>\n",
       "      <td>0.000000</td>\n",
       "    </tr>\n",
       "    <tr>\n",
       "      <th>75%</th>\n",
       "      <td>0.151635</td>\n",
       "      <td>0.101780</td>\n",
       "      <td>0.072558</td>\n",
       "      <td>44.444710</td>\n",
       "      <td>24.339581</td>\n",
       "      <td>16.226389</td>\n",
       "    </tr>\n",
       "    <tr>\n",
       "      <th>max</th>\n",
       "      <td>0.280700</td>\n",
       "      <td>0.229788</td>\n",
       "      <td>0.114102</td>\n",
       "      <td>59.444710</td>\n",
       "      <td>36.490692</td>\n",
       "      <td>17.458221</td>\n",
       "    </tr>\n",
       "  </tbody>\n",
       "</table>\n",
       "</div>"
      ],
      "text/plain": [
       "        price_p1_var   price_p2_var   price_p3_var   price_p1_fix  \\\n",
       "count  191643.000000  191643.000000  191643.000000  191643.000000   \n",
       "mean        0.140991       0.054412       0.030712      43.325546   \n",
       "std         0.025117       0.050033       0.036335       5.437952   \n",
       "min         0.000000       0.000000       0.000000      -0.177779   \n",
       "25%         0.125976       0.000000       0.000000      40.728885   \n",
       "50%         0.146033       0.085483       0.000000      44.266930   \n",
       "75%         0.151635       0.101780       0.072558      44.444710   \n",
       "max         0.280700       0.229788       0.114102      59.444710   \n",
       "\n",
       "        price_p2_fix   price_p3_fix  \n",
       "count  191643.000000  191643.000000  \n",
       "mean       10.698201       6.455436  \n",
       "std        12.856046       7.782279  \n",
       "min        -0.097752      -0.065172  \n",
       "25%         0.000000       0.000000  \n",
       "50%         0.000000       0.000000  \n",
       "75%        24.339581      16.226389  \n",
       "max        36.490692      17.458221  "
      ]
     },
     "execution_count": 14,
     "metadata": {},
     "output_type": "execute_result"
    }
   ],
   "source": [
    "history_data.describe()"
   ]
  },
  {
   "cell_type": "markdown",
   "metadata": {},
   "source": [
    "#### Observation\n",
    "For this dataset, it looks overall good.\n",
    "\n",
    "We might be a bit concerned about the negative values in the fix price column. One more time, this might be corruped data and we will change them to positive when cleaning the data.\n"
   ]
  },
  {
   "cell_type": "markdown",
   "metadata": {},
   "source": [
    "### Missing data\n",
    "\n"
   ]
  },
  {
   "cell_type": "markdown",
   "metadata": {},
   "source": [
    "There are lot of missing data, it is useful to check how how much of our data is missing.\n"
   ]
  },
  {
   "cell_type": "code",
   "execution_count": 16,
   "metadata": {},
   "outputs": [
    {
     "data": {
      "text/html": [
       "<div>\n",
       "<style scoped>\n",
       "    .dataframe tbody tr th:only-of-type {\n",
       "        vertical-align: middle;\n",
       "    }\n",
       "\n",
       "    .dataframe tbody tr th {\n",
       "        vertical-align: top;\n",
       "    }\n",
       "\n",
       "    .dataframe thead th {\n",
       "        text-align: right;\n",
       "    }\n",
       "</style>\n",
       "<table border=\"1\" class=\"dataframe\">\n",
       "  <thead>\n",
       "    <tr style=\"text-align: right;\">\n",
       "      <th></th>\n",
       "      <th>Missing values (%)</th>\n",
       "    </tr>\n",
       "  </thead>\n",
       "  <tbody>\n",
       "    <tr>\n",
       "      <th>id</th>\n",
       "      <td>0.000000</td>\n",
       "    </tr>\n",
       "    <tr>\n",
       "      <th>activity_new</th>\n",
       "      <td>59.300447</td>\n",
       "    </tr>\n",
       "    <tr>\n",
       "      <th>campaign_disc_ele</th>\n",
       "      <td>100.000000</td>\n",
       "    </tr>\n",
       "    <tr>\n",
       "      <th>channel_sales</th>\n",
       "      <td>26.205268</td>\n",
       "    </tr>\n",
       "    <tr>\n",
       "      <th>cons_12m</th>\n",
       "      <td>0.000000</td>\n",
       "    </tr>\n",
       "    <tr>\n",
       "      <th>cons_gas_12m</th>\n",
       "      <td>0.000000</td>\n",
       "    </tr>\n",
       "    <tr>\n",
       "      <th>cons_last_month</th>\n",
       "      <td>0.000000</td>\n",
       "    </tr>\n",
       "    <tr>\n",
       "      <th>date_activ</th>\n",
       "      <td>0.000000</td>\n",
       "    </tr>\n",
       "    <tr>\n",
       "      <th>date_end</th>\n",
       "      <td>0.012425</td>\n",
       "    </tr>\n",
       "    <tr>\n",
       "      <th>date_first_activ</th>\n",
       "      <td>78.205765</td>\n",
       "    </tr>\n",
       "    <tr>\n",
       "      <th>date_modif_prod</th>\n",
       "      <td>0.975398</td>\n",
       "    </tr>\n",
       "    <tr>\n",
       "      <th>date_renewal</th>\n",
       "      <td>0.248509</td>\n",
       "    </tr>\n",
       "    <tr>\n",
       "      <th>forecast_base_bill_ele</th>\n",
       "      <td>78.205765</td>\n",
       "    </tr>\n",
       "    <tr>\n",
       "      <th>forecast_base_bill_year</th>\n",
       "      <td>78.205765</td>\n",
       "    </tr>\n",
       "    <tr>\n",
       "      <th>forecast_bill_12m</th>\n",
       "      <td>78.205765</td>\n",
       "    </tr>\n",
       "    <tr>\n",
       "      <th>forecast_cons</th>\n",
       "      <td>78.205765</td>\n",
       "    </tr>\n",
       "    <tr>\n",
       "      <th>forecast_cons_12m</th>\n",
       "      <td>0.000000</td>\n",
       "    </tr>\n",
       "    <tr>\n",
       "      <th>forecast_cons_year</th>\n",
       "      <td>0.000000</td>\n",
       "    </tr>\n",
       "    <tr>\n",
       "      <th>forecast_discount_energy</th>\n",
       "      <td>0.782803</td>\n",
       "    </tr>\n",
       "    <tr>\n",
       "      <th>forecast_meter_rent_12m</th>\n",
       "      <td>0.000000</td>\n",
       "    </tr>\n",
       "    <tr>\n",
       "      <th>forecast_price_energy_p1</th>\n",
       "      <td>0.782803</td>\n",
       "    </tr>\n",
       "    <tr>\n",
       "      <th>forecast_price_energy_p2</th>\n",
       "      <td>0.782803</td>\n",
       "    </tr>\n",
       "    <tr>\n",
       "      <th>forecast_price_pow_p1</th>\n",
       "      <td>0.782803</td>\n",
       "    </tr>\n",
       "    <tr>\n",
       "      <th>has_gas</th>\n",
       "      <td>0.000000</td>\n",
       "    </tr>\n",
       "    <tr>\n",
       "      <th>imp_cons</th>\n",
       "      <td>0.000000</td>\n",
       "    </tr>\n",
       "    <tr>\n",
       "      <th>margin_gross_pow_ele</th>\n",
       "      <td>0.080765</td>\n",
       "    </tr>\n",
       "    <tr>\n",
       "      <th>margin_net_pow_ele</th>\n",
       "      <td>0.080765</td>\n",
       "    </tr>\n",
       "    <tr>\n",
       "      <th>nb_prod_act</th>\n",
       "      <td>0.000000</td>\n",
       "    </tr>\n",
       "    <tr>\n",
       "      <th>net_margin</th>\n",
       "      <td>0.093191</td>\n",
       "    </tr>\n",
       "    <tr>\n",
       "      <th>num_years_antig</th>\n",
       "      <td>0.000000</td>\n",
       "    </tr>\n",
       "    <tr>\n",
       "      <th>origin_up</th>\n",
       "      <td>0.540507</td>\n",
       "    </tr>\n",
       "    <tr>\n",
       "      <th>pow_max</th>\n",
       "      <td>0.018638</td>\n",
       "    </tr>\n",
       "    <tr>\n",
       "      <th>churn</th>\n",
       "      <td>0.000000</td>\n",
       "    </tr>\n",
       "  </tbody>\n",
       "</table>\n",
       "</div>"
      ],
      "text/plain": [
       "                          Missing values (%)\n",
       "id                                  0.000000\n",
       "activity_new                       59.300447\n",
       "campaign_disc_ele                 100.000000\n",
       "channel_sales                      26.205268\n",
       "cons_12m                            0.000000\n",
       "cons_gas_12m                        0.000000\n",
       "cons_last_month                     0.000000\n",
       "date_activ                          0.000000\n",
       "date_end                            0.012425\n",
       "date_first_activ                   78.205765\n",
       "date_modif_prod                     0.975398\n",
       "date_renewal                        0.248509\n",
       "forecast_base_bill_ele             78.205765\n",
       "forecast_base_bill_year            78.205765\n",
       "forecast_bill_12m                  78.205765\n",
       "forecast_cons                      78.205765\n",
       "forecast_cons_12m                   0.000000\n",
       "forecast_cons_year                  0.000000\n",
       "forecast_discount_energy            0.782803\n",
       "forecast_meter_rent_12m             0.000000\n",
       "forecast_price_energy_p1            0.782803\n",
       "forecast_price_energy_p2            0.782803\n",
       "forecast_price_pow_p1               0.782803\n",
       "has_gas                             0.000000\n",
       "imp_cons                            0.000000\n",
       "margin_gross_pow_ele                0.080765\n",
       "margin_net_pow_ele                  0.080765\n",
       "nb_prod_act                         0.000000\n",
       "net_margin                          0.093191\n",
       "num_years_antig                     0.000000\n",
       "origin_up                           0.540507\n",
       "pow_max                             0.018638\n",
       "churn                               0.000000"
      ]
     },
     "execution_count": 16,
     "metadata": {},
     "output_type": "execute_result"
    }
   ],
   "source": [
    "#checks percentage of missing values\n",
    "pd.DataFrame({\"Missing values (%)\": train.isnull().sum()/len(train.index)*100})"
   ]
  },
  {
   "cell_type": "markdown",
   "metadata": {},
   "source": [
    "#### Observation\n",
    "we may removed some the the columns,since they have more than 60% of the data missing"
   ]
  },
  {
   "cell_type": "code",
   "execution_count": 17,
   "metadata": {},
   "outputs": [
    {
     "data": {
      "text/html": [
       "<div>\n",
       "<style scoped>\n",
       "    .dataframe tbody tr th:only-of-type {\n",
       "        vertical-align: middle;\n",
       "    }\n",
       "\n",
       "    .dataframe tbody tr th {\n",
       "        vertical-align: top;\n",
       "    }\n",
       "\n",
       "    .dataframe thead th {\n",
       "        text-align: right;\n",
       "    }\n",
       "</style>\n",
       "<table border=\"1\" class=\"dataframe\">\n",
       "  <thead>\n",
       "    <tr style=\"text-align: right;\">\n",
       "      <th></th>\n",
       "      <th>Missing values (%)</th>\n",
       "    </tr>\n",
       "  </thead>\n",
       "  <tbody>\n",
       "    <tr>\n",
       "      <th>id</th>\n",
       "      <td>0.000000</td>\n",
       "    </tr>\n",
       "    <tr>\n",
       "      <th>price_date</th>\n",
       "      <td>0.000000</td>\n",
       "    </tr>\n",
       "    <tr>\n",
       "      <th>price_p1_var</th>\n",
       "      <td>0.704138</td>\n",
       "    </tr>\n",
       "    <tr>\n",
       "      <th>price_p2_var</th>\n",
       "      <td>0.704138</td>\n",
       "    </tr>\n",
       "    <tr>\n",
       "      <th>price_p3_var</th>\n",
       "      <td>0.704138</td>\n",
       "    </tr>\n",
       "    <tr>\n",
       "      <th>price_p1_fix</th>\n",
       "      <td>0.704138</td>\n",
       "    </tr>\n",
       "    <tr>\n",
       "      <th>price_p2_fix</th>\n",
       "      <td>0.704138</td>\n",
       "    </tr>\n",
       "    <tr>\n",
       "      <th>price_p3_fix</th>\n",
       "      <td>0.704138</td>\n",
       "    </tr>\n",
       "  </tbody>\n",
       "</table>\n",
       "</div>"
      ],
      "text/plain": [
       "              Missing values (%)\n",
       "id                      0.000000\n",
       "price_date              0.000000\n",
       "price_p1_var            0.704138\n",
       "price_p2_var            0.704138\n",
       "price_p3_var            0.704138\n",
       "price_p1_fix            0.704138\n",
       "price_p2_fix            0.704138\n",
       "price_p3_fix            0.704138"
      ]
     },
     "execution_count": 17,
     "metadata": {},
     "output_type": "execute_result"
    }
   ],
   "source": [
    "pd.DataFrame({\"Missing values (%)\": history_data.isnull().sum()/len(history_data.index)*100})"
   ]
  },
  {
   "cell_type": "markdown",
   "metadata": {},
   "source": [
    "#### Observation\n",
    "There missing data in this case are not much they can be replaced."
   ]
  },
  {
   "cell_type": "markdown",
   "metadata": {},
   "source": [
    "## 3.  Data visualization\n",
    "\n"
   ]
  },
  {
   "cell_type": "markdown",
   "metadata": {},
   "source": [
    "### Churn"
   ]
  },
  {
   "cell_type": "code",
   "execution_count": 18,
   "metadata": {},
   "outputs": [],
   "source": [
    "churn = train[[\"id\",\"churn\"]]"
   ]
  },
  {
   "cell_type": "code",
   "execution_count": 19,
   "metadata": {},
   "outputs": [],
   "source": [
    "# Rename columns for visualization purposes\n",
    "churn_columns = [\"Companies\", \"churn\"]\n"
   ]
  },
  {
   "cell_type": "code",
   "execution_count": 20,
   "metadata": {},
   "outputs": [],
   "source": [
    "# Plot stacked bars with annotations \n",
    "def plot_stacked_bars(dataframe, title_, size_=(18, 10), rot_=0, legend_=\"upper right\"):\n",
    "    \n",
    "    ax = dataframe.plot(kind=\"bar\",stacked=True, figsize=size_, rot=rot_,title=title_)\n",
    "     # Annotate bars\n",
    "    annotate_stacked_bars(ax, textsize=14)\n",
    "    # Rename legend\n",
    "    plt.legend([\"Retention\", \"Churn\"], loc=legend_)\n",
    "    # Labels\n",
    "    plt.ylabel(\"Company base (%)\") \n",
    "    plt.show()\n",
    "\n",
    "   # Add value annotations to the bar  \n",
    "def annotate_stacked_bars(ax, pad=0.99, colour=\"white\", textsize=13): \n",
    "    # Iterate over the plotted rectanges/bars\n",
    "    for p in ax.patches:\n",
    "            # Calculate annotation\n",
    "        value = str(round(p.get_height(),1))\n",
    "        # If value is 0 do not annotate\n",
    "        if value == '0.0':\n",
    "            continue\n",
    "   \n",
    "    ax.annotate(value,\n",
    "    ((p.get_x()+ p.get_width()/2)*pad-0.05, (p.get_y()+p.get_height()/2)*pad), color=colour,\n",
    "    size=textsize,\n",
    "    )\n",
    "\n",
    "   "
   ]
  },
  {
   "cell_type": "code",
   "execution_count": 21,
   "metadata": {},
   "outputs": [],
   "source": [
    "churn_total = churn.groupby(churn[\"churn\"]).count() \n",
    "churn_percentage = churn_total/churn_total.sum()*100"
   ]
  },
  {
   "cell_type": "code",
   "execution_count": 22,
   "metadata": {},
   "outputs": [
    {
     "data": {
      "image/png": "[encoded data removed]",
      "text/plain": [
       "<Figure size 360x360 with 1 Axes>"
      ]
     },
     "metadata": {
      "needs_background": "light"
     },
     "output_type": "display_data"
    }
   ],
   "source": [
    "plot_stacked_bars(churn_percentage.transpose(),\"Churning status\", (5,5), legend_=\"lower right\")"
   ]
  },
  {
   "cell_type": "markdown",
   "metadata": {},
   "source": [
    "About 10% of the of total customers have churned.Not a bad number."
   ]
  },
  {
   "cell_type": "markdown",
   "metadata": {},
   "source": [
    "### SME activity\n",
    " visualization of the activity distribution of the companies as well as the sales channel. Intuitively this might be an important predictive feature for energy consumption\n"
   ]
  },
  {
   "cell_type": "code",
   "execution_count": 23,
   "metadata": {},
   "outputs": [],
   "source": [
    "activity = train[[\"id\",\"activity_new\", \"churn\"]]"
   ]
  },
  {
   "cell_type": "code",
   "execution_count": 24,
   "metadata": {},
   "outputs": [],
   "source": [
    "activity = activity.groupby([activity[\"activity_new\"],\n",
    "activity[\"churn\"]])[\"id\"].count().unstack(level=1).sort_values(by=[0], ascending = False)\n"
   ]
  },
  {
   "cell_type": "code",
   "execution_count": 25,
   "metadata": {},
   "outputs": [
    {
     "data": {
      "image/png": "[encoded data removed]",
      "text/plain": [
       "<Figure size 1296x720 with 1 Axes>"
      ]
     },
     "metadata": {
      "needs_background": "light"
     },
     "output_type": "display_data"
    }
   ],
   "source": [
    "activity.plot(kind=\"bar\",\n",
    "figsize=(18, 10), width=2,\n",
    "stacked=True,\n",
    "title=\"SME Activity\")\n",
    "\n",
    "# Labels\n",
    "plt.ylabel(\"Number of companies\") \n",
    "plt.xlabel(\"Activity\")\n",
    "\n",
    "# Rename legend\n",
    "plt.legend([\"Retention\", \"Churn\"], loc=\"upper right\")\n",
    "\n",
    "# Remove the label for the xticks as the categories are encoded and we can't draw any meaning from them yet\n",
    "plt.xticks([]) \n",
    "plt.show()\n"
   ]
  },
  {
   "cell_type": "markdown",
   "metadata": {},
   "source": [
    "### Observations\n",
    "The distribution of the classes over the labeled data despite the lack of 60% of the entries. We see churn is not speciﬁcally related to any SME cateogry in particular.\n",
    "\n",
    "#showing the labels in the x-axis to facilitate visualization\n",
    "\n",
    "If we take a look at the values percentage-wise\n"
   ]
  },
  {
   "cell_type": "code",
   "execution_count": 26,
   "metadata": {},
   "outputs": [],
   "source": [
    "activity_total = activity.fillna(0)[0]+activity.fillna(0)[1]\n"
   ]
  },
  {
   "cell_type": "code",
   "execution_count": 27,
   "metadata": {},
   "outputs": [
    {
     "data": {
      "text/html": [
       "<div>\n",
       "<style scoped>\n",
       "    .dataframe tbody tr th:only-of-type {\n",
       "        vertical-align: middle;\n",
       "    }\n",
       "\n",
       "    .dataframe tbody tr th {\n",
       "        vertical-align: top;\n",
       "    }\n",
       "\n",
       "    .dataframe thead th {\n",
       "        text-align: right;\n",
       "    }\n",
       "</style>\n",
       "<table border=\"1\" class=\"dataframe\">\n",
       "  <thead>\n",
       "    <tr style=\"text-align: right;\">\n",
       "      <th></th>\n",
       "      <th>Percentage churn</th>\n",
       "      <th>Total companies</th>\n",
       "    </tr>\n",
       "    <tr>\n",
       "      <th>activity_new</th>\n",
       "      <th></th>\n",
       "      <th></th>\n",
       "    </tr>\n",
       "  </thead>\n",
       "  <tbody>\n",
       "    <tr>\n",
       "      <th>xwkaesbkfsacseixxksofpddwfkbobki</th>\n",
       "      <td>100.000000</td>\n",
       "      <td>1.0</td>\n",
       "    </tr>\n",
       "    <tr>\n",
       "      <th>wkwdccuiboaeaalcaawlwmldiwmpewma</th>\n",
       "      <td>100.000000</td>\n",
       "      <td>1.0</td>\n",
       "    </tr>\n",
       "    <tr>\n",
       "      <th>ikiucmkuisupefxcxfxxulkpwssppfuo</th>\n",
       "      <td>100.000000</td>\n",
       "      <td>1.0</td>\n",
       "    </tr>\n",
       "    <tr>\n",
       "      <th>opoiuuwdmxdssidluooopfswlkkkcsxf</th>\n",
       "      <td>100.000000</td>\n",
       "      <td>1.0</td>\n",
       "    </tr>\n",
       "    <tr>\n",
       "      <th>pfcocskbxlmofswiflsbcefcpufbopuo</th>\n",
       "      <td>100.000000</td>\n",
       "      <td>2.0</td>\n",
       "    </tr>\n",
       "    <tr>\n",
       "      <th>oeacexidmflusdkwuuicmpiaklkxulxm</th>\n",
       "      <td>100.000000</td>\n",
       "      <td>1.0</td>\n",
       "    </tr>\n",
       "    <tr>\n",
       "      <th>wceaopxmdpccxfmcdpopulcaubcxibuw</th>\n",
       "      <td>100.000000</td>\n",
       "      <td>1.0</td>\n",
       "    </tr>\n",
       "    <tr>\n",
       "      <th>kmlwkmxoocpieebifumobckeafmidpxf</th>\n",
       "      <td>100.000000</td>\n",
       "      <td>1.0</td>\n",
       "    </tr>\n",
       "    <tr>\n",
       "      <th>cwouwoubfifoafkxifokoidcuoamebea</th>\n",
       "      <td>66.666667</td>\n",
       "      <td>3.0</td>\n",
       "    </tr>\n",
       "    <tr>\n",
       "      <th>wfiuolfffsekuoimxdsasfwcmwssewoi</th>\n",
       "      <td>50.000000</td>\n",
       "      <td>4.0</td>\n",
       "    </tr>\n",
       "  </tbody>\n",
       "</table>\n",
       "</div>"
      ],
      "text/plain": [
       "                                  Percentage churn  Total companies\n",
       "activity_new                                                       \n",
       "xwkaesbkfsacseixxksofpddwfkbobki        100.000000              1.0\n",
       "wkwdccuiboaeaalcaawlwmldiwmpewma        100.000000              1.0\n",
       "ikiucmkuisupefxcxfxxulkpwssppfuo        100.000000              1.0\n",
       "opoiuuwdmxdssidluooopfswlkkkcsxf        100.000000              1.0\n",
       "pfcocskbxlmofswiflsbcefcpufbopuo        100.000000              2.0\n",
       "oeacexidmflusdkwuuicmpiaklkxulxm        100.000000              1.0\n",
       "wceaopxmdpccxfmcdpopulcaubcxibuw        100.000000              1.0\n",
       "kmlwkmxoocpieebifumobckeafmidpxf        100.000000              1.0\n",
       "cwouwoubfifoafkxifokoidcuoamebea         66.666667              3.0\n",
       "wfiuolfffsekuoimxdsasfwcmwssewoi         50.000000              4.0"
      ]
     },
     "execution_count": 27,
     "metadata": {},
     "output_type": "execute_result"
    }
   ],
   "source": [
    "activity_percentage = activity.fillna(0)[1]/activity_total *100\n",
    "pd.DataFrame({\"Percentage churn\": activity_percentage,\n",
    "\"Total companies\": activity_total }).sort_values(by=\"Percentage churn\",\n",
    "ascending=False).head(10)"
   ]
  },
  {
   "cell_type": "markdown",
   "metadata": {},
   "source": [
    "#### Observation\n",
    "If sorted by activity some companies have churned a 100% but this is due to the fact that only a few companies belong to that activity.\n",
    "\n",
    "How will the SME activity inﬂuence our predictive model?\n"
   ]
  },
  {
   "cell_type": "markdown",
   "metadata": {},
   "source": [
    "Our predictive model is likely to struggle accurately predicting the the SME activity due to the large number of categories and low number of companies belonging to each category."
   ]
  },
  {
   "cell_type": "markdown",
   "metadata": {},
   "source": [
    "## Sales channel\n",
    "\n",
    "The sales channel seems to be an important feature when predecting the churning of a user. It is not the same if the sales were through email or telephone"
   ]
  },
  {
   "cell_type": "code",
   "execution_count": 28,
   "metadata": {},
   "outputs": [],
   "source": [
    "channel = train[[\"id\",\"channel_sales\", \"churn\"]]"
   ]
  },
  {
   "cell_type": "code",
   "execution_count": 29,
   "metadata": {},
   "outputs": [],
   "source": [
    "channel = channel.groupby([channel[\"channel_sales\"],\n",
    "channel[\"churn\"]])[\"id\"].count().unstack(level=1).fillna(0)\n"
   ]
  },
  {
   "cell_type": "code",
   "execution_count": 30,
   "metadata": {},
   "outputs": [],
   "source": [
    "channel_churn = (channel.div(channel.sum(axis=1), axis=0)*100).sort_values(by=[1], ascending=False)"
   ]
  },
  {
   "cell_type": "markdown",
   "metadata": {},
   "source": [
    "We will plot the categories, despite the fact that data is available for only 75% of the dataset\n",
    "plot_stacked_bars(channel_churn, \"Sales Channel\", rot_=30)"
   ]
  },
  {
   "cell_type": "markdown",
   "metadata": {},
   "source": [
    "Nothing out of the normal form this graph above. If we look at it percentage-wise"
   ]
  },
  {
   "cell_type": "code",
   "execution_count": 31,
   "metadata": {},
   "outputs": [
    {
     "data": {
      "text/html": [
       "<div>\n",
       "<style scoped>\n",
       "    .dataframe tbody tr th:only-of-type {\n",
       "        vertical-align: middle;\n",
       "    }\n",
       "\n",
       "    .dataframe tbody tr th {\n",
       "        vertical-align: top;\n",
       "    }\n",
       "\n",
       "    .dataframe thead th {\n",
       "        text-align: right;\n",
       "    }\n",
       "</style>\n",
       "<table border=\"1\" class=\"dataframe\">\n",
       "  <thead>\n",
       "    <tr style=\"text-align: right;\">\n",
       "      <th></th>\n",
       "      <th>Churn percentage</th>\n",
       "      <th>Total companies</th>\n",
       "    </tr>\n",
       "    <tr>\n",
       "      <th>channel_sales</th>\n",
       "      <th></th>\n",
       "      <th></th>\n",
       "    </tr>\n",
       "  </thead>\n",
       "  <tbody>\n",
       "    <tr>\n",
       "      <th>foosdfpfkusacimwkcsosbicdxkicaua</th>\n",
       "      <td>12.498306</td>\n",
       "      <td>7377.0</td>\n",
       "    </tr>\n",
       "    <tr>\n",
       "      <th>usilxuppasemubllopkaafesmlibmsdf</th>\n",
       "      <td>10.387812</td>\n",
       "      <td>1444.0</td>\n",
       "    </tr>\n",
       "    <tr>\n",
       "      <th>ewpakwlliwisiwduibdlfmalxowmwpci</th>\n",
       "      <td>8.488613</td>\n",
       "      <td>966.0</td>\n",
       "    </tr>\n",
       "    <tr>\n",
       "      <th>lmkebamcaaclubfxadlmueccxoimlema</th>\n",
       "      <td>5.595755</td>\n",
       "      <td>2073.0</td>\n",
       "    </tr>\n",
       "    <tr>\n",
       "      <th>epumfxlbckeskwekxbiuasklxalciiuu</th>\n",
       "      <td>0.000000</td>\n",
       "      <td>4.0</td>\n",
       "    </tr>\n",
       "    <tr>\n",
       "      <th>fixdbufsefwooaasfcxdxadsiekoceaa</th>\n",
       "      <td>0.000000</td>\n",
       "      <td>2.0</td>\n",
       "    </tr>\n",
       "    <tr>\n",
       "      <th>sddiedcslfslkckwlfkdpoeeailfpeds</th>\n",
       "      <td>0.000000</td>\n",
       "      <td>12.0</td>\n",
       "    </tr>\n",
       "  </tbody>\n",
       "</table>\n",
       "</div>"
      ],
      "text/plain": [
       "                                  Churn percentage  Total companies\n",
       "channel_sales                                                      \n",
       "foosdfpfkusacimwkcsosbicdxkicaua         12.498306           7377.0\n",
       "usilxuppasemubllopkaafesmlibmsdf         10.387812           1444.0\n",
       "ewpakwlliwisiwduibdlfmalxowmwpci          8.488613            966.0\n",
       "lmkebamcaaclubfxadlmueccxoimlema          5.595755           2073.0\n",
       "epumfxlbckeskwekxbiuasklxalciiuu          0.000000              4.0\n",
       "fixdbufsefwooaasfcxdxadsiekoceaa          0.000000              2.0\n",
       "sddiedcslfslkckwlfkdpoeeailfpeds          0.000000             12.0"
      ]
     },
     "execution_count": 31,
     "metadata": {},
     "output_type": "execute_result"
    }
   ],
   "source": [
    "channel_total = channel.fillna(0)[0]+channel.fillna(0)[1]\n",
    "channel_percentage = channel.fillna(0)[1]/(channel_total)*100 \n",
    "\n",
    "pd.DataFrame({\"Churn percentage\": channel_percentage,\n",
    "\"Total companies\": channel_total }).sort_values(by=\"Churn percentage\",\n",
    "ascending=False).head(10)\n"
   ]
  },
  {
   "cell_type": "markdown",
   "metadata": {},
   "source": [
    "### Consumption"
   ]
  },
  {
   "cell_type": "markdown",
   "metadata": {},
   "source": [
    "Let's see the distribution of the consumption over the last year and last month"
   ]
  },
  {
   "cell_type": "code",
   "execution_count": 32,
   "metadata": {},
   "outputs": [],
   "source": [
    "consumption = train[[\"id\",\"cons_12m\", \"cons_gas_12m\",\"cons_last_month\", \"imp_cons\", \"has_gas\", \"churn\"]]"
   ]
  },
  {
   "cell_type": "markdown",
   "metadata": {},
   "source": [
    "The most straight forward to visualise and identify the distribution of uni-variate data is through histograms"
   ]
  },
  {
   "cell_type": "code",
   "execution_count": 33,
   "metadata": {},
   "outputs": [],
   "source": [
    " \"\"\"\n",
    "Plot variable distirbution in a stacked histogram of churned or retained company \"\"\"\n",
    "\n",
    "def plot_distribution(dataframe, column, ax, bins_=50):\n",
    "    \n",
    "    # Create a temporal dataframe with the data to be plot\n",
    "    temp = pd.DataFrame({\"Retention\": dataframe[dataframe[\"churn\"]==0][column], \"Churn\":dataframe[dataframe[\"churn\"]==1][column]})\n",
    "    # Plot the histogram\n",
    "\n",
    "    temp[[\"Retention\",\"Churn\"]].plot(kind='hist', bins=bins_, ax=ax, stacked=True)\n",
    "    # X-axis label\n",
    "    ax.set_xlabel(column)\n",
    "    # Change the x-axis to plain style\n",
    "    ax.ticklabel_format(style='plain', axis='x')\n"
   ]
  },
  {
   "cell_type": "code",
   "execution_count": 34,
   "metadata": {},
   "outputs": [
    {
     "data": {
      "image/png": "[encoded data removed]",
      "text/plain": [
       "<Figure size 1296x1800 with 4 Axes>"
      ]
     },
     "metadata": {
      "needs_background": "light"
     },
     "output_type": "display_data"
    }
   ],
   "source": [
    "fig, axs = plt.subplots(nrows=4, figsize=(18,25))\n",
    "# Plot histogram\n",
    "plot_distribution(consumption, \"cons_12m\", axs[0])\n",
    "\n",
    "# Note that the gas consumption must have gas contract\n",
    "plot_distribution(consumption[consumption[\"has_gas\"] == \"t\"], \"cons_gas_12m\", axs[1]) \n",
    "\n",
    "plot_distribution(consumption, \"cons_last_month\", axs[2])\n",
    "plot_distribution(consumption, \"imp_cons\", axs[3])\n"
   ]
  },
  {
   "cell_type": "markdown",
   "metadata": {},
   "source": [
    "\n",
    "We can clearly see in here that the consumption data is highly skewed to the right, presenting a very long right-tail towards the higher values of the distribution.\n",
    "\n",
    "The values on the higher end and lower ends of the distribution are likely to be outliers. We can use a standard plot to visualise the outliers in more detail. A boxplot is a standardized way of displaying the distribution of data based on a ﬁve number summary (“minimum”, ﬁrst quartile (Q1), median, third quartile (Q3), and “maximum”). It can tell us about our outliers and what their values are. It can also tell us if our data is symmetrical, how tightly our data is grouped, and if and how our data is skewed\n"
   ]
  },
  {
   "cell_type": "code",
   "execution_count": 35,
   "metadata": {},
   "outputs": [
    {
     "data": {
      "image/png": "[encoded data removed]",
      "text/plain": [
       "<Figure size 1296x1800 with 4 Axes>"
      ]
     },
     "metadata": {
      "needs_background": "light"
     },
     "output_type": "display_data"
    }
   ],
   "source": [
    "fig, axs = plt.subplots(nrows=4, figsize=(18,25))\n",
    "# Plot histogram\n",
    "sns.boxplot(consumption[\"cons_12m\"], ax=axs[0])\n",
    "sns.boxplot(consumption[consumption[\"has_gas\"] == \"t\"][\"cons_gas_12m\"], ax=axs[1]) \n",
    "sns.boxplot(consumption[\"cons_last_month\"], ax=axs[2])\n",
    "sns.boxplot(consumption[\"imp_cons\"], ax=axs[3])\n",
    "# Remove scientific notation\n",
    "for ax in axs:\n",
    "    ax.ticklabel_format(style='plain', axis='x')\n",
    "    # Set x-axis limit\n",
    "    axs[0].set_xlim(-200000, 2000000)\n",
    "    axs[1].set_xlim(-200000, 2000000)\n",
    "    axs[2].set_xlim(-20000, 100000) \n",
    "\n",
    "plt.show()\n"
   ]
  },
  {
   "cell_type": "markdown",
   "metadata": {},
   "source": [
    "clearly confirmed an highly skewed distribution with several outliers. "
   ]
  },
  {
   "cell_type": "code",
   "execution_count": 36,
   "metadata": {},
   "outputs": [],
   "source": [
    "dates = train[[\"id\",\"date_activ\",\"date_end\", \"date_modif_prod\",\"date_renewal\",\"churn\"]].copy()"
   ]
  },
  {
   "cell_type": "code",
   "execution_count": 37,
   "metadata": {},
   "outputs": [],
   "source": [
    "# Transform date columns to datetime type\n",
    "dates[\"date_activ\"] = pd.to_datetime(dates[\"date_activ\"], format='%Y-%m-%d') \n",
    "dates[\"date_end\"] = pd.to_datetime(dates[\"date_end\"], format='%Y-%m-%d')\n",
    "dates[\"date_modif_prod\"] = pd.to_datetime(dates[\"date_modif_prod\"], format='%Y-%m-%d')\n",
    "dates[\"date_renewal\"] = pd.to_datetime(dates[\"date_renewal\"], format='%Y-%m-%d')\n"
   ]
  },
  {
   "cell_type": "code",
   "execution_count": 38,
   "metadata": {},
   "outputs": [],
   "source": [
    "#Plot monthly churn and retention distribution \n",
    "\n",
    "def plot_dates(dataframe, column, fontsize_=12): \n",
    "    # Group by month\n",
    "    temp = dataframe[[column,\n",
    "    \"churn\",\n",
    "    \"id\"]].set_index(column).groupby([pd.Grouper(freq='M'), \"churn\"]).count().unstack(level=1)\n",
    "    # Plot\n",
    "    ax=temp.plot(kind=\"bar\", stacked=True, figsize=(18,10), rot=0)\n",
    "    # Change x-axis labels to months\n",
    "    ax.set_xticklabels(map(lambda x: line_format(x), temp.index))\n",
    "    # Change xlabel size\n",
    "    plt.xticks(fontsize=fontsize_)\n",
    "    # Rename y-axis\n",
    "    plt.ylabel(\"Number of companies\")\n",
    "    # Rename legend\n",
    "    plt.legend([\"Retention\", \"Churn\"], loc=\"upper right\") \n",
    "    plt.show()\n",
    "# Convert time label to the format of pandas line plot\n",
    "\n",
    "def line_format(label):\n",
    "    month = label.month_name()[:1]\n",
    "    if label.month_name() == \"January\": month += f'\\n{label.year}'\n",
    "    return month\n"
   ]
  },
  {
   "cell_type": "code",
   "execution_count": 39,
   "metadata": {},
   "outputs": [
    {
     "data": {
      "image/png": "[encoded data removed]",
      "text/plain": [
       "<Figure size 1296x720 with 1 Axes>"
      ]
     },
     "metadata": {
      "needs_background": "light"
     },
     "output_type": "display_data"
    }
   ],
   "source": [
    "plot_dates(dates, \"date_activ\", fontsize_=8)"
   ]
  },
  {
   "cell_type": "code",
   "execution_count": 40,
   "metadata": {},
   "outputs": [
    {
     "data": {
      "image/png": "[encoded data removed]",
      "text/plain": [
       "<Figure size 1296x720 with 1 Axes>"
      ]
     },
     "metadata": {
      "needs_background": "light"
     },
     "output_type": "display_data"
    }
   ],
   "source": [
    "plot_dates(dates, \"date_end\")"
   ]
  },
  {
   "cell_type": "code",
   "execution_count": 41,
   "metadata": {},
   "outputs": [
    {
     "data": {
      "image/png": "[encoded data removed]",
      "text/plain": [
       "<Figure size 1296x720 with 1 Axes>"
      ]
     },
     "metadata": {
      "needs_background": "light"
     },
     "output_type": "display_data"
    }
   ],
   "source": [
    "plot_dates(dates, \"date_modif_prod\", fontsize_=8)"
   ]
  },
  {
   "cell_type": "code",
   "execution_count": 42,
   "metadata": {},
   "outputs": [
    {
     "data": {
      "image/png": "[encoded data removed]",
      "text/plain": [
       "<Figure size 1296x720 with 1 Axes>"
      ]
     },
     "metadata": {
      "needs_background": "light"
     },
     "output_type": "display_data"
    }
   ],
   "source": [
    "plot_dates(dates, \"date_renewal\")"
   ]
  },
  {
   "cell_type": "markdown",
   "metadata": {},
   "source": [
    "We can visualize the distribution of churned companies according to the date. However, this does not provide us with any useful insight. "
   ]
  },
  {
   "cell_type": "markdown",
   "metadata": {},
   "source": [
    "## Forecast"
   ]
  },
  {
   "cell_type": "code",
   "execution_count": 43,
   "metadata": {},
   "outputs": [],
   "source": [
    "forecast = train[[\"id\",\"forecast_base_bill_ele\",\"forecast_base_bill_year\", \"forecast_bill_12m\",\"forecast_cons\",\"forecast_cons_12m\",\n",
    "\"forecast_cons_year\",\"forecast_discount_energy\",\"forecast_meter_rent_12m\", \"forecast_price_energy_p1\",\"forecast_price_energy_p2\",\n",
    "\"forecast_price_pow_p1\",\"churn\"]]\n"
   ]
  },
  {
   "cell_type": "code",
   "execution_count": 44,
   "metadata": {},
   "outputs": [
    {
     "data": {
      "image/png": "[encoded data removed]",
      "text/plain": [
       "<Figure size 1296x3600 with 11 Axes>"
      ]
     },
     "metadata": {
      "needs_background": "light"
     },
     "output_type": "display_data"
    }
   ],
   "source": [
    "fig, axs = plt.subplots(nrows=11, figsize=(18,50))\n",
    "# Plot histogram\n",
    "plot_distribution(train, \"forecast_base_bill_ele\", axs[0]) \n",
    "plot_distribution(train, \"forecast_base_bill_year\", axs[1])\n",
    "plot_distribution(train, \"forecast_bill_12m\", axs[2])\n",
    "plot_distribution(train, \"forecast_cons\", axs[3])\n",
    "plot_distribution(train, \"forecast_cons_12m\", axs[4]) \n",
    "plot_distribution(train, \"forecast_cons_year\", axs[5])\n",
    "plot_distribution(train, \"forecast_discount_energy\", axs[6]) \n",
    "plot_distribution(train, \"forecast_meter_rent_12m\", axs[7]) \n",
    "plot_distribution(train, \"forecast_price_energy_p1\", axs[8]) \n",
    "plot_distribution(train, \"forecast_price_energy_p2\", axs[9]) \n",
    "plot_distribution(train, \"forecast_price_pow_p1\", axs[10])\n"
   ]
  },
  {
   "cell_type": "markdown",
   "metadata": {},
   "source": [
    "Similarly to the consumption plots, we can observe that a lot of the variables are highly skewed to the right, creating a very long tail on the higher values.\n",
    "\n",
    "The skewness should be corrected.\n"
   ]
  },
  {
   "cell_type": "markdown",
   "metadata": {},
   "source": [
    "### Contract type (electricity, gas)"
   ]
  },
  {
   "cell_type": "code",
   "execution_count": 45,
   "metadata": {},
   "outputs": [],
   "source": [
    "contract_type = train[[\"id\", \"has_gas\", \"churn\"]]"
   ]
  },
  {
   "cell_type": "code",
   "execution_count": 46,
   "metadata": {},
   "outputs": [],
   "source": [
    "contract = contract_type.groupby([contract_type[\"churn\"],\n",
    "contract_type[\"has_gas\"]])[\"id\"].count().unstack(level=0)\n"
   ]
  },
  {
   "cell_type": "code",
   "execution_count": 47,
   "metadata": {},
   "outputs": [],
   "source": [
    "contract_percentage = (contract.div(contract.sum(axis=1), axis=0)*100).sort_values(by=[1], ascending=False)"
   ]
  },
  {
   "cell_type": "code",
   "execution_count": 48,
   "metadata": {},
   "outputs": [
    {
     "data": {
      "image/png": "[encoded data removed]",
      "text/plain": [
       "<Figure size 1296x720 with 1 Axes>"
      ]
     },
     "metadata": {
      "needs_background": "light"
     },
     "output_type": "display_data"
    }
   ],
   "source": [
    "plot_stacked_bars(contract_percentage, \"Contract type (with gas)\")"
   ]
  },
  {
   "cell_type": "markdown",
   "metadata": {},
   "source": [
    "### Margins"
   ]
  },
  {
   "cell_type": "code",
   "execution_count": 49,
   "metadata": {},
   "outputs": [],
   "source": [
    "margin = train[[\"id\",\"margin_gross_pow_ele\",\"margin_net_pow_ele\",\"net_margin\"]]"
   ]
  },
  {
   "cell_type": "code",
   "execution_count": 50,
   "metadata": {},
   "outputs": [
    {
     "data": {
      "image/png": "[encoded data removed]",
      "text/plain": [
       "<Figure size 1296x1440 with 3 Axes>"
      ]
     },
     "metadata": {
      "needs_background": "light"
     },
     "output_type": "display_data"
    }
   ],
   "source": [
    "fig, axs = plt.subplots(nrows=3, figsize=(18,20))\n",
    "# Plot histogram\n",
    "sns.boxplot(margin[\"margin_gross_pow_ele\"], ax=axs[0]) \n",
    "sns.boxplot(margin[\"margin_net_pow_ele\"],ax=axs[1])\n",
    "sns.boxplot(margin[\"net_margin\"], ax=axs[2])\n",
    "\n",
    "# Remove scientific notation\n",
    "axs[0].ticklabel_format(style='plain', axis='x') \n",
    "axs[1].ticklabel_format(style='plain', axis='x') \n",
    "axs[2].ticklabel_format(style='plain', axis='x') \n",
    "plt.show()\n"
   ]
  },
  {
   "cell_type": "markdown",
   "metadata": {},
   "source": [
    "Obseravtions\n",
    "there are a few outliers according to the graphs."
   ]
  },
  {
   "cell_type": "markdown",
   "metadata": {},
   "source": [
    "### Subscribed power"
   ]
  },
  {
   "cell_type": "code",
   "execution_count": 51,
   "metadata": {},
   "outputs": [],
   "source": [
    "power = train[[\"id\",\"pow_max\", \"churn\"]].fillna(0)"
   ]
  },
  {
   "cell_type": "code",
   "execution_count": 52,
   "metadata": {},
   "outputs": [
    {
     "data": {
      "image/png": "[encoded data removed]",
      "text/plain": [
       "<Figure size 1296x720 with 1 Axes>"
      ]
     },
     "metadata": {
      "needs_background": "light"
     },
     "output_type": "display_data"
    }
   ],
   "source": [
    "fig, axs = plt.subplots(nrows=1, figsize=(18,10)) \n",
    "plot_distribution(power, \"pow_max\", axs)"
   ]
  },
  {
   "cell_type": "markdown",
   "metadata": {},
   "source": [
    "### Others"
   ]
  },
  {
   "cell_type": "code",
   "execution_count": 53,
   "metadata": {},
   "outputs": [],
   "source": [
    "others = train[[\"id\",\"nb_prod_act\",\"num_years_antig\", \"origin_up\", \"churn\"]]"
   ]
  },
  {
   "cell_type": "code",
   "execution_count": 54,
   "metadata": {},
   "outputs": [
    {
     "data": {
      "image/png": "[encoded data removed]",
      "text/plain": [
       "<Figure size 1296x720 with 1 Axes>"
      ]
     },
     "metadata": {
      "needs_background": "light"
     },
     "output_type": "display_data"
    }
   ],
   "source": [
    "products = others.groupby([others[\"nb_prod_act\"],others[\"churn\"]])[\"id\"].count().unstack(level=1)\n",
    "products_percentage = (products.div(products.sum(axis=1), axis=0)*100).sort_values(by=[1], ascending=False) \n",
    "plot_stacked_bars(products_percentage, \"Number of products\")\n"
   ]
  },
  {
   "cell_type": "code",
   "execution_count": 55,
   "metadata": {},
   "outputs": [
    {
     "data": {
      "image/png": "[encoded data removed]",
      "text/plain": [
       "<Figure size 1296x720 with 1 Axes>"
      ]
     },
     "metadata": {
      "needs_background": "light"
     },
     "output_type": "display_data"
    }
   ],
   "source": [
    "years_antig = others.groupby([others[\"num_years_antig\"],others[\"churn\"]])[\"id\"].count().unstack(level=1) \n",
    "years_antig_percentage = (years_antig.div(years_antig.sum(axis=1), axis=0)*100)\n",
    "plot_stacked_bars(years_antig_percentage, \"Number years\")\n"
   ]
  },
  {
   "cell_type": "code",
   "execution_count": 56,
   "metadata": {},
   "outputs": [
    {
     "data": {
      "image/png": "[encoded data removed]",
      "text/plain": [
       "<Figure size 1296x720 with 1 Axes>"
      ]
     },
     "metadata": {
      "needs_background": "light"
     },
     "output_type": "display_data"
    }
   ],
   "source": [
    "origin = others.groupby([others[\"origin_up\"],others[\"churn\"]])[\"id\"].count().unstack(level=1) \n",
    "origin_percentage = (origin.div(origin.sum(axis=1), axis=0)*100)\n",
    "plot_stacked_bars(origin_percentage, \"Origin contract/offer\")\n"
   ]
  },
  {
   "cell_type": "markdown",
   "metadata": {},
   "source": [
    "## 4. Data cleaning\n",
    "\n",
    "### Missing data\n"
   ]
  },
  {
   "cell_type": "code",
   "execution_count": 57,
   "metadata": {},
   "outputs": [
    {
     "data": {
      "image/png": "[encoded data removed]",
      "text/plain": [
       "<Figure size 1296x720 with 1 Axes>"
      ]
     },
     "metadata": {
      "needs_background": "light"
     },
     "output_type": "display_data"
    }
   ],
   "source": [
    "# Plot missing data\n",
    "(train.isnull().sum()/len(train.index)*100).plot(kind=\"bar\", figsize=(18,10))\n",
    "\n",
    "# Set axis labels\n",
    "plt.xlabel(\"Variables\")\n",
    "plt.ylabel(\"Missing values (%)\") \n",
    "plt.show()\n"
   ]
  },
  {
   "cell_type": "markdown",
   "metadata": {},
   "source": [
    "For simplicity we will remove the variables with more than 60% of the values missing.\n",
    "\n",
    "*We might re-use some of these variables if our model is not good enough\n"
   ]
  },
  {
   "cell_type": "code",
   "execution_count": 58,
   "metadata": {},
   "outputs": [],
   "source": [
    "train.drop(columns=[\"campaign_disc_ele\", \"date_first_activ\",\n",
    "\"forecast_base_bill_ele\",\"forecast_base_bill_year\", \"forecast_bill_12m\", \"forecast_cons\"], inplace=True)\n"
   ]
  },
  {
   "cell_type": "code",
   "execution_count": 59,
   "metadata": {},
   "outputs": [
    {
     "data": {
      "text/html": [
       "<div>\n",
       "<style scoped>\n",
       "    .dataframe tbody tr th:only-of-type {\n",
       "        vertical-align: middle;\n",
       "    }\n",
       "\n",
       "    .dataframe tbody tr th {\n",
       "        vertical-align: top;\n",
       "    }\n",
       "\n",
       "    .dataframe thead th {\n",
       "        text-align: right;\n",
       "    }\n",
       "</style>\n",
       "<table border=\"1\" class=\"dataframe\">\n",
       "  <thead>\n",
       "    <tr style=\"text-align: right;\">\n",
       "      <th></th>\n",
       "      <th>id</th>\n",
       "      <th>activity_new</th>\n",
       "      <th>channel_sales</th>\n",
       "      <th>cons_12m</th>\n",
       "      <th>cons_gas_12m</th>\n",
       "      <th>cons_last_month</th>\n",
       "      <th>date_activ</th>\n",
       "      <th>date_end</th>\n",
       "      <th>date_modif_prod</th>\n",
       "      <th>date_renewal</th>\n",
       "      <th>forecast_cons_12m</th>\n",
       "      <th>forecast_cons_year</th>\n",
       "      <th>forecast_discount_energy</th>\n",
       "      <th>forecast_meter_rent_12m</th>\n",
       "      <th>forecast_price_energy_p1</th>\n",
       "      <th>forecast_price_energy_p2</th>\n",
       "      <th>forecast_price_pow_p1</th>\n",
       "      <th>has_gas</th>\n",
       "      <th>imp_cons</th>\n",
       "      <th>margin_gross_pow_ele</th>\n",
       "      <th>margin_net_pow_ele</th>\n",
       "      <th>nb_prod_act</th>\n",
       "      <th>net_margin</th>\n",
       "      <th>num_years_antig</th>\n",
       "      <th>origin_up</th>\n",
       "      <th>pow_max</th>\n",
       "      <th>churn</th>\n",
       "    </tr>\n",
       "  </thead>\n",
       "  <tbody>\n",
       "    <tr>\n",
       "      <th>0</th>\n",
       "      <td>48ada52261e7cf58715202705a0451c9</td>\n",
       "      <td>esoiiifxdlbkcsluxmfuacbdckommixw</td>\n",
       "      <td>lmkebamcaaclubfxadlmueccxoimlema</td>\n",
       "      <td>309275</td>\n",
       "      <td>0</td>\n",
       "      <td>10025</td>\n",
       "      <td>2012-11-07</td>\n",
       "      <td>2016-11-06</td>\n",
       "      <td>2012-11-07</td>\n",
       "      <td>2015-11-09</td>\n",
       "      <td>26520.30</td>\n",
       "      <td>10025</td>\n",
       "      <td>0.0</td>\n",
       "      <td>359.29</td>\n",
       "      <td>0.095919</td>\n",
       "      <td>0.088347</td>\n",
       "      <td>58.995952</td>\n",
       "      <td>f</td>\n",
       "      <td>831.8</td>\n",
       "      <td>-41.76</td>\n",
       "      <td>-41.76</td>\n",
       "      <td>1</td>\n",
       "      <td>1732.36</td>\n",
       "      <td>3</td>\n",
       "      <td>ldkssxwpmemidmecebumciepifcamkci</td>\n",
       "      <td>180.000</td>\n",
       "      <td>0</td>\n",
       "    </tr>\n",
       "    <tr>\n",
       "      <th>1</th>\n",
       "      <td>24011ae4ebbe3035111d65fa7c15bc57</td>\n",
       "      <td>NaN</td>\n",
       "      <td>foosdfpfkusacimwkcsosbicdxkicaua</td>\n",
       "      <td>0</td>\n",
       "      <td>54946</td>\n",
       "      <td>0</td>\n",
       "      <td>2013-06-15</td>\n",
       "      <td>2016-06-15</td>\n",
       "      <td>NaN</td>\n",
       "      <td>2015-06-23</td>\n",
       "      <td>0.00</td>\n",
       "      <td>0</td>\n",
       "      <td>0.0</td>\n",
       "      <td>1.78</td>\n",
       "      <td>0.114481</td>\n",
       "      <td>0.098142</td>\n",
       "      <td>40.606701</td>\n",
       "      <td>t</td>\n",
       "      <td>0.0</td>\n",
       "      <td>25.44</td>\n",
       "      <td>25.44</td>\n",
       "      <td>2</td>\n",
       "      <td>678.99</td>\n",
       "      <td>3</td>\n",
       "      <td>lxidpiddsbxsbosboudacockeimpuepw</td>\n",
       "      <td>43.648</td>\n",
       "      <td>1</td>\n",
       "    </tr>\n",
       "    <tr>\n",
       "      <th>2</th>\n",
       "      <td>d29c2c54acc38ff3c0614d0a653813dd</td>\n",
       "      <td>NaN</td>\n",
       "      <td>NaN</td>\n",
       "      <td>4660</td>\n",
       "      <td>0</td>\n",
       "      <td>0</td>\n",
       "      <td>2009-08-21</td>\n",
       "      <td>2016-08-30</td>\n",
       "      <td>2009-08-21</td>\n",
       "      <td>2015-08-31</td>\n",
       "      <td>189.95</td>\n",
       "      <td>0</td>\n",
       "      <td>0.0</td>\n",
       "      <td>16.27</td>\n",
       "      <td>0.145711</td>\n",
       "      <td>0.000000</td>\n",
       "      <td>44.311378</td>\n",
       "      <td>f</td>\n",
       "      <td>0.0</td>\n",
       "      <td>16.38</td>\n",
       "      <td>16.38</td>\n",
       "      <td>1</td>\n",
       "      <td>18.89</td>\n",
       "      <td>6</td>\n",
       "      <td>kamkkxfxxuwbdslkwifmmcsiusiuosws</td>\n",
       "      <td>13.800</td>\n",
       "      <td>0</td>\n",
       "    </tr>\n",
       "    <tr>\n",
       "      <th>3</th>\n",
       "      <td>764c75f661154dac3a6c254cd082ea7d</td>\n",
       "      <td>NaN</td>\n",
       "      <td>foosdfpfkusacimwkcsosbicdxkicaua</td>\n",
       "      <td>544</td>\n",
       "      <td>0</td>\n",
       "      <td>0</td>\n",
       "      <td>2010-04-16</td>\n",
       "      <td>2016-04-16</td>\n",
       "      <td>2010-04-16</td>\n",
       "      <td>2015-04-17</td>\n",
       "      <td>47.96</td>\n",
       "      <td>0</td>\n",
       "      <td>0.0</td>\n",
       "      <td>38.72</td>\n",
       "      <td>0.165794</td>\n",
       "      <td>0.087899</td>\n",
       "      <td>44.311378</td>\n",
       "      <td>f</td>\n",
       "      <td>0.0</td>\n",
       "      <td>28.60</td>\n",
       "      <td>28.60</td>\n",
       "      <td>1</td>\n",
       "      <td>6.60</td>\n",
       "      <td>6</td>\n",
       "      <td>kamkkxfxxuwbdslkwifmmcsiusiuosws</td>\n",
       "      <td>13.856</td>\n",
       "      <td>0</td>\n",
       "    </tr>\n",
       "    <tr>\n",
       "      <th>4</th>\n",
       "      <td>bba03439a292a1e166f80264c16191cb</td>\n",
       "      <td>NaN</td>\n",
       "      <td>lmkebamcaaclubfxadlmueccxoimlema</td>\n",
       "      <td>1584</td>\n",
       "      <td>0</td>\n",
       "      <td>0</td>\n",
       "      <td>2010-03-30</td>\n",
       "      <td>2016-03-30</td>\n",
       "      <td>2010-03-30</td>\n",
       "      <td>2015-03-31</td>\n",
       "      <td>240.04</td>\n",
       "      <td>0</td>\n",
       "      <td>0.0</td>\n",
       "      <td>19.83</td>\n",
       "      <td>0.146694</td>\n",
       "      <td>0.000000</td>\n",
       "      <td>44.311378</td>\n",
       "      <td>f</td>\n",
       "      <td>0.0</td>\n",
       "      <td>30.22</td>\n",
       "      <td>30.22</td>\n",
       "      <td>1</td>\n",
       "      <td>25.46</td>\n",
       "      <td>6</td>\n",
       "      <td>kamkkxfxxuwbdslkwifmmcsiusiuosws</td>\n",
       "      <td>13.200</td>\n",
       "      <td>0</td>\n",
       "    </tr>\n",
       "  </tbody>\n",
       "</table>\n",
       "</div>"
      ],
      "text/plain": [
       "                                 id                      activity_new  \\\n",
       "0  48ada52261e7cf58715202705a0451c9  esoiiifxdlbkcsluxmfuacbdckommixw   \n",
       "1  24011ae4ebbe3035111d65fa7c15bc57                               NaN   \n",
       "2  d29c2c54acc38ff3c0614d0a653813dd                               NaN   \n",
       "3  764c75f661154dac3a6c254cd082ea7d                               NaN   \n",
       "4  bba03439a292a1e166f80264c16191cb                               NaN   \n",
       "\n",
       "                      channel_sales  cons_12m  cons_gas_12m  cons_last_month  \\\n",
       "0  lmkebamcaaclubfxadlmueccxoimlema    309275             0            10025   \n",
       "1  foosdfpfkusacimwkcsosbicdxkicaua         0         54946                0   \n",
       "2                               NaN      4660             0                0   \n",
       "3  foosdfpfkusacimwkcsosbicdxkicaua       544             0                0   \n",
       "4  lmkebamcaaclubfxadlmueccxoimlema      1584             0                0   \n",
       "\n",
       "   date_activ    date_end date_modif_prod date_renewal  forecast_cons_12m  \\\n",
       "0  2012-11-07  2016-11-06      2012-11-07   2015-11-09           26520.30   \n",
       "1  2013-06-15  2016-06-15             NaN   2015-06-23               0.00   \n",
       "2  2009-08-21  2016-08-30      2009-08-21   2015-08-31             189.95   \n",
       "3  2010-04-16  2016-04-16      2010-04-16   2015-04-17              47.96   \n",
       "4  2010-03-30  2016-03-30      2010-03-30   2015-03-31             240.04   \n",
       "\n",
       "   forecast_cons_year  forecast_discount_energy  forecast_meter_rent_12m  \\\n",
       "0               10025                       0.0                   359.29   \n",
       "1                   0                       0.0                     1.78   \n",
       "2                   0                       0.0                    16.27   \n",
       "3                   0                       0.0                    38.72   \n",
       "4                   0                       0.0                    19.83   \n",
       "\n",
       "   forecast_price_energy_p1  forecast_price_energy_p2  forecast_price_pow_p1  \\\n",
       "0                  0.095919                  0.088347              58.995952   \n",
       "1                  0.114481                  0.098142              40.606701   \n",
       "2                  0.145711                  0.000000              44.311378   \n",
       "3                  0.165794                  0.087899              44.311378   \n",
       "4                  0.146694                  0.000000              44.311378   \n",
       "\n",
       "  has_gas  imp_cons  margin_gross_pow_ele  margin_net_pow_ele  nb_prod_act  \\\n",
       "0       f     831.8                -41.76              -41.76            1   \n",
       "1       t       0.0                 25.44               25.44            2   \n",
       "2       f       0.0                 16.38               16.38            1   \n",
       "3       f       0.0                 28.60               28.60            1   \n",
       "4       f       0.0                 30.22               30.22            1   \n",
       "\n",
       "   net_margin  num_years_antig                         origin_up  pow_max  \\\n",
       "0     1732.36                3  ldkssxwpmemidmecebumciepifcamkci  180.000   \n",
       "1      678.99                3  lxidpiddsbxsbosboudacockeimpuepw   43.648   \n",
       "2       18.89                6  kamkkxfxxuwbdslkwifmmcsiusiuosws   13.800   \n",
       "3        6.60                6  kamkkxfxxuwbdslkwifmmcsiusiuosws   13.856   \n",
       "4       25.46                6  kamkkxfxxuwbdslkwifmmcsiusiuosws   13.200   \n",
       "\n",
       "   churn  \n",
       "0      0  \n",
       "1      1  \n",
       "2      0  \n",
       "3      0  \n",
       "4      0  "
      ]
     },
     "execution_count": 59,
     "metadata": {},
     "output_type": "execute_result"
    }
   ],
   "source": [
    "train.head()\n"
   ]
  },
  {
   "cell_type": "code",
   "execution_count": 60,
   "metadata": {},
   "outputs": [
    {
     "data": {
      "text/html": [
       "<div>\n",
       "<style scoped>\n",
       "    .dataframe tbody tr th:only-of-type {\n",
       "        vertical-align: middle;\n",
       "    }\n",
       "\n",
       "    .dataframe tbody tr th {\n",
       "        vertical-align: top;\n",
       "    }\n",
       "\n",
       "    .dataframe thead th {\n",
       "        text-align: right;\n",
       "    }\n",
       "</style>\n",
       "<table border=\"1\" class=\"dataframe\">\n",
       "  <thead>\n",
       "    <tr style=\"text-align: right;\">\n",
       "      <th></th>\n",
       "      <th>Dataframe columns</th>\n",
       "    </tr>\n",
       "  </thead>\n",
       "  <tbody>\n",
       "    <tr>\n",
       "      <th>0</th>\n",
       "      <td>id</td>\n",
       "    </tr>\n",
       "    <tr>\n",
       "      <th>1</th>\n",
       "      <td>activity_new</td>\n",
       "    </tr>\n",
       "    <tr>\n",
       "      <th>2</th>\n",
       "      <td>channel_sales</td>\n",
       "    </tr>\n",
       "    <tr>\n",
       "      <th>3</th>\n",
       "      <td>cons_12m</td>\n",
       "    </tr>\n",
       "    <tr>\n",
       "      <th>4</th>\n",
       "      <td>cons_gas_12m</td>\n",
       "    </tr>\n",
       "    <tr>\n",
       "      <th>5</th>\n",
       "      <td>cons_last_month</td>\n",
       "    </tr>\n",
       "    <tr>\n",
       "      <th>6</th>\n",
       "      <td>date_activ</td>\n",
       "    </tr>\n",
       "    <tr>\n",
       "      <th>7</th>\n",
       "      <td>date_end</td>\n",
       "    </tr>\n",
       "    <tr>\n",
       "      <th>8</th>\n",
       "      <td>date_modif_prod</td>\n",
       "    </tr>\n",
       "    <tr>\n",
       "      <th>9</th>\n",
       "      <td>date_renewal</td>\n",
       "    </tr>\n",
       "    <tr>\n",
       "      <th>10</th>\n",
       "      <td>forecast_cons_12m</td>\n",
       "    </tr>\n",
       "    <tr>\n",
       "      <th>11</th>\n",
       "      <td>forecast_cons_year</td>\n",
       "    </tr>\n",
       "    <tr>\n",
       "      <th>12</th>\n",
       "      <td>forecast_discount_energy</td>\n",
       "    </tr>\n",
       "    <tr>\n",
       "      <th>13</th>\n",
       "      <td>forecast_meter_rent_12m</td>\n",
       "    </tr>\n",
       "    <tr>\n",
       "      <th>14</th>\n",
       "      <td>forecast_price_energy_p1</td>\n",
       "    </tr>\n",
       "    <tr>\n",
       "      <th>15</th>\n",
       "      <td>forecast_price_energy_p2</td>\n",
       "    </tr>\n",
       "    <tr>\n",
       "      <th>16</th>\n",
       "      <td>forecast_price_pow_p1</td>\n",
       "    </tr>\n",
       "    <tr>\n",
       "      <th>17</th>\n",
       "      <td>has_gas</td>\n",
       "    </tr>\n",
       "    <tr>\n",
       "      <th>18</th>\n",
       "      <td>imp_cons</td>\n",
       "    </tr>\n",
       "    <tr>\n",
       "      <th>19</th>\n",
       "      <td>margin_gross_pow_ele</td>\n",
       "    </tr>\n",
       "    <tr>\n",
       "      <th>20</th>\n",
       "      <td>margin_net_pow_ele</td>\n",
       "    </tr>\n",
       "    <tr>\n",
       "      <th>21</th>\n",
       "      <td>nb_prod_act</td>\n",
       "    </tr>\n",
       "    <tr>\n",
       "      <th>22</th>\n",
       "      <td>net_margin</td>\n",
       "    </tr>\n",
       "    <tr>\n",
       "      <th>23</th>\n",
       "      <td>num_years_antig</td>\n",
       "    </tr>\n",
       "    <tr>\n",
       "      <th>24</th>\n",
       "      <td>origin_up</td>\n",
       "    </tr>\n",
       "    <tr>\n",
       "      <th>25</th>\n",
       "      <td>pow_max</td>\n",
       "    </tr>\n",
       "    <tr>\n",
       "      <th>26</th>\n",
       "      <td>churn</td>\n",
       "    </tr>\n",
       "  </tbody>\n",
       "</table>\n",
       "</div>"
      ],
      "text/plain": [
       "           Dataframe columns\n",
       "0                         id\n",
       "1               activity_new\n",
       "2              channel_sales\n",
       "3                   cons_12m\n",
       "4               cons_gas_12m\n",
       "5            cons_last_month\n",
       "6                 date_activ\n",
       "7                   date_end\n",
       "8            date_modif_prod\n",
       "9               date_renewal\n",
       "10         forecast_cons_12m\n",
       "11        forecast_cons_year\n",
       "12  forecast_discount_energy\n",
       "13   forecast_meter_rent_12m\n",
       "14  forecast_price_energy_p1\n",
       "15  forecast_price_energy_p2\n",
       "16     forecast_price_pow_p1\n",
       "17                   has_gas\n",
       "18                  imp_cons\n",
       "19      margin_gross_pow_ele\n",
       "20        margin_net_pow_ele\n",
       "21               nb_prod_act\n",
       "22                net_margin\n",
       "23           num_years_antig\n",
       "24                 origin_up\n",
       "25                   pow_max\n",
       "26                     churn"
      ]
     },
     "execution_count": 60,
     "metadata": {},
     "output_type": "execute_result"
    }
   ],
   "source": [
    "pd.DataFrame({\"Dataframe columns\": train.columns})"
   ]
  },
  {
   "cell_type": "markdown",
   "metadata": {},
   "source": [
    "### Duplicates"
   ]
  },
  {
   "cell_type": "code",
   "execution_count": 61,
   "metadata": {},
   "outputs": [
    {
     "data": {
      "text/html": [
       "<div>\n",
       "<style scoped>\n",
       "    .dataframe tbody tr th:only-of-type {\n",
       "        vertical-align: middle;\n",
       "    }\n",
       "\n",
       "    .dataframe tbody tr th {\n",
       "        vertical-align: top;\n",
       "    }\n",
       "\n",
       "    .dataframe thead th {\n",
       "        text-align: right;\n",
       "    }\n",
       "</style>\n",
       "<table border=\"1\" class=\"dataframe\">\n",
       "  <thead>\n",
       "    <tr style=\"text-align: right;\">\n",
       "      <th></th>\n",
       "      <th>id</th>\n",
       "      <th>activity_new</th>\n",
       "      <th>channel_sales</th>\n",
       "      <th>cons_12m</th>\n",
       "      <th>cons_gas_12m</th>\n",
       "      <th>cons_last_month</th>\n",
       "      <th>date_activ</th>\n",
       "      <th>date_end</th>\n",
       "      <th>date_modif_prod</th>\n",
       "      <th>date_renewal</th>\n",
       "      <th>forecast_cons_12m</th>\n",
       "      <th>forecast_cons_year</th>\n",
       "      <th>forecast_discount_energy</th>\n",
       "      <th>forecast_meter_rent_12m</th>\n",
       "      <th>forecast_price_energy_p1</th>\n",
       "      <th>forecast_price_energy_p2</th>\n",
       "      <th>forecast_price_pow_p1</th>\n",
       "      <th>has_gas</th>\n",
       "      <th>imp_cons</th>\n",
       "      <th>margin_gross_pow_ele</th>\n",
       "      <th>margin_net_pow_ele</th>\n",
       "      <th>nb_prod_act</th>\n",
       "      <th>net_margin</th>\n",
       "      <th>num_years_antig</th>\n",
       "      <th>origin_up</th>\n",
       "      <th>pow_max</th>\n",
       "      <th>churn</th>\n",
       "    </tr>\n",
       "  </thead>\n",
       "  <tbody>\n",
       "  </tbody>\n",
       "</table>\n",
       "</div>"
      ],
      "text/plain": [
       "Empty DataFrame\n",
       "Columns: [id, activity_new, channel_sales, cons_12m, cons_gas_12m, cons_last_month, date_activ, date_end, date_modif_prod, date_renewal, forecast_cons_12m, forecast_cons_year, forecast_discount_energy, forecast_meter_rent_12m, forecast_price_energy_p1, forecast_price_energy_p2, forecast_price_pow_p1, has_gas, imp_cons, margin_gross_pow_ele, margin_net_pow_ele, nb_prod_act, net_margin, num_years_antig, origin_up, pow_max, churn]\n",
       "Index: []"
      ]
     },
     "execution_count": 61,
     "metadata": {},
     "output_type": "execute_result"
    }
   ],
   "source": [
    "# the  .duplicated()function in pandas displays duplicates.\n",
    "train[train.duplicated()]\n"
   ]
  },
  {
   "cell_type": "code",
   "execution_count": 62,
   "metadata": {},
   "outputs": [
    {
     "data": {
      "text/html": [
       "<div>\n",
       "<style scoped>\n",
       "    .dataframe tbody tr th:only-of-type {\n",
       "        vertical-align: middle;\n",
       "    }\n",
       "\n",
       "    .dataframe tbody tr th {\n",
       "        vertical-align: top;\n",
       "    }\n",
       "\n",
       "    .dataframe thead th {\n",
       "        text-align: right;\n",
       "    }\n",
       "</style>\n",
       "<table border=\"1\" class=\"dataframe\">\n",
       "  <thead>\n",
       "    <tr style=\"text-align: right;\">\n",
       "      <th></th>\n",
       "      <th>id</th>\n",
       "      <th>activity_new</th>\n",
       "      <th>channel_sales</th>\n",
       "      <th>cons_12m</th>\n",
       "      <th>cons_gas_12m</th>\n",
       "      <th>cons_last_month</th>\n",
       "      <th>date_activ</th>\n",
       "      <th>date_end</th>\n",
       "      <th>date_modif_prod</th>\n",
       "      <th>date_renewal</th>\n",
       "      <th>forecast_cons_12m</th>\n",
       "      <th>forecast_cons_year</th>\n",
       "      <th>forecast_discount_energy</th>\n",
       "      <th>forecast_meter_rent_12m</th>\n",
       "      <th>forecast_price_energy_p1</th>\n",
       "      <th>forecast_price_energy_p2</th>\n",
       "      <th>forecast_price_pow_p1</th>\n",
       "      <th>has_gas</th>\n",
       "      <th>imp_cons</th>\n",
       "      <th>margin_gross_pow_ele</th>\n",
       "      <th>margin_net_pow_ele</th>\n",
       "      <th>nb_prod_act</th>\n",
       "      <th>net_margin</th>\n",
       "      <th>num_years_antig</th>\n",
       "      <th>origin_up</th>\n",
       "      <th>pow_max</th>\n",
       "      <th>churn</th>\n",
       "    </tr>\n",
       "  </thead>\n",
       "  <tbody>\n",
       "  </tbody>\n",
       "</table>\n",
       "</div>"
      ],
      "text/plain": [
       "Empty DataFrame\n",
       "Columns: [id, activity_new, channel_sales, cons_12m, cons_gas_12m, cons_last_month, date_activ, date_end, date_modif_prod, date_renewal, forecast_cons_12m, forecast_cons_year, forecast_discount_energy, forecast_meter_rent_12m, forecast_price_energy_p1, forecast_price_energy_p2, forecast_price_pow_p1, has_gas, imp_cons, margin_gross_pow_ele, margin_net_pow_ele, nb_prod_act, net_margin, num_years_antig, origin_up, pow_max, churn]\n",
       "Index: []"
      ]
     },
     "execution_count": 62,
     "metadata": {},
     "output_type": "execute_result"
    }
   ],
   "source": [
    "train[train.duplicated()]"
   ]
  },
  {
   "cell_type": "markdown",
   "metadata": {},
   "source": [
    "## 5. Formatting data"
   ]
  },
  {
   "cell_type": "markdown",
   "metadata": {},
   "source": [
    "### Missing dates\n",
    "There could be several ways in which we could deal with the missing dates.\n",
    "\n",
    "One way, we could \"engineer\" the dates from known values. For example, the date_renewal is usually the same date as the  date_modif_prod\n",
    "but one year ahead.\n",
    "\n",
    "The simplest way, we will replace the missing values with the median (the most frequent date). For numerical values, the built-in function .median()\n",
    "can be used, but this will not work for dates or strings, so we will use a workaround using .value counts()\n"
   ]
  },
  {
   "cell_type": "code",
   "execution_count": 63,
   "metadata": {},
   "outputs": [],
   "source": [
    "train.loc[train[\"date_modif_prod\"].isnull(),\"date_modif_prod\"] = train[\"date_modif_prod\"].value_counts().index[0] \n",
    "train.loc[train[\"date_end\"].isnull(),\"date_end\"] = train[\"date_end\"].value_counts().index[0]\n",
    "train.loc[train[\"date_renewal\"].isnull(),\"date_renewal\"] = train[\"date_renewal\"].value_counts().index[0]\n"
   ]
  },
  {
   "cell_type": "markdown",
   "metadata": {},
   "source": [
    "Although we are directly replacing the values in here, it is usually best practice to make a binary ﬂag that indicates when data is missing because this is informative in itself."
   ]
  },
  {
   "cell_type": "markdown",
   "metadata": {},
   "source": [
    "### Missing data"
   ]
  },
  {
   "cell_type": "markdown",
   "metadata": {},
   "source": [
    "We might have some prices missing for some companies and months"
   ]
  },
  {
   "cell_type": "code",
   "execution_count": 64,
   "metadata": {},
   "outputs": [],
   "source": [
    "missing_data_percentage = history_data.isnull().sum()/len(history_data.index)*100"
   ]
  },
  {
   "cell_type": "code",
   "execution_count": 65,
   "metadata": {},
   "outputs": [
    {
     "data": {
      "image/png": "[encoded data removed]",
      "text/plain": [
       "<Figure size 1296x720 with 1 Axes>"
      ]
     },
     "metadata": {
      "needs_background": "light"
     },
     "output_type": "display_data"
    }
   ],
   "source": [
    "missing_data_percentage.plot(kind=\"bar\", figsize=(18,10))\n",
    "# Set labels\n",
    "plt.xlabel(\"Variables\")\n",
    "plt.ylabel(\"Missing values (%)\") \n",
    "\n",
    "plt.show()\n"
   ]
  },
  {
   "cell_type": "markdown",
   "metadata": {},
   "source": [
    "There is not much data missing. Instead of removing the entries that are empty we will simply substitute them with the median .\n",
    "\n",
    "mean,median or mode could be use to populate missing data.\n"
   ]
  },
  {
   "cell_type": "code",
   "execution_count": 66,
   "metadata": {},
   "outputs": [
    {
     "data": {
      "text/html": [
       "<div>\n",
       "<style scoped>\n",
       "    .dataframe tbody tr th:only-of-type {\n",
       "        vertical-align: middle;\n",
       "    }\n",
       "\n",
       "    .dataframe tbody tr th {\n",
       "        vertical-align: top;\n",
       "    }\n",
       "\n",
       "    .dataframe thead th {\n",
       "        text-align: right;\n",
       "    }\n",
       "</style>\n",
       "<table border=\"1\" class=\"dataframe\">\n",
       "  <thead>\n",
       "    <tr style=\"text-align: right;\">\n",
       "      <th></th>\n",
       "      <th>id</th>\n",
       "      <th>price_date</th>\n",
       "      <th>price_p1_var</th>\n",
       "      <th>price_p2_var</th>\n",
       "      <th>price_p3_var</th>\n",
       "      <th>price_p1_fix</th>\n",
       "      <th>price_p2_fix</th>\n",
       "      <th>price_p3_fix</th>\n",
       "    </tr>\n",
       "  </thead>\n",
       "  <tbody>\n",
       "    <tr>\n",
       "      <th>75</th>\n",
       "      <td>ef716222bbd97a8bdfcbb831e3575560</td>\n",
       "      <td>2015-04-01</td>\n",
       "      <td>NaN</td>\n",
       "      <td>NaN</td>\n",
       "      <td>NaN</td>\n",
       "      <td>NaN</td>\n",
       "      <td>NaN</td>\n",
       "      <td>NaN</td>\n",
       "    </tr>\n",
       "    <tr>\n",
       "      <th>221</th>\n",
       "      <td>0f5231100b2febab862f8dd8eaab3f43</td>\n",
       "      <td>2015-06-01</td>\n",
       "      <td>NaN</td>\n",
       "      <td>NaN</td>\n",
       "      <td>NaN</td>\n",
       "      <td>NaN</td>\n",
       "      <td>NaN</td>\n",
       "      <td>NaN</td>\n",
       "    </tr>\n",
       "    <tr>\n",
       "      <th>377</th>\n",
       "      <td>2f93639de582fadfbe3e86ce1c8d8f35</td>\n",
       "      <td>2015-06-01</td>\n",
       "      <td>NaN</td>\n",
       "      <td>NaN</td>\n",
       "      <td>NaN</td>\n",
       "      <td>NaN</td>\n",
       "      <td>NaN</td>\n",
       "      <td>NaN</td>\n",
       "    </tr>\n",
       "    <tr>\n",
       "      <th>413</th>\n",
       "      <td>f83c1ab1ca1d1802bb1df4d72820243c</td>\n",
       "      <td>2015-06-01</td>\n",
       "      <td>NaN</td>\n",
       "      <td>NaN</td>\n",
       "      <td>NaN</td>\n",
       "      <td>NaN</td>\n",
       "      <td>NaN</td>\n",
       "      <td>NaN</td>\n",
       "    </tr>\n",
       "    <tr>\n",
       "      <th>461</th>\n",
       "      <td>3076c6d4a060e12a049d1700d9b09cf3</td>\n",
       "      <td>2015-06-01</td>\n",
       "      <td>NaN</td>\n",
       "      <td>NaN</td>\n",
       "      <td>NaN</td>\n",
       "      <td>NaN</td>\n",
       "      <td>NaN</td>\n",
       "      <td>NaN</td>\n",
       "    </tr>\n",
       "    <tr>\n",
       "      <th>...</th>\n",
       "      <td>...</td>\n",
       "      <td>...</td>\n",
       "      <td>...</td>\n",
       "      <td>...</td>\n",
       "      <td>...</td>\n",
       "      <td>...</td>\n",
       "      <td>...</td>\n",
       "      <td>...</td>\n",
       "    </tr>\n",
       "    <tr>\n",
       "      <th>192767</th>\n",
       "      <td>2dc2c9a9f6e6896d9a07d7bcbb9d0ce9</td>\n",
       "      <td>2015-06-01</td>\n",
       "      <td>NaN</td>\n",
       "      <td>NaN</td>\n",
       "      <td>NaN</td>\n",
       "      <td>NaN</td>\n",
       "      <td>NaN</td>\n",
       "      <td>NaN</td>\n",
       "    </tr>\n",
       "    <tr>\n",
       "      <th>192788</th>\n",
       "      <td>e4053a0ad6c55e4665e8e9adb9f75db5</td>\n",
       "      <td>2015-03-01</td>\n",
       "      <td>NaN</td>\n",
       "      <td>NaN</td>\n",
       "      <td>NaN</td>\n",
       "      <td>NaN</td>\n",
       "      <td>NaN</td>\n",
       "      <td>NaN</td>\n",
       "    </tr>\n",
       "    <tr>\n",
       "      <th>192875</th>\n",
       "      <td>1a788ca3bfb16ce443dcf7d75e702b5d</td>\n",
       "      <td>2015-06-01</td>\n",
       "      <td>NaN</td>\n",
       "      <td>NaN</td>\n",
       "      <td>NaN</td>\n",
       "      <td>NaN</td>\n",
       "      <td>NaN</td>\n",
       "      <td>NaN</td>\n",
       "    </tr>\n",
       "    <tr>\n",
       "      <th>192876</th>\n",
       "      <td>1a788ca3bfb16ce443dcf7d75e702b5d</td>\n",
       "      <td>2015-07-01</td>\n",
       "      <td>NaN</td>\n",
       "      <td>NaN</td>\n",
       "      <td>NaN</td>\n",
       "      <td>NaN</td>\n",
       "      <td>NaN</td>\n",
       "      <td>NaN</td>\n",
       "    </tr>\n",
       "    <tr>\n",
       "      <th>192886</th>\n",
       "      <td>d625f9e90d4af9986197444361e99235</td>\n",
       "      <td>2015-05-01</td>\n",
       "      <td>NaN</td>\n",
       "      <td>NaN</td>\n",
       "      <td>NaN</td>\n",
       "      <td>NaN</td>\n",
       "      <td>NaN</td>\n",
       "      <td>NaN</td>\n",
       "    </tr>\n",
       "  </tbody>\n",
       "</table>\n",
       "<p>1359 rows × 8 columns</p>\n",
       "</div>"
      ],
      "text/plain": [
       "                                      id  price_date  price_p1_var  \\\n",
       "75      ef716222bbd97a8bdfcbb831e3575560  2015-04-01           NaN   \n",
       "221     0f5231100b2febab862f8dd8eaab3f43  2015-06-01           NaN   \n",
       "377     2f93639de582fadfbe3e86ce1c8d8f35  2015-06-01           NaN   \n",
       "413     f83c1ab1ca1d1802bb1df4d72820243c  2015-06-01           NaN   \n",
       "461     3076c6d4a060e12a049d1700d9b09cf3  2015-06-01           NaN   \n",
       "...                                  ...         ...           ...   \n",
       "192767  2dc2c9a9f6e6896d9a07d7bcbb9d0ce9  2015-06-01           NaN   \n",
       "192788  e4053a0ad6c55e4665e8e9adb9f75db5  2015-03-01           NaN   \n",
       "192875  1a788ca3bfb16ce443dcf7d75e702b5d  2015-06-01           NaN   \n",
       "192876  1a788ca3bfb16ce443dcf7d75e702b5d  2015-07-01           NaN   \n",
       "192886  d625f9e90d4af9986197444361e99235  2015-05-01           NaN   \n",
       "\n",
       "        price_p2_var  price_p3_var  price_p1_fix  price_p2_fix  price_p3_fix  \n",
       "75               NaN           NaN           NaN           NaN           NaN  \n",
       "221              NaN           NaN           NaN           NaN           NaN  \n",
       "377              NaN           NaN           NaN           NaN           NaN  \n",
       "413              NaN           NaN           NaN           NaN           NaN  \n",
       "461              NaN           NaN           NaN           NaN           NaN  \n",
       "...              ...           ...           ...           ...           ...  \n",
       "192767           NaN           NaN           NaN           NaN           NaN  \n",
       "192788           NaN           NaN           NaN           NaN           NaN  \n",
       "192875           NaN           NaN           NaN           NaN           NaN  \n",
       "192876           NaN           NaN           NaN           NaN           NaN  \n",
       "192886           NaN           NaN           NaN           NaN           NaN  \n",
       "\n",
       "[1359 rows x 8 columns]"
      ]
     },
     "execution_count": 66,
     "metadata": {},
     "output_type": "execute_result"
    }
   ],
   "source": [
    "history_data[history_data.isnull().any(axis=1)]"
   ]
  },
  {
   "cell_type": "code",
   "execution_count": 67,
   "metadata": {},
   "outputs": [],
   "source": [
    "history_data.loc[history_data[\"price_p1_var\"].isnull(),\"price_p1_var\"] = history_data[\"price_p1_var\"].median()\n",
    "history_data.loc[history_data[\"price_p2_var\"].isnull(),\"price_p2_var\"] = history_data[\"price_p2_var\"].median() \n",
    "history_data.loc[history_data[\"price_p3_var\"].isnull(),\"price_p3_var\"] = history_data[\"price_p3_var\"].median()\n",
    "history_data.loc[history_data[\"price_p1_fix\"].isnull(),\"price_p1_fix\"] = history_data[\"price_p1_fix\"].median() \n",
    "history_data.loc[history_data[\"price_p2_fix\"].isnull(),\"price_p2_fix\"] = history_data[\"price_p2_fix\"].median() \n",
    "history_data.loc[history_data[\"price_p3_fix\"].isnull(),\"price_p3_fix\"] = history_data[\"price_p3_fix\"].median()"
   ]
  },
  {
   "cell_type": "code",
   "execution_count": 68,
   "metadata": {},
   "outputs": [
    {
     "data": {
      "text/html": [
       "<div>\n",
       "<style scoped>\n",
       "    .dataframe tbody tr th:only-of-type {\n",
       "        vertical-align: middle;\n",
       "    }\n",
       "\n",
       "    .dataframe tbody tr th {\n",
       "        vertical-align: top;\n",
       "    }\n",
       "\n",
       "    .dataframe thead th {\n",
       "        text-align: right;\n",
       "    }\n",
       "</style>\n",
       "<table border=\"1\" class=\"dataframe\">\n",
       "  <thead>\n",
       "    <tr style=\"text-align: right;\">\n",
       "      <th></th>\n",
       "      <th>id</th>\n",
       "      <th>price_date</th>\n",
       "      <th>price_p1_var</th>\n",
       "      <th>price_p2_var</th>\n",
       "      <th>price_p3_var</th>\n",
       "      <th>price_p1_fix</th>\n",
       "      <th>price_p2_fix</th>\n",
       "      <th>price_p3_fix</th>\n",
       "    </tr>\n",
       "  </thead>\n",
       "  <tbody>\n",
       "    <tr>\n",
       "      <th>0</th>\n",
       "      <td>038af19179925da21a25619c5a24b745</td>\n",
       "      <td>2015-01-01</td>\n",
       "      <td>0.151367</td>\n",
       "      <td>0.0</td>\n",
       "      <td>0.0</td>\n",
       "      <td>44.266931</td>\n",
       "      <td>0.0</td>\n",
       "      <td>0.0</td>\n",
       "    </tr>\n",
       "    <tr>\n",
       "      <th>1</th>\n",
       "      <td>038af19179925da21a25619c5a24b745</td>\n",
       "      <td>2015-02-01</td>\n",
       "      <td>0.151367</td>\n",
       "      <td>0.0</td>\n",
       "      <td>0.0</td>\n",
       "      <td>44.266931</td>\n",
       "      <td>0.0</td>\n",
       "      <td>0.0</td>\n",
       "    </tr>\n",
       "    <tr>\n",
       "      <th>2</th>\n",
       "      <td>038af19179925da21a25619c5a24b745</td>\n",
       "      <td>2015-03-01</td>\n",
       "      <td>0.151367</td>\n",
       "      <td>0.0</td>\n",
       "      <td>0.0</td>\n",
       "      <td>44.266931</td>\n",
       "      <td>0.0</td>\n",
       "      <td>0.0</td>\n",
       "    </tr>\n",
       "    <tr>\n",
       "      <th>3</th>\n",
       "      <td>038af19179925da21a25619c5a24b745</td>\n",
       "      <td>2015-04-01</td>\n",
       "      <td>0.149626</td>\n",
       "      <td>0.0</td>\n",
       "      <td>0.0</td>\n",
       "      <td>44.266931</td>\n",
       "      <td>0.0</td>\n",
       "      <td>0.0</td>\n",
       "    </tr>\n",
       "    <tr>\n",
       "      <th>4</th>\n",
       "      <td>038af19179925da21a25619c5a24b745</td>\n",
       "      <td>2015-05-01</td>\n",
       "      <td>0.149626</td>\n",
       "      <td>0.0</td>\n",
       "      <td>0.0</td>\n",
       "      <td>44.266931</td>\n",
       "      <td>0.0</td>\n",
       "      <td>0.0</td>\n",
       "    </tr>\n",
       "  </tbody>\n",
       "</table>\n",
       "</div>"
      ],
      "text/plain": [
       "                                 id  price_date  price_p1_var  price_p2_var  \\\n",
       "0  038af19179925da21a25619c5a24b745  2015-01-01      0.151367           0.0   \n",
       "1  038af19179925da21a25619c5a24b745  2015-02-01      0.151367           0.0   \n",
       "2  038af19179925da21a25619c5a24b745  2015-03-01      0.151367           0.0   \n",
       "3  038af19179925da21a25619c5a24b745  2015-04-01      0.149626           0.0   \n",
       "4  038af19179925da21a25619c5a24b745  2015-05-01      0.149626           0.0   \n",
       "\n",
       "   price_p3_var  price_p1_fix  price_p2_fix  price_p3_fix  \n",
       "0           0.0     44.266931           0.0           0.0  \n",
       "1           0.0     44.266931           0.0           0.0  \n",
       "2           0.0     44.266931           0.0           0.0  \n",
       "3           0.0     44.266931           0.0           0.0  \n",
       "4           0.0     44.266931           0.0           0.0  "
      ]
     },
     "execution_count": 68,
     "metadata": {},
     "output_type": "execute_result"
    }
   ],
   "source": [
    "history_data.head()"
   ]
  },
  {
   "cell_type": "markdown",
   "metadata": {},
   "source": [
    "### Formatting dates (train data)\n",
    "\n",
    "In order to use the dates in our churn prediction model we are going to change the representation of these dates. Instead of using the date itself, we will be transforming it in number of months. In order to make this transformation we need to change the dates to datetime and create a\n",
    "reference date which will be January 2016 (see notes)\n",
    "\n"
   ]
  },
  {
   "cell_type": "code",
   "execution_count": 69,
   "metadata": {},
   "outputs": [],
   "source": [
    "# Transform date columns to datetime type\n",
    "train[\"date_activ\"] = pd.to_datetime(train[\"date_activ\"], format='%Y-%m-%d') \n",
    "train[\"date_end\"] = pd.to_datetime(train[\"date_end\"], format='%Y-%m-%d')\n",
    "train[\"date_modif_prod\"] = pd.to_datetime(train[\"date_modif_prod\"], format='%Y-%m-%d') \n",
    "train[\"date_renewal\"] = pd.to_datetime(train[\"date_renewal\"], format='%Y-%m-%d')\n"
   ]
  },
  {
   "cell_type": "markdown",
   "metadata": {},
   "source": [
    "### Formating dates (history data)"
   ]
  },
  {
   "cell_type": "code",
   "execution_count": 70,
   "metadata": {},
   "outputs": [],
   "source": [
    "history_data[\"price_date\"] = pd.to_datetime(history_data[\"price_date\"], format='%Y-%m-%d')"
   ]
  },
  {
   "cell_type": "code",
   "execution_count": 71,
   "metadata": {},
   "outputs": [
    {
     "data": {
      "text/plain": [
       "<AxesSubplot:xlabel='imp_cons'>"
      ]
     },
     "execution_count": 71,
     "metadata": {},
     "output_type": "execute_result"
    },
    {
     "data": {
      "image/png": "[encoded data removed]",
      "text/plain": [
       "<Figure size 1296x3600 with 7 Axes>"
      ]
     },
     "metadata": {
      "needs_background": "light"
     },
     "output_type": "display_data"
    }
   ],
   "source": [
    "fig, axs = plt.subplots(nrows=7, figsize=(18,50))\n",
    "# Plot boxplots\n",
    "\n",
    "sns.boxplot((train[\"cons_12m\"].dropna()), ax=axs[0])\n",
    "sns.boxplot((train[train[\"has_gas\"]==1][\"cons_gas_12m\"].dropna()), ax=axs[1]) \n",
    "sns.boxplot((train[\"cons_last_month\"].dropna()), ax=axs[2])\n",
    "sns.boxplot((train[\"forecast_cons_12m\"].dropna()), ax=axs[3])\n",
    "#sns.boxplot((train[\"forecast_cons_year\"].dropna()), ax=axs[4])\n",
    "sns.boxplot((train[\"forecast_meter_rent_12m\"].dropna()), ax=axs[5]) \n",
    "sns.boxplot((train[\"imp_cons\"].dropna()), ax=axs[6])\n"
   ]
  },
  {
   "cell_type": "code",
   "execution_count": null,
   "metadata": {},
   "outputs": [],
   "source": []
  },
  {
   "cell_type": "markdown",
   "metadata": {},
   "source": [
    "### Negative data\n",
    "price exploration.\n"
   ]
  },
  {
   "cell_type": "code",
   "execution_count": 84,
   "metadata": {},
   "outputs": [
    {
     "data": {
      "text/html": [
       "<div>\n",
       "<style scoped>\n",
       "    .dataframe tbody tr th:only-of-type {\n",
       "        vertical-align: middle;\n",
       "    }\n",
       "\n",
       "    .dataframe tbody tr th {\n",
       "        vertical-align: top;\n",
       "    }\n",
       "\n",
       "    .dataframe thead th {\n",
       "        text-align: right;\n",
       "    }\n",
       "</style>\n",
       "<table border=\"1\" class=\"dataframe\">\n",
       "  <thead>\n",
       "    <tr style=\"text-align: right;\">\n",
       "      <th></th>\n",
       "      <th>price_p1_var</th>\n",
       "      <th>price_p2_var</th>\n",
       "      <th>price_p3_var</th>\n",
       "      <th>price_p1_fix</th>\n",
       "      <th>price_p2_fix</th>\n",
       "      <th>price_p3_fix</th>\n",
       "    </tr>\n",
       "  </thead>\n",
       "  <tbody>\n",
       "    <tr>\n",
       "      <th>count</th>\n",
       "      <td>193002.000000</td>\n",
       "      <td>193002.000000</td>\n",
       "      <td>193002.000000</td>\n",
       "      <td>193002.000000</td>\n",
       "      <td>193002.000000</td>\n",
       "      <td>193002.000000</td>\n",
       "    </tr>\n",
       "    <tr>\n",
       "      <th>mean</th>\n",
       "      <td>0.141027</td>\n",
       "      <td>0.054630</td>\n",
       "      <td>0.030496</td>\n",
       "      <td>43.334477</td>\n",
       "      <td>10.622875</td>\n",
       "      <td>6.409984</td>\n",
       "    </tr>\n",
       "    <tr>\n",
       "      <th>std</th>\n",
       "      <td>0.025032</td>\n",
       "      <td>0.049924</td>\n",
       "      <td>0.036298</td>\n",
       "      <td>5.410297</td>\n",
       "      <td>12.841895</td>\n",
       "      <td>7.773592</td>\n",
       "    </tr>\n",
       "    <tr>\n",
       "      <th>min</th>\n",
       "      <td>0.000000</td>\n",
       "      <td>0.000000</td>\n",
       "      <td>0.000000</td>\n",
       "      <td>0.000000</td>\n",
       "      <td>0.000000</td>\n",
       "      <td>0.000000</td>\n",
       "    </tr>\n",
       "    <tr>\n",
       "      <th>25%</th>\n",
       "      <td>0.125976</td>\n",
       "      <td>0.000000</td>\n",
       "      <td>0.000000</td>\n",
       "      <td>40.728885</td>\n",
       "      <td>0.000000</td>\n",
       "      <td>0.000000</td>\n",
       "    </tr>\n",
       "    <tr>\n",
       "      <th>50%</th>\n",
       "      <td>0.146033</td>\n",
       "      <td>0.085483</td>\n",
       "      <td>0.000000</td>\n",
       "      <td>44.266930</td>\n",
       "      <td>0.000000</td>\n",
       "      <td>0.000000</td>\n",
       "    </tr>\n",
       "    <tr>\n",
       "      <th>75%</th>\n",
       "      <td>0.151635</td>\n",
       "      <td>0.101673</td>\n",
       "      <td>0.072558</td>\n",
       "      <td>44.444710</td>\n",
       "      <td>24.339581</td>\n",
       "      <td>16.226389</td>\n",
       "    </tr>\n",
       "    <tr>\n",
       "      <th>max</th>\n",
       "      <td>0.280700</td>\n",
       "      <td>0.229788</td>\n",
       "      <td>0.114102</td>\n",
       "      <td>59.444710</td>\n",
       "      <td>36.490692</td>\n",
       "      <td>17.458221</td>\n",
       "    </tr>\n",
       "  </tbody>\n",
       "</table>\n",
       "</div>"
      ],
      "text/plain": [
       "        price_p1_var   price_p2_var   price_p3_var   price_p1_fix  \\\n",
       "count  193002.000000  193002.000000  193002.000000  193002.000000   \n",
       "mean        0.141027       0.054630       0.030496      43.334477   \n",
       "std         0.025032       0.049924       0.036298       5.410297   \n",
       "min         0.000000       0.000000       0.000000       0.000000   \n",
       "25%         0.125976       0.000000       0.000000      40.728885   \n",
       "50%         0.146033       0.085483       0.000000      44.266930   \n",
       "75%         0.151635       0.101673       0.072558      44.444710   \n",
       "max         0.280700       0.229788       0.114102      59.444710   \n",
       "\n",
       "        price_p2_fix   price_p3_fix  \n",
       "count  193002.000000  193002.000000  \n",
       "mean       10.622875       6.409984  \n",
       "std        12.841895       7.773592  \n",
       "min         0.000000       0.000000  \n",
       "25%         0.000000       0.000000  \n",
       "50%         0.000000       0.000000  \n",
       "75%        24.339581      16.226389  \n",
       "max        36.490692      17.458221  "
      ]
     },
     "execution_count": 84,
     "metadata": {},
     "output_type": "execute_result"
    }
   ],
   "source": [
    "history_data.describe()"
   ]
  },
  {
   "cell_type": "markdown",
   "metadata": {},
   "source": [
    "We can see that there are negative values for price_p1_fix , price_p2_fix and price_p3_fix .\n",
    "\n",
    "Further exploring on those we can see there are only about 10 entries which are negative. This is more likely to be due to corrupted data rather than a \"price discount\".\n",
    "\n",
    "We will replace the negative values with the median (most frequent value)\n"
   ]
  },
  {
   "cell_type": "code",
   "execution_count": 72,
   "metadata": {},
   "outputs": [],
   "source": [
    "#history_data[(history_data.price_p1_fix < 0) | (history_data.price_p2_fix < 0) | (history_data.price_p3_fix < 0)"
   ]
  },
  {
   "cell_type": "code",
   "execution_count": 73,
   "metadata": {},
   "outputs": [],
   "source": [
    "history_data.loc[history_data[\"price_p1_fix\"] < 0,\"price_p1_fix\"] = history_data[\"price_p1_fix\"].median() \n",
    "history_data.loc[history_data[\"price_p2_fix\"] < 0,\"price_p2_fix\"] = history_data[\"price_p2_fix\"].median() \n",
    "history_data.loc[history_data[\"price_p3_fix\"] < 0,\"price_p3_fix\"] = history_data[\"price_p3_fix\"].median()"
   ]
  },
  {
   "cell_type": "code",
   "execution_count": 74,
   "metadata": {},
   "outputs": [],
   "source": [
    "#processed_train_data =train.to_csv('processed_train_data.csv')\n",
    "#processed_historical_data= history_data.to_csv('processed_historical_data')\n",
    " "
   ]
  },
  {
   "cell_type": "markdown",
   "metadata": {},
   "source": [
    "## 8. Pickling"
   ]
  },
  {
   "cell_type": "markdown",
   "metadata": {},
   "source": [
    "Pickling is useful for applications where we need some degree of persistency in our data. Our program's state data can be saved to disk, so we can continue working on it later onMake directory processed_data if it does not exist already"
   ]
  },
  {
   "cell_type": "markdown",
   "metadata": {},
   "source": [
    "if not os.path.exists(os.path.join(\"..\", \"processed_data\")): os.makedirs(os.path.join(\"..\", \"processed_data\"))"
   ]
  },
  {
   "cell_type": "code",
   "execution_count": 75,
   "metadata": {},
   "outputs": [],
   "source": [
    "#PICKLE_TRAIN_DIR = os.path.join(\"..\", \"processed_data\", \"train_data.pkl\")\n",
    "#PICKLE_HISTORY_DIR = os.path.join(\"..\", \"processed_data\", \"history_data.pkl\")\n"
   ]
  },
  {
   "cell_type": "code",
   "execution_count": null,
   "metadata": {},
   "outputs": [],
   "source": []
  },
  {
   "cell_type": "code",
   "execution_count": 76,
   "metadata": {},
   "outputs": [],
   "source": [
    "#pd.to_pickle(train, PICKLE_TRAIN_DIR)\n",
    "#pd.to_pickle(history_data, PICKLE_HISTORY_DIR)\n"
   ]
  },
  {
   "cell_type": "markdown",
   "metadata": {},
   "source": [
    "### TO BE CONTINUED"
   ]
  },
  {
   "cell_type": "markdown",
   "metadata": {},
   "source": [
    "# BCG FEATURE ENGINNERING TASK 3"
   ]
  },
  {
   "cell_type": "markdown",
   "metadata": {},
   "source": [
    "### Feature engineering\n",
    "0.\tPackage Import and Data Loading\n",
    "1.\tFeature engineering\n",
    "2.\tVariable correlation\n",
    "3.\tRemoving outliers\n",
    "4.\tPickling\n"
   ]
  },
  {
   "cell_type": "markdown",
   "metadata": {},
   "source": [
    "\n",
    "## 0. Import packages"
   ]
  },
  {
   "cell_type": "markdown",
   "metadata": {},
   "source": [
    "Since we have the consumption data for each of the companies for the year 2015, we will create new features using the average of the year, the last six months, and the last three months to our model."
   ]
  },
  {
   "cell_type": "code",
   "execution_count": 77,
   "metadata": {},
   "outputs": [],
   "source": [
    "mean_year = history_data.groupby([\"id\"]).mean().reset_index()"
   ]
  },
  {
   "cell_type": "code",
   "execution_count": 78,
   "metadata": {},
   "outputs": [],
   "source": [
    "mean_6m = history_data[history_data[\"price_date\"] > \"2015-06-01\"].groupby([\"id\"]).mean().reset_index()"
   ]
  },
  {
   "cell_type": "code",
   "execution_count": 79,
   "metadata": {},
   "outputs": [],
   "source": [
    "mean_3m = history_data[history_data[\"price_date\"] > \"2015-10-01\"].groupby([\"id\"]).mean().reset_index()"
   ]
  },
  {
   "cell_type": "code",
   "execution_count": 80,
   "metadata": {},
   "outputs": [],
   "source": [
    "### Combine them in a single dataframe"
   ]
  },
  {
   "cell_type": "code",
   "execution_count": 82,
   "metadata": {},
   "outputs": [],
   "source": [
    "mean_year = mean_year.rename(index=str, columns={\"price_p1_var\": \"mean_year_price_p1_var\",\n",
    "\"price_p2_var\": \"mean_year_price_p2_var\", \"price_p3_var\": \"mean_year_price_p3_var\", \"price_p1_fix\": \"mean_year_price_p1_fix\", \"price_p2_fix\": \"mean_year_price_p2_fix\",\n",
    "\"price_p3_fix\": \"mean_year_price_p3_fix\",})\n",
    "mean_year[\"mean_year_price_p1\"] = mean_year[\"mean_year_price_p1_var\"] + mean_year[\"mean_year_price_p1_fix\"] \n",
    "mean_year[\"mean_year_price_p2\"] = mean_year[\"mean_year_price_p2_var\"] + mean_year[\"mean_year_price_p2_fix\"] \n",
    "mean_year[\"mean_year_price_p3\"] = mean_year[\"mean_year_price_p3_var\"] + mean_year[\"mean_year_price_p3_fix\"]\n"
   ]
  },
  {
   "cell_type": "code",
   "execution_count": 83,
   "metadata": {},
   "outputs": [],
   "source": [
    "mean_6m = mean_6m.rename(index=str, columns={\"price_p1_var\": \"mean_6m_price_p1_var\",\n",
    "\"price_p2_var\": \"mean_6m_price_p2_var\", \"price_p3_var\": \"mean_6m_price_p3_var\", \"price_p1_fix\": \"mean_6m_price_p1_fix\", \"price_p2_fix\": \"mean_6m_price_p2_fix\",\n",
    "\"price_p3_fix\": \"mean_6m_price_p3_fix\",})\n",
    "mean_6m[\"mean_6m_price_p1\"] = mean_6m[\"mean_6m_price_p1_var\"] + mean_6m[\"mean_6m_price_p1_fix\"] \n",
    "mean_6m[\"mean_6m_price_p2\"] = mean_6m[\"mean_6m_price_p2_var\"] + mean_6m[\"mean_6m_price_p2_fix\"] \n",
    "mean_6m[\"mean_6m_price_p3\"] = mean_6m[\"mean_6m_price_p3_var\"] + mean_6m[\"mean_6m_price_p3_fix\"]\n"
   ]
  },
  {
   "cell_type": "code",
   "execution_count": 84,
   "metadata": {},
   "outputs": [],
   "source": [
    "mean_3m = mean_3m.rename(index=str, columns={\"price_p1_var\": \"mean_3m_price_p1_var\",\n",
    "\"price_p2_var\": \"mean_3m_price_p2_var\", \"price_p3_var\": \"mean_3m_price_p3_var\", \"price_p1_fix\": \"mean_3m_price_p1_fix\", \"price_p2_fix\": \"mean_3m_price_p2_fix\",\n",
    "\"price_p3_fix\": \"mean_3m_price_p3_fix\",})\n",
    "mean_3m[\"mean_3m_price_p1\"] = mean_3m[\"mean_3m_price_p1_var\"] + mean_3m[\"mean_3m_price_p1_fix\"]\n",
    "mean_3m[\"mean_3m_price_p2\"] = mean_3m[\"mean_3m_price_p2_var\"] + mean_3m[\"mean_3m_price_p2_fix\"] \n",
    "mean_3m[\"mean_3m_price_p3\"] = mean_3m[\"mean_3m_price_p3_var\"] + mean_3m[\"mean_3m_price_p3_fix\"]\n"
   ]
  },
  {
   "cell_type": "markdown",
   "metadata": {},
   "source": [
    "Now we will merge them into a single dataframe\n",
    "\n",
    "the mean_6m and mean_3m are under probability of being able to help the prediction model. We will see below the variables are also highly correlated to actually using only the mean_year is OK\n"
   ]
  },
  {
   "cell_type": "code",
   "execution_count": 85,
   "metadata": {},
   "outputs": [],
   "source": [
    "#features = pd.merge(mean_year,mean_6m, on=\"id\") #features = pd.merge(features,mean_3m, on=\"id\") features = mean_year"
   ]
  },
  {
   "cell_type": "code",
   "execution_count": null,
   "metadata": {},
   "outputs": [],
   "source": [
    "Feature engineering\n",
    "In the previous notebook we explored the data and made a deep dive into the churn by dates. Nonetheless, that exploration was quite shallow and did not provide us with any relevant insight.\n",
    "\n",
    "What if we could create a new variable that could provide us more relevant insights?\n"
   ]
  },
  {
   "cell_type": "code",
   "execution_count": null,
   "metadata": {},
   "outputs": [],
   "source": [
    "We will deﬁne a variable tenure = date_end - date_activ"
   ]
  },
  {
   "cell_type": "code",
   "execution_count": null,
   "metadata": {},
   "outputs": [],
   "source": [
    "train[\"tenure\"] = ((train[\"date_end\"]-train[\"date_activ\"])/ np.timedelta64(1, \"Y\")).astype(int)"
   ]
  },
  {
   "cell_type": "code",
   "execution_count": null,
   "metadata": {},
   "outputs": [],
   "source": [
    "tenure = train[[\"tenure\", \"churn\", \"id\"]].groupby([\"tenure\", \"churn\"])[\"id\"].count().unstack(level=1) tenure_percentage = (tenure.div(tenure.sum(axis=1), axis=0)*100)"
   ]
  },
  {
   "cell_type": "code",
   "execution_count": null,
   "metadata": {},
   "outputs": [],
   "source": [
    "tenure.plot(kind=\"bar\",\n",
    "figsize=(18,10), stacked=True,\n",
    "rot=0,\n",
    "title= \"Tenure\")\n",
    "\n",
    "# Rename legend\n",
    "plt.legend([\"Retention\", \"Churn\"], loc=\"upper right\")\n",
    "# Labels\n",
    "plt.ylabel(\"No. of companies\") plt.xlabel(\"No. of years\")\n",
    "plt.show()\n"
   ]
  },
  {
   "cell_type": "code",
   "execution_count": null,
   "metadata": {},
   "outputs": [],
   "source": [
    "We can clearly that churn is very low for companies which joined recently or that have made the contract a long time ago. With the higher number of churners within the 3-7 years of tenure.\n",
    "\n",
    "We will also transform the dates provided in such a way that we can make more sense out of those.\n"
   ]
  },
  {
   "cell_type": "code",
   "execution_count": null,
   "metadata": {},
   "outputs": [],
   "source": [
    "months_activ : Number of months active until reference date (Jan 2016)"
   ]
  },
  {
   "cell_type": "code",
   "execution_count": null,
   "metadata": {},
   "outputs": [],
   "source": [
    "months_to_end : Number of months of the contract left at reference date (Jan 2016)"
   ]
  },
  {
   "cell_type": "code",
   "execution_count": null,
   "metadata": {},
   "outputs": [],
   "source": [
    "months_modif_prod : Number of months since last modiﬁcation at reference date (Jan 2016)"
   ]
  },
  {
   "cell_type": "code",
   "execution_count": null,
   "metadata": {},
   "outputs": [],
   "source": [
    "months_renewal : Number of months since last renewal at reference date (Jan 2016)"
   ]
  },
  {
   "cell_type": "code",
   "execution_count": null,
   "metadata": {},
   "outputs": [],
   "source": [
    "To create the month column we will follow a simple process:\n",
    "    To create the month column we will follow a simple process:\n",
    "\n",
    "1.\tSubstract the reference date and the column date\n",
    "2.\tConvert the timedelta in months\n",
    "3.\tConvert to integer (we are not interested in having decimal months)\n"
   ]
  },
  {
   "cell_type": "code",
   "execution_count": null,
   "metadata": {},
   "outputs": [],
   "source": [
    "def convert_months(reference_date, dataframe, column): \"\"\"\n",
    "Input a column with timedeltas and return months \"\"\"\n",
    "time_delta = REFERENCE_DATE - dataframe[column]\n",
    "months = (time_delta / np.timedelta64(1, \"M\")).astype(int)\n",
    "return months\n"
   ]
  },
  {
   "cell_type": "code",
   "execution_count": null,
   "metadata": {},
   "outputs": [],
   "source": [
    "# Create reference date as provided on the exercise statement\n",
    "REFERENCE_DATE = datetime.datetime(2016,1,1)\n"
   ]
  },
  {
   "cell_type": "code",
   "execution_count": null,
   "metadata": {},
   "outputs": [],
   "source": [
    "train[\"months_activ\"] = convert_months(REFERENCE_DATE, train, \"date_activ\") train[\"months_to_end\"] = -convert_months(REFERENCE_DATE, train, \"date_end\")\n",
    "train[\"months_modif_prod\"] = convert_months(REFERENCE_DATE, train, \"date_modif_prod\") train[\"months_renewal\"] = convert_months(REFERENCE_DATE, train, \"date_renewal\")\n"
   ]
  },
  {
   "cell_type": "code",
   "execution_count": null,
   "metadata": {},
   "outputs": [],
   "source": [
    "Let's see if we can get any insights"
   ]
  },
  {
   "cell_type": "code",
   "execution_count": null,
   "metadata": {},
   "outputs": [],
   "source": [
    "def plot_churn_by_month(dataframe, column, fontsize_=11): \"\"\"\n",
    "Plot churn distribution by monthly variable \"\"\"\n",
    "temp = dataframe[[column, \"churn\", \"id\"]].groupby([column, \"churn\"])[\"id\"].count().unstack(level=1) temp.plot(kind=\"bar\",\n",
    "figsize=(18,10), stacked=True,\n",
    "rot=0,\n",
    "title= column)\n",
    "\n",
    "# Rename legend\n",
    "plt.legend([\"Retention\", \"Churn\"], loc=\"upper right\")\n",
    "# Labels\n",
    "plt.ylabel(\"No. of companies\") plt.xlabel(\"No. of months\")\n",
    "# Set xlabel fontsize\n",
    "plt.xticks(fontsize=fontsize_) plt.show()\n"
   ]
  },
  {
   "cell_type": "code",
   "execution_count": null,
   "metadata": {},
   "outputs": [],
   "source": [
    "plot_churn_by_month(train, \"months_activ\", 7)"
   ]
  },
  {
   "cell_type": "code",
   "execution_count": null,
   "metadata": {},
   "outputs": [],
   "source": [
    "plot_churn_by_month(train, \"months_to_end\")"
   ]
  },
  {
   "cell_type": "code",
   "execution_count": null,
   "metadata": {},
   "outputs": [],
   "source": [
    "plot_churn_by_month(train, \"months_modif_prod\", 8)"
   ]
  },
  {
   "cell_type": "code",
   "execution_count": null,
   "metadata": {},
   "outputs": [],
   "source": [
    "plot_churn_by_month(train, \"months_renewal\")"
   ]
  },
  {
   "cell_type": "code",
   "execution_count": null,
   "metadata": {},
   "outputs": [],
   "source": [
    "Remove the date columns"
   ]
  },
  {
   "cell_type": "code",
   "execution_count": null,
   "metadata": {},
   "outputs": [],
   "source": [
    "train.drop(columns=[\"date_activ\", \"date_end\", \"date_modif_prod\", \"date_renewal\"],inplace=True)"
   ]
  },
  {
   "cell_type": "code",
   "execution_count": null,
   "metadata": {},
   "outputs": [],
   "source": [
    "## Transforming boolean data\n",
    "For the column has_gas, we will replace t for  True or  1 and  f for  False or  0 . This process is usually referred as  onehot encoding"
   ]
  },
  {
   "cell_type": "code",
   "execution_count": null,
   "metadata": {},
   "outputs": [],
   "source": [
    "train[\"has_gas\"]=train[\"has_gas\"].replace([\"t\", \"f\"],[1,0])"
   ]
  },
  {
   "cell_type": "code",
   "execution_count": null,
   "metadata": {},
   "outputs": [],
   "source": [
    "Categorical data and dummy variables"
   ]
  },
  {
   "cell_type": "code",
   "execution_count": null,
   "metadata": {},
   "outputs": [],
   "source": [
    "When training our model we cannot use string data as such, so we will need to encode it into numerical data. The easiest method is mapping each category to an integer ( label encoding ) but this will not work because the model will misunderstand the data to be in some kind of order or hierarchy, 0 < 1 < 2 < 3 ...\n",
    "\n",
    "For that reason we will use a method with  dummy variables or onehot encoder"
   ]
  },
  {
   "cell_type": "code",
   "execution_count": null,
   "metadata": {},
   "outputs": [],
   "source": [
    "Categorical data channel_sales\n",
    "What we are doing here relatively simple, we want to convert each category into a new dummy variable which will have 0 s and 1 s depending whether than entry belongs to that particular category or not\n",
    "\n",
    "First of all let's replace the  Nan values with a string called  null_values_channel\n"
   ]
  },
  {
   "cell_type": "code",
   "execution_count": null,
   "metadata": {},
   "outputs": [],
   "source": [
    "train[\"channel_sales\"] = train[\"channel_sales\"].fillna(\"null_values_channel\")"
   ]
  },
  {
   "cell_type": "code",
   "execution_count": null,
   "metadata": {},
   "outputs": [],
   "source": [
    "Now transform the channel_sales column into categorical data type"
   ]
  },
  {
   "cell_type": "code",
   "execution_count": null,
   "metadata": {},
   "outputs": [],
   "source": [
    "# Transform to categorical data type\n",
    "train[\"channel_sales\"] = train[\"channel_sales\"].astype(\"category\")\n"
   ]
  },
  {
   "cell_type": "code",
   "execution_count": null,
   "metadata": {},
   "outputs": [],
   "source": [
    "We want to see how many categories we will end up with"
   ]
  },
  {
   "cell_type": "code",
   "execution_count": null,
   "metadata": {},
   "outputs": [],
   "source": [
    "pd.DataFrame({\"Samples in category\": train[\"channel_sales\"].value_counts()})"
   ]
  },
  {
   "cell_type": "code",
   "execution_count": null,
   "metadata": {},
   "outputs": [],
   "source": [
    "So that means we will create 8 different dummy variables . Each variable will become a different column."
   ]
  },
  {
   "cell_type": "code",
   "execution_count": null,
   "metadata": {},
   "outputs": [],
   "source": [
    "# Create dummy variables\n",
    "categories_channel = pd.get_dummies(train[\"channel_sales\"], prefix = \"channel\")\n"
   ]
  },
  {
   "cell_type": "code",
   "execution_count": null,
   "metadata": {},
   "outputs": [],
   "source": [
    "# Rename columns for simplicity\n",
    "categories_channel.columns = [col_name[:11] for col_name in categories_channel.columns]\n"
   ]
  },
  {
   "cell_type": "code",
   "execution_count": null,
   "metadata": {},
   "outputs": [],
   "source": [
    "categories_channel.head(5)"
   ]
  },
  {
   "cell_type": "code",
   "execution_count": null,
   "metadata": {},
   "outputs": [],
   "source": [
    "We will explain the concept of multicollinearity in the next section. Simply put, multicollinearity is when two or more independent variables in a regression are highly related to one another, such that they do not provide unique or independent information to the regression.\n",
    "Multicollinearity can affect our models so we will remove one of the columns.\n"
   ]
  },
  {
   "cell_type": "code",
   "execution_count": null,
   "metadata": {},
   "outputs": [],
   "source": [
    "categories_channel.drop(columns=[\"channel_nul\"],inplace=True)"
   ]
  },
  {
   "cell_type": "code",
   "execution_count": null,
   "metadata": {},
   "outputs": [],
   "source": [
    "Categorical data origin_up\n",
    "\n",
    "First of all let's replace the  Nan values with a string called  null_values_origin\n"
   ]
  },
  {
   "cell_type": "code",
   "execution_count": null,
   "metadata": {},
   "outputs": [],
   "source": [
    "train[\"origin_up\"] = train[\"origin_up\"].fillna(\"null_values_origin\")"
   ]
  },
  {
   "cell_type": "code",
   "execution_count": null,
   "metadata": {},
   "outputs": [],
   "source": [
    "Now transform the origin_up column into categorical data type"
   ]
  },
  {
   "cell_type": "code",
   "execution_count": null,
   "metadata": {},
   "outputs": [],
   "source": [
    "train[\"origin_up\"] = train[\"origin_up\"].astype(\"category\")"
   ]
  },
  {
   "cell_type": "code",
   "execution_count": null,
   "metadata": {},
   "outputs": [],
   "source": [
    "We want to see how many categories we will end up with"
   ]
  },
  {
   "cell_type": "code",
   "execution_count": null,
   "metadata": {},
   "outputs": [],
   "source": [
    "pd.DataFrame({\"Samples in category\": train[\"origin_up\"].value_counts()})"
   ]
  },
  {
   "cell_type": "code",
   "execution_count": null,
   "metadata": {},
   "outputs": [],
   "source": [
    "So that means we will create 8 different dummy variables . Each variable will become a different column."
   ]
  },
  {
   "cell_type": "code",
   "execution_count": null,
   "metadata": {},
   "outputs": [],
   "source": [
    "# Create dummy variables\n",
    "categories_origin = pd.get_dummies(train[\"origin_up\"], prefix = \"origin\")\n",
    "# Rename columns for simplicity\n",
    "categories_origin.columns = [col_name[:10] for col_name in categories_origin.columns]\n"
   ]
  },
  {
   "cell_type": "code",
   "execution_count": null,
   "metadata": {},
   "outputs": [],
   "source": [
    "categories_origin.head(5)"
   ]
  },
  {
   "cell_type": "code",
   "execution_count": null,
   "metadata": {},
   "outputs": [],
   "source": [
    "Finally remove one column to avoid the  dummy variable trap"
   ]
  },
  {
   "cell_type": "code",
   "execution_count": null,
   "metadata": {},
   "outputs": [],
   "source": [
    "categories_origin.drop(columns=[\"origin_nul\"],inplace=True)"
   ]
  },
  {
   "cell_type": "code",
   "execution_count": null,
   "metadata": {},
   "outputs": [],
   "source": [
    "Categorical data - Feature engineering"
   ]
  },
  {
   "cell_type": "code",
   "execution_count": null,
   "metadata": {},
   "outputs": [],
   "source": [
    "First of all let's replace the  Nan values with a string called  null_values_activity"
   ]
  },
  {
   "cell_type": "code",
   "execution_count": null,
   "metadata": {},
   "outputs": [],
   "source": [
    "train[\"activity_new\"] = train[\"activity_new\"].fillna(\"null_values_activity\")"
   ]
  },
  {
   "cell_type": "code",
   "execution_count": null,
   "metadata": {},
   "outputs": [],
   "source": [
    "We want to see how many categories we will end up with"
   ]
  },
  {
   "cell_type": "code",
   "execution_count": null,
   "metadata": {},
   "outputs": [],
   "source": [
    "categories_activity = pd.DataFrame({\"Activity samples\":train[\"activity_new\"].value_counts()}) categories_activity"
   ]
  },
  {
   "cell_type": "code",
   "execution_count": null,
   "metadata": {},
   "outputs": [],
   "source": [
    "As we can see below there are too many categories with very few number of samples. So we will replace any category with less than 75 samples as\n",
    "null_values_category\n"
   ]
  },
  {
   "cell_type": "code",
   "execution_count": null,
   "metadata": {},
   "outputs": [],
   "source": [
    "# Get the categories with less than 75 samples\n",
    "to_replace = list(categories_activity[categories_activity[\"Activity samples\"] <= 75].index)\n",
    "# Replace them with `null_values_categories`\n",
    "train[\"activity_new\"]=train[\"activity_new\"].replace(to_replace,\"null_values_activity\")\n"
   ]
  },
  {
   "cell_type": "code",
   "execution_count": null,
   "metadata": {},
   "outputs": [],
   "source": [
    "# Create dummy variables\n",
    "categories_activity = pd.get_dummies(train[\"activity_new\"], prefix = \"activity\")\n",
    "# Rename columns for simplicity\n",
    "categories_activity.columns = [col_name[:12] for col_name in categories_activity.columns]\n"
   ]
  },
  {
   "cell_type": "code",
   "execution_count": null,
   "metadata": {},
   "outputs": [],
   "source": [
    "categories_activity.head(5)"
   ]
  },
  {
   "cell_type": "code",
   "execution_count": null,
   "metadata": {},
   "outputs": [],
   "source": [
    "categories_activity.drop(columns=[\"activity_nul\"],inplace=True)"
   ]
  },
  {
   "cell_type": "code",
   "execution_count": null,
   "metadata": {},
   "outputs": [],
   "source": [
    "Merge dummy variables to main dataframe\n",
    "\n",
    "We will merge all the new categories into our main dataframe and remove the old categorical columns\n"
   ]
  },
  {
   "cell_type": "code",
   "execution_count": null,
   "metadata": {},
   "outputs": [],
   "source": [
    "# Use common index to merge\n",
    "train = pd.merge(train, categories_channel, left_index=True, right_index=True) train = pd.merge(train, categories_origin, left_index=True, right_index=True)\n",
    "train = pd.merge(train, categories_activity, left_index=True, right_index=True)\n"
   ]
  },
  {
   "cell_type": "code",
   "execution_count": null,
   "metadata": {},
   "outputs": [],
   "source": [
    "train.drop(columns=[\"channel_sales\", \"origin_up\", \"activity_new\"],inplace=True)"
   ]
  },
  {
   "cell_type": "code",
   "execution_count": null,
   "metadata": {},
   "outputs": [],
   "source": [
    "Log transformation\n",
    "Remember from the previous exercise that a lot of the variables we are dealing with are highly skewed to the right.\n",
    "\n",
    "Why is skewness relevant? Skewness is not \"bad\" per se. Nonetheless, some predective models make fundamental assumptions related to variables being \"normally distributed\". Hence, the model will perform poorly if the data is highly skewed.\n",
    "\n",
    "There are several methods in which we can reduce skewness such as square root , cube root , and log . In this case, we will use a log transformation which is usually recommended for right skewed data.\n"
   ]
  },
  {
   "cell_type": "code",
   "execution_count": null,
   "metadata": {},
   "outputs": [],
   "source": [
    "train.describe()"
   ]
  },
  {
   "cell_type": "code",
   "execution_count": null,
   "metadata": {},
   "outputs": [],
   "source": [
    "Particularly relevant to look at the standard deviation std which is very very high for some variables. Log transformation does not work with negative data, so we will convert the negative values to NaN ."
   ]
  },
  {
   "cell_type": "code",
   "execution_count": null,
   "metadata": {},
   "outputs": [],
   "source": [
    "Also we cannot apply a log transformation to 0 valued entries, so we will add a constant 1"
   ]
  },
  {
   "cell_type": "code",
   "execution_count": null,
   "metadata": {},
   "outputs": [],
   "source": [
    "# Remove negative values\n",
    "train.loc[train.cons_12m < 0,\"cons_12m\"] = np.nan\n",
    "train.loc[train.cons_gas_12m < 0,\"cons_gas_12m\"] = np.nan\n",
    "train.loc[train.cons_last_month < 0,\"cons_last_month\"] = np.nan\n",
    "train.loc[train.forecast_cons_12m < 0,\"forecast_cons_12m\"] = np.nan train.loc[train.forecast_cons_year < 0,\"forecast_cons_year\"] = np.nan\n",
    "train.loc[train.forecast_meter_rent_12m < 0,\"forecast_meter_rent_12m\"] = np.nan train.loc[train.imp_cons < 0,\"imp_cons\"] = np.nan\n"
   ]
  },
  {
   "cell_type": "code",
   "execution_count": null,
   "metadata": {},
   "outputs": [],
   "source": [
    "# Apply log10 transformation\n",
    "train[\"cons_12m\"] = np.log10(train[\"cons_12m\"]+1)\n",
    "train[\"cons_gas_12m\"] = np.log10(train[\"cons_gas_12m\"]+1)\n",
    "train[\"cons_last_month\"] = np.log10(train[\"cons_last_month\"]+1)\n",
    "train[\"forecast_cons_12m\"] = np.log10(train[\"forecast_cons_12m\"]+1) train[\"forecast_cons_year\"] = np.log10(train[\"forecast_cons_year\"]+1)\n",
    "train[\"forecast_meter_rent_12m\"] = np.log10(train[\"forecast_meter_rent_12m\"]+1) train[\"imp_cons\"] = np.log10(train[\"imp_cons\"]+1)\n"
   ]
  },
  {
   "cell_type": "code",
   "execution_count": null,
   "metadata": {},
   "outputs": [],
   "source": [
    "fig, axs = plt.subplots(nrows=7, figsize=(18,50))\n",
    "# Plot histograms\n",
    "sns.distplot((train[\"cons_12m\"].dropna()), ax=axs[0])\n",
    "sns.distplot((train[train[\"has_gas\"]==1][\"cons_gas_12m\"].dropna()), ax=axs[1]) sns.distplot((train[\"cons_last_month\"].dropna()), ax=axs[2])\n",
    "sns.distplot((train[\"forecast_cons_12m\"].dropna()), ax=axs[3]) sns.distplot((train[\"forecast_cons_year\"].dropna()), ax=axs[4])\n",
    "sns.distplot((train[\"forecast_meter_rent_12m\"].dropna()), ax=axs[5]) sns.distplot((train[\"imp_cons\"].dropna()), ax=axs[6])\n",
    "plt.show()\n"
   ]
  },
  {
   "cell_type": "code",
   "execution_count": null,
   "metadata": {},
   "outputs": [],
   "source": [
    "fig, axs = plt.subplots(nrows=7, figsize=(18,50))\n",
    "# Plot boxplots\n",
    "sns.boxplot((train[\"cons_12m\"].dropna()), ax=axs[0])\n",
    "sns.boxplot((train[train[\"has_gas\"]==1][\"cons_gas_12m\"].dropna()), ax=axs[1]) sns.boxplot((train[\"cons_last_month\"].dropna()), ax=axs[2])\n",
    "sns.boxplot((train[\"forecast_cons_12m\"].dropna()), ax=axs[3]) sns.boxplot((train[\"forecast_cons_year\"].dropna()), ax=axs[4])\n",
    "sns.boxplot((train[\"forecast_meter_rent_12m\"].dropna()), ax=axs[5]) sns.boxplot((train[\"imp_cons\"].dropna()), ax=axs[6])\n",
    "plt.show()\n"
   ]
  },
  {
   "cell_type": "code",
   "execution_count": null,
   "metadata": {},
   "outputs": [],
   "source": [
    "train.describe()\t"
   ]
  },
  {
   "cell_type": "code",
   "execution_count": null,
   "metadata": {},
   "outputs": [],
   "source": [
    "The distributions look much closer to normal distributions now! Notice how the standard deviation std has changed.\n",
    "From the boxplots we can still see some values are quite far from the range ( outliers ). We will deal with them later.\n"
   ]
  },
  {
   "cell_type": "code",
   "execution_count": null,
   "metadata": {},
   "outputs": [],
   "source": [
    "2.High correlation variables\n",
    "Calculate the correlation of the variables"
   ]
  },
  {
   "cell_type": "code",
   "execution_count": null,
   "metadata": {},
   "outputs": [],
   "source": [
    "# Calculate correlation of variables\n",
    "correlation = features.corr()\n"
   ]
  },
  {
   "cell_type": "code",
   "execution_count": null,
   "metadata": {},
   "outputs": [],
   "source": [
    "# Plot correlation\n",
    "plt.figure(figsize=(19,15))\n",
    "sns.heatmap(correlation, xticklabels=correlation.columns.values,\n",
    "yticklabels=correlation.columns.values, annot = True, annot_kws={'size':10})\n",
    "# Axis ticks size\n",
    "plt.xticks(fontsize=10) plt.yticks(fontsize=10) plt.show()\n"
   ]
  },
  {
   "cell_type": "code",
   "execution_count": null,
   "metadata": {},
   "outputs": [],
   "source": [
    "We can remove highly correlated variables.\n",
    "\n",
    "Multicollinearity happens when one predictor variable in a multiple regression model can be linearly predicted from the others with a high degree of accuracy. This can lead to skewed or misleading results. Luckily, decision trees and boosted trees algorithms are immune to multicollinearity by nature. When they decide to split, the tree will choose only one of the perfectly correlated features. However, other algorithms like Logistic Regression or Linear Regression are not immune to that problem and should be ﬁxed before training the model.\n"
   ]
  },
  {
   "cell_type": "code",
   "execution_count": null,
   "metadata": {},
   "outputs": [],
   "source": [
    "# Calculate correlation of variables\n",
    "correlation = train.corr()\n"
   ]
  },
  {
   "cell_type": "code",
   "execution_count": null,
   "metadata": {},
   "outputs": [],
   "source": [
    "# Plot correlation\n",
    "plt.figure(figsize=(20,18))\n",
    "sns.heatmap(correlation, xticklabels=correlation.columns.values,\n",
    "yticklabels=correlation.columns.values, annot = True, annot_kws={'size':10})\n",
    "# Axis ticks size\n",
    "plt.xticks(fontsize=10) plt.yticks(fontsize=10) plt.show()\n"
   ]
  },
  {
   "cell_type": "code",
   "execution_count": null,
   "metadata": {},
   "outputs": [],
   "source": [
    "As expected, num_years_antig has a high correlation with months_activ (it provides us the same information). We can remove variables with very high correlation."
   ]
  },
  {
   "cell_type": "code",
   "execution_count": null,
   "metadata": {},
   "outputs": [],
   "source": [
    "train.drop(columns=[\"num_years_antig\", \"forecast_cons_year\"],inplace=True)"
   ]
  },
  {
   "cell_type": "code",
   "execution_count": null,
   "metadata": {},
   "outputs": [],
   "source": [
    "3.Removing outliers"
   ]
  },
  {
   "cell_type": "code",
   "execution_count": null,
   "metadata": {},
   "outputs": [],
   "source": [
    "As we identiﬁed during the exploratory phase, the consumption data has several outliers. We are going to remove those outliers\n",
    "\n",
    "What are the criteria to identify an outlier?\n",
    "\n",
    "The most common way to identify an outlier are:\n"
   ]
  },
  {
   "cell_type": "code",
   "execution_count": null,
   "metadata": {},
   "outputs": [],
   "source": [
    "1. Data point that falls outside of 1.5 times of an interquartile range above the 3rd quartile and below the 1st quartile 2. Data point that falls outside of 3 standard deviations."
   ]
  },
  {
   "cell_type": "code",
   "execution_count": null,
   "metadata": {},
   "outputs": [],
   "source": [
    "Once, we have identiﬁed the outlier, What do we do with the outliers?\n",
    "\n",
    "There are several ways to handle with those outliers such as removing them (this works well for massive datasets) or replacing them with sensible data (works better when the dataset is not that big).\n",
    "\n",
    "We will replace the outliers with the mean (average of the values excluding outliers).\n"
   ]
  },
  {
   "cell_type": "code",
   "execution_count": null,
   "metadata": {},
   "outputs": [],
   "source": [
    "def replace_outliers_z_score(dataframe, column, Z=3): \"\"\"\n",
    "Replace outliers with the mean values using the Z score. Nan values are also replaced with the mean values.\n",
    "\n",
    "Parameters\n",
    "\n",
    "dataframe : pandas dataframe\n",
    "Contains the data where the outliers are to be found column : str\n",
    "Usually a string with the name of the column Returns\n",
    "Dataframe\n",
    "With outliers under the lower and above the upper bound removed\n",
    "\"\"\"\n",
    "from scipy.stats import zscore\n",
    "\n",
    "df = dataframe.copy(deep=True)\n",
    "df.dropna(inplace=True, subset=[column])\n",
    "\n",
    "# Calculate mean without outliers\n",
    "df[\"zscore\"] = zscore(df[column])\n",
    "mean_ = df[(df[\"zscore\"] > -Z) & (df[\"zscore\"] < Z)][column].mean()\n",
    "\n",
    "# Replace with mean values\n",
    "\n",
    "dataframe[column] = dataframe[column].fillna(mean_) dataframe[\"zscore\"] = zscore(dataframe[column])\n",
    "no_outliers = dataframe[(dataframe[\"zscore\"] < -Z) | (dataframe[\"zscore\"] > Z)].shape[0] dataframe.loc[(dataframe[\"zscore\"] < -Z) | (dataframe[\"zscore\"] > Z),column] = mean_\n",
    "\n",
    "# Print message\n",
    "print(\"Replaced:\", no_outliers, \" outliers in \", column)\n",
    "return dataframe.drop(columns=\"zscore\")\n"
   ]
  },
  {
   "cell_type": "code",
   "execution_count": null,
   "metadata": {},
   "outputs": [],
   "source": [
    "for c in features.columns:\n",
    "if c != \"id\":\n",
    "features = replace_outliers_z_score(features,c\n",
    "Replaced: 276 outliers in mean_year_price_p1_var Replaced: 0  outliers in mean_year_price_p2_var\n",
    "Replaced: 0  outliers in mean_year_price_p3_var\n",
    "Replaced: 120 outliers in mean_year_price_p1_fix Replaced: 0  outliers in mean_year_price_p2_fix\n",
    "Replaced: 0 outliers in mean_year_price_p3_fix Replaced: 122  outliers in mean_year_price_p1\n",
    "Replaced: 0 outliers in mean_year_price_p2 Replaced: 0 outliers in mean_year_price_p3\n"
   ]
  },
  {
   "cell_type": "code",
   "execution_count": null,
   "metadata": {},
   "outputs": [],
   "source": [
    "features.reset_index(drop=True, inplace=True)"
   ]
  },
  {
   "cell_type": "code",
   "execution_count": null,
   "metadata": {},
   "outputs": [],
   "source": [
    "As we identiﬁed during the exploratory phase, and when carrying out the log transformation , the dataset has several outliers."
   ]
  },
  {
   "cell_type": "code",
   "execution_count": null,
   "metadata": {},
   "outputs": [],
   "source": [
    "What are the criteria to identify an outlier?\n",
    "\n",
    "The most common way to identify an outlier are:\n",
    "1. Data point that falls outside of 1.5 times of an interquartile range above the 3rd quartile and below the 1st quartile\n",
    "2. Data point that falls outside of 3 standard deviations."
   ]
  },
  {
   "cell_type": "code",
   "execution_count": null,
   "metadata": {},
   "outputs": [],
   "source": [
    "Once, we have identiﬁed the outlier, What do we do with the outliers?\n",
    "\n",
    "There are several ways to handle with those outliers such as removing them (this works well for massive datasets) or replacing them with sensible data (works better when the dataset is not that big).\n",
    "\n",
    "We will replace the outliers with the mean (average of the values excluding outliers\n"
   ]
  },
  {
   "cell_type": "code",
   "execution_count": null,
   "metadata": {},
   "outputs": [],
   "source": [
    "def _find_outliers_iqr(dataframe, column): \"\"\"\n",
    "Find outliers using the 1.5*IQR rule. Parameters\n",
    " \n",
    "dataframe : pandas dataframe\n",
    "Contains the data where the outliers are to be found column : str\n",
    "Usually a string with the name of the column Returns\n",
    " \n",
    "Dict\n",
    "\n",
    "\"\"\"\n",
    " \n",
    "\n",
    "With the values of the iqr, lower_bound and upper_bound\n",
    " \n",
    "col = sorted(dataframe[column])\n",
    "q1, q3= np.percentile(col,[25,75]) iqr = q3 - q1\n",
    "lower_bound = q1 -(1.5 * iqr) upper_bound = q3 +(1.5 * iqr)\n",
    "\n",
    "results = {\"iqr\": iqr, \"lower_bound\":lower_bound, \"upper_bound\":upper_bound}\n",
    "return results\n",
    "\n",
    "def remove_outliers_iqr(dataframe, column): \"\"\"\n",
    "Remove outliers using the 1.5*IQR rule. Parameters\n",
    "dataframe : pandas dataframe\n",
    "Contains the data where the outliers are to be found column : str\n",
    "Usually a string with the name of the column Returns\n",
    "Dataframe\n",
    "With outliers under the lower and above the upper bound removed\n",
    "\"\"\"\n",
    "\n",
    "outliers = _find_outliers_iqr(dataframe, column)\n",
    "\n",
    "removed = dataframe[(dataframe[column] < outliers[\"lower_bound\"]) |\n",
    "(dataframe[column] > outliers[\"upper_bound\"])].shape\n",
    "\n",
    "dataframe = dataframe[(dataframe[column] > outliers[\"lower_bound\"]) &\n",
    "(dataframe[column] < outliers[\"upper_bound\"])] print(\"Removed:\", removed[0], \" outliers\")\n",
    "return dataframe\n",
    "\n",
    "def remove_outliers_z_score(dataframe, column, Z=3): \"\"\"\n",
    "Remove outliers using the Z score. Values with more than 3 are removed. Parameters\n",
    "dataframe : pandas dataframe\n",
    "Contains the data where the outliers are to be found column : str\n",
    "Usually a string with the name of the column Returns\n",
    "Dataframe\n",
    "With outliers under the lower and above the upper bound removed\n",
    "\"\"\"\n",
    "from scipy.stats import zscore\n",
    "dataframe[\"zscore\"] = zscore(dataframe[column]) removed = dataframe[(dataframe[\"zscore\"] < -Z) |\n",
    "(dataframe[\"zscore\"] > Z)].shape\n",
    "\n",
    "dataframe = dataframe[(dataframe[\"zscore\"] > -Z) &\n",
    "(dataframe[\"zscore\"] < Z)]\n",
    "\n",
    "print(\"Removed:\", removed[0], \" outliers of \", column)\n",
    "\n",
    "return dataframe.drop(columns=\"zscore\")\n"
   ]
  },
  {
   "cell_type": "code",
   "execution_count": null,
   "metadata": {},
   "outputs": [],
   "source": [
    "def replace_outliers_z_score(dataframe, column, Z=3): \"\"\"\n",
    "Replace outliers with the mean values using the Z score. Nan values are also replaced with the mean values.\n",
    "\n",
    "Parameters\n",
    "\n",
    "dataframe : pandas dataframe\n",
    "Contains the data where the outliers are to be found column : str\n",
    "Usually a string with the name of the column Returns\n",
    "Dataframe\n",
    "With outliers under the lower and above the upper bound removed\n",
    "\"\"\"\n",
    "from scipy.stats import zscore\n",
    "\n",
    "df = dataframe.copy(deep=True)\n",
    "df.dropna(inplace=True, subset=[column])\n",
    "\n",
    "# Calculate mean without outliers\n",
    "df[\"zscore\"] = zscore(df[column])\n",
    "mean_ = df[(df[\"zscore\"] > -Z) & (df[\"zscore\"] < Z)][column].mean()\n",
    "\n",
    "# Replace with mean values\n",
    "no_outliers = dataframe[column].isnull().sum()\n",
    "dataframe[column] = dataframe[column].fillna(mean_) dataframe[\"zscore\"] = zscore(dataframe[column])\n",
    "dataframe.loc[(dataframe[\"zscore\"] < -Z) | (dataframe[\"zscore\"] > Z),column] = mean_\n",
    "\n",
    "# Print message\n",
    "print(\"Replaced:\", no_outliers, \" outliers in \", column)\n",
    "return dataframe.drop(columns=\"zscore\")\n"
   ]
  },
  {
   "cell_type": "code",
   "execution_count": null,
   "metadata": {},
   "outputs": [],
   "source": [
    "train = replace_outliers_z_score(train,\"cons_12m\")\n",
    "train = replace_outliers_z_score(train,\"cons_gas_12m\")\n",
    "train = replace_outliers_z_score(train,\"cons_last_month\")\n",
    "train = replace_outliers_z_score(train,\"forecast_cons_12m\")\n",
    "#train = replace_outliers_z_score(train,\"forecast_cons_year\")\n",
    "train = replace_outliers_z_score(train,\"forecast_discount_energy\") train = replace_outliers_z_score(train,\"forecast_meter_rent_12m\") train = replace_outliers_z_score(train,\"forecast_price_energy_p1\") train = replace_outliers_z_score(train,\"forecast_price_energy_p2\") train = replace_outliers_z_score(train,\"forecast_price_pow_p1\")\n",
    "train = replace_outliers_z_score(train,\"imp_cons\")\n",
    "train = replace_outliers_z_score(train,\"margin_gross_pow_ele\") train = replace_outliers_z_score(train,\"margin_net_pow_ele\")\n",
    "train = replace_outliers_z_score(train,\"net_margin\") train = replace_outliers_z_score(train,\"pow_max\")\n",
    "train = replace_outliers_z_score(train,\"months_activ\") train = replace_outliers_z_score(train,\"months_to_end\")\n",
    "train = replace_outliers_z_score(train,\"months_modif_prod\") train = replace_outliers_z_score(train,\"months_renewal\")\n"
   ]
  },
  {
   "cell_type": "code",
   "execution_count": null,
   "metadata": {},
   "outputs": [],
   "source": [
    "Replaced: 27  outliers in cons_12m\n",
    "Replaced: 6  outliers in cons_gas_12m\n",
    "Replaced: 46  outliers in cons_last_month\n",
    "Replaced: 41  outliers in forecast_cons_12m\n",
    "Replaced: 126 outliers in forecast_discount_energy Replaced: 4  outliers in forecast_meter_rent_12m\n",
    "Replaced: 126 outliers in forecast_price_energy_p1 Replaced: 126 outliers in forecast_price_energy_p2 Replaced: 126  outliers in forecast_price_pow_p1\n",
    "Replaced: 27  outliers in imp_cons\n",
    "Replaced: 13 outliers in margin_gross_pow_ele Replaced: 13  outliers in margin_net_pow_ele\n",
    "Replaced: 15 outliers in net_margin Replaced: 3  outliers in pow_max\n",
    "Replaced: 0 outliers in months_activ Replaced: 0 outliers in months_to_end\n",
    "Replaced: 0 outliers in months_modif_prod Replaced: 0  outliers in months_renewal\n"
   ]
  },
  {
   "cell_type": "code",
   "execution_count": null,
   "metadata": {},
   "outputs": [],
   "source": [
    "train.reset_index(drop=True, inplace=True)"
   ]
  },
  {
   "cell_type": "code",
   "execution_count": null,
   "metadata": {},
   "outputs": [],
   "source": [
    "Let's see how the boxplots changed!\n",
    "\n",
    "Note: I do like applying a light Z-score of 3, although IQR is usually heavier on the data\n"
   ]
  },
  {
   "cell_type": "code",
   "execution_count": null,
   "metadata": {},
   "outputs": [],
   "source": [
    "fig, axs = plt.subplots(nrows=7, figsize=(18,50))\n",
    "# Plot boxplots\n",
    "sns.boxplot((train[\"cons_12m\"].dropna()), ax=axs[0])\n",
    "sns.boxplot((train[train[\"has_gas\"]==1][\"cons_gas_12m\"].dropna()), ax=axs[1]) sns.boxplot((train[\"cons_last_month\"].dropna()), ax=axs[2])\n",
    "sns.boxplot((train[\"forecast_cons_12m\"].dropna()), ax=axs[3])\n",
    "#sns.boxplot((train[\"forecast_cons_year\"].dropna()), ax=axs[4])\n",
    "sns.boxplot((train[\"forecast_meter_rent_12m\"].dropna()), ax=axs[5]) sns.boxplot((train[\"imp_cons\"].dropna()), ax=axs[6])\n",
    "plt.show()\n"
   ]
  },
  {
   "cell_type": "code",
   "execution_count": null,
   "metadata": {},
   "outputs": [],
   "source": [
    "4.\tPickling"
   ]
  },
  {
   "cell_type": "code",
   "execution_count": null,
   "metadata": {},
   "outputs": [],
   "source": [
    "We will pickle the data so that we can easily retrieve it in for the next exercise."
   ]
  },
  {
   "cell_type": "code",
   "execution_count": null,
   "metadata": {},
   "outputs": [],
   "source": [
    "PICKLE_TRAIN_DIR = os.path.join(\"..\", \"processed_data\", \"train_data.pkl\")\n",
    "PICKLE_HISTORY_DIR = os.path.join(\"..\", \"processed_data\", \"history_data.pkl\")\n"
   ]
  },
  {
   "cell_type": "code",
   "execution_count": null,
   "metadata": {},
   "outputs": [],
   "source": [
    "pd.to_pickle(train, PICKLE_TRAIN_DIR)\n",
    "pd.to_pickle(history_data, PICKLE_HISTORY_DIR)\n"
   ]
  },
  {
   "cell_type": "code",
   "execution_count": null,
   "metadata": {},
   "outputs": [],
   "source": []
  },
  {
   "cell_type": "code",
   "execution_count": null,
   "metadata": {},
   "outputs": [],
   "source": []
  },
  {
   "cell_type": "code",
   "execution_count": null,
   "metadata": {},
   "outputs": [],
   "source": []
  }
 ],
 "metadata": {
  "kernelspec": {
   "display_name": "Python 3",
   "language": "python",
   "name": "python3"
  },
  "language_info": {
   "codemirror_mode": {
    "name": "ipython",
    "version": 3
   },
   "file_extension": ".py",
   "mimetype": "text/x-python",
   "name": "python",
   "nbconvert_exporter": "python",
   "pygments_lexer": "ipython3",
   "version": "3.8.5"
  }
 },
 "nbformat": 4,
 "nbformat_minor": 4
}
